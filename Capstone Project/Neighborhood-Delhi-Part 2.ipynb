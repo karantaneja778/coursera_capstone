{
 "cells": [
  {
   "cell_type": "markdown",
   "metadata": {},
   "source": [
    "# Introduction"
   ]
  },
  {
   "cell_type": "markdown",
   "metadata": {},
   "source": [
    "In this notebook, I will be leveraging foursquare location data to explore venues districts in Delhi, India. This will give me insights of what most popular venues are there in each district and the quantity/quality of data that Foursquare has of India."
   ]
  },
  {
   "cell_type": "markdown",
   "metadata": {},
   "source": [
    "#### Import required libraries"
   ]
  },
  {
   "cell_type": "code",
   "execution_count": 1,
   "metadata": {},
   "outputs": [],
   "source": [
    "import requests\n",
    "\n",
    "from bs4 import BeautifulSoup\n",
    "\n",
    "import pandas as pd\n",
    "\n",
    "import numpy as np\n",
    "\n",
    "from geopy.geocoders import Nominatim # convert an address into latitude and longitude values\n",
    "\n",
    "import requests # library to handle requests\n",
    "from pandas.io.json import json_normalize # tranform JSON file into a pandas dataframe\n",
    "\n",
    "# Matplotlib and associated plotting modules\n",
    "import matplotlib.cm as cm\n",
    "import matplotlib.colors as colors\n",
    "\n",
    "# import k-means from clustering stage\n",
    "from sklearn.cluster import KMeans\n",
    "\n",
    "#!pip install folium\n",
    "import folium # map rendering library"
   ]
  },
  {
   "cell_type": "markdown",
   "metadata": {},
   "source": [
    "On exploring internet, I found a blog which has information on all the PostalCodes of Delhi, which mentions district and corresponding neighborhoods as well. I will be reading the required information from the website. \n",
    "www.whatsuplife.in/delhi/blog/zip-pin-postal-code-pincodes-delhi"
   ]
  },
  {
   "cell_type": "code",
   "execution_count": null,
   "metadata": {},
   "outputs": [],
   "source": [
    "# Read the HTML page\n",
    "reponse = requests.get('https://www.whatsuplife.in/delhi/blog/zip-pin-postal-code-pincodes-delhi')\n",
    "soup = BeautifulSoup(reponse.content, 'html.parser')"
   ]
  },
  {
   "cell_type": "markdown",
   "metadata": {},
   "source": [
    "Get all the Districts"
   ]
  },
  {
   "cell_type": "code",
   "execution_count": 3,
   "metadata": {},
   "outputs": [
    {
     "data": {
      "text/plain": [
       "['CENTRAL DELHI',\n",
       " 'SOUTH DELHI',\n",
       " 'WEST DELHI',\n",
       " 'NORTH DELHI',\n",
       " 'EAST DELHI',\n",
       " 'SOUTH WEST DELHI',\n",
       " 'NORTH WEST DELHI']"
      ]
     },
     "execution_count": 3,
     "metadata": {},
     "output_type": "execute_result"
    }
   ],
   "source": [
    "headings = soup.findAll(\"h4\")\n",
    "districts = []\n",
    "for heading in headings:\n",
    "     if heading.findParent(\"h4\") is None:\n",
    "        districts.append(str(heading.text).replace(u'\\xa0', u' '))\n",
    "districts"
   ]
  },
  {
   "cell_type": "code",
   "execution_count": 8,
   "metadata": {},
   "outputs": [],
   "source": [
    "# Define the delhi dataframe\n",
    "delhi_df = pd.DataFrame(columns=['District','Neighborhood', 'PostalCode'])"
   ]
  },
  {
   "cell_type": "markdown",
   "metadata": {},
   "source": [
    "Read all the districts, postal codes and corresponding neighborhoods from the HTML"
   ]
  },
  {
   "cell_type": "code",
   "execution_count": 9,
   "metadata": {},
   "outputs": [
    {
     "name": "stdout",
     "output_type": "stream",
     "text": [
      "The shape of delhi dataframe  (425, 3)\n"
     ]
    }
   ],
   "source": [
    "tables = soup.findAll(\"table\")\n",
    "for table, district in zip(tables, districts):\n",
    "    trs = table.find_all('tr')\n",
    "    trs = [tr for tr in trs if len(tr.find_all('td')) == 2]\n",
    "    neighborhoods = []\n",
    "    postalcodes = []\n",
    "    dis = []\n",
    "    for tr in trs:\n",
    "        tds = tr.find_all('td')\n",
    "        postalcodes.append(tds[1].text)\n",
    "        neighborhoods.append(tds[0].text)\n",
    "        dis.append(district)\n",
    "    df = pd.DataFrame(list(zip(dis, neighborhoods, postalcodes)), columns=['District','Neighborhood', 'PostalCode'])\n",
    "    delhi_df = delhi_df.append(df)\n",
    "    \n",
    "print(\"The shape of delhi dataframe \", delhi_df.shape)"
   ]
  },
  {
   "cell_type": "code",
   "execution_count": 10,
   "metadata": {},
   "outputs": [
    {
     "data": {
      "text/html": [
       "<div>\n",
       "<style scoped>\n",
       "    .dataframe tbody tr th:only-of-type {\n",
       "        vertical-align: middle;\n",
       "    }\n",
       "\n",
       "    .dataframe tbody tr th {\n",
       "        vertical-align: top;\n",
       "    }\n",
       "\n",
       "    .dataframe thead th {\n",
       "        text-align: right;\n",
       "    }\n",
       "</style>\n",
       "<table border=\"1\" class=\"dataframe\">\n",
       "  <thead>\n",
       "    <tr style=\"text-align: right;\">\n",
       "      <th></th>\n",
       "      <th>District</th>\n",
       "      <th>Neighborhood</th>\n",
       "      <th>PostalCode</th>\n",
       "    </tr>\n",
       "  </thead>\n",
       "  <tbody>\n",
       "    <tr>\n",
       "      <th>0</th>\n",
       "      <td>CENTRAL DELHI</td>\n",
       "      <td>A.G.c.r.</td>\n",
       "      <td>110002</td>\n",
       "    </tr>\n",
       "    <tr>\n",
       "      <th>1</th>\n",
       "      <td>CENTRAL DELHI</td>\n",
       "      <td>A.K.market</td>\n",
       "      <td>110055</td>\n",
       "    </tr>\n",
       "    <tr>\n",
       "      <th>2</th>\n",
       "      <td>CENTRAL DELHI</td>\n",
       "      <td>Ajmeri Gate extn.</td>\n",
       "      <td>110002</td>\n",
       "    </tr>\n",
       "    <tr>\n",
       "      <th>3</th>\n",
       "      <td>CENTRAL DELHI</td>\n",
       "      <td>Anand Parbat</td>\n",
       "      <td>110005</td>\n",
       "    </tr>\n",
       "    <tr>\n",
       "      <th>4</th>\n",
       "      <td>CENTRAL DELHI</td>\n",
       "      <td>Anand Parbat indl. area</td>\n",
       "      <td>110005</td>\n",
       "    </tr>\n",
       "  </tbody>\n",
       "</table>\n",
       "</div>"
      ],
      "text/plain": [
       "        District             Neighborhood PostalCode\n",
       "0  CENTRAL DELHI                 A.G.c.r.     110002\n",
       "1  CENTRAL DELHI               A.K.market     110055\n",
       "2  CENTRAL DELHI        Ajmeri Gate extn.     110002\n",
       "3  CENTRAL DELHI             Anand Parbat     110005\n",
       "4  CENTRAL DELHI  Anand Parbat indl. area     110005"
      ]
     },
     "execution_count": 10,
     "metadata": {},
     "output_type": "execute_result"
    }
   ],
   "source": [
    "# Read first five rows\n",
    "delhi_df.head()"
   ]
  },
  {
   "cell_type": "markdown",
   "metadata": {},
   "source": [
    "As you can see above, there are mulitple neighborhoods in same PostalCode and same District.\n",
    "\n",
    "Below I will check the unique counts of each"
   ]
  },
  {
   "cell_type": "code",
   "execution_count": 11,
   "metadata": {},
   "outputs": [
    {
     "data": {
      "text/html": [
       "<div>\n",
       "<style scoped>\n",
       "    .dataframe tbody tr th:only-of-type {\n",
       "        vertical-align: middle;\n",
       "    }\n",
       "\n",
       "    .dataframe tbody tr th {\n",
       "        vertical-align: top;\n",
       "    }\n",
       "\n",
       "    .dataframe thead th {\n",
       "        text-align: right;\n",
       "    }\n",
       "</style>\n",
       "<table border=\"1\" class=\"dataframe\">\n",
       "  <thead>\n",
       "    <tr style=\"text-align: right;\">\n",
       "      <th></th>\n",
       "      <th>District</th>\n",
       "      <th>Neighborhood</th>\n",
       "      <th>PostalCode</th>\n",
       "    </tr>\n",
       "  </thead>\n",
       "  <tbody>\n",
       "    <tr>\n",
       "      <th>count</th>\n",
       "      <td>425</td>\n",
       "      <td>425</td>\n",
       "      <td>425</td>\n",
       "    </tr>\n",
       "    <tr>\n",
       "      <th>unique</th>\n",
       "      <td>7</td>\n",
       "      <td>424</td>\n",
       "      <td>84</td>\n",
       "    </tr>\n",
       "    <tr>\n",
       "      <th>top</th>\n",
       "      <td>SOUTH DELHI</td>\n",
       "      <td>Shivaji Park</td>\n",
       "      <td>110001</td>\n",
       "    </tr>\n",
       "    <tr>\n",
       "      <th>freq</th>\n",
       "      <td>77</td>\n",
       "      <td>2</td>\n",
       "      <td>19</td>\n",
       "    </tr>\n",
       "  </tbody>\n",
       "</table>\n",
       "</div>"
      ],
      "text/plain": [
       "           District  Neighborhood PostalCode\n",
       "count           425           425        425\n",
       "unique            7           424         84\n",
       "top     SOUTH DELHI  Shivaji Park     110001\n",
       "freq             77             2         19"
      ]
     },
     "execution_count": 11,
     "metadata": {},
     "output_type": "execute_result"
    }
   ],
   "source": [
    "delhi_df.describe()"
   ]
  },
  {
   "cell_type": "markdown",
   "metadata": {},
   "source": [
    "So there are 7 Unique Districts, 424 Unique Neighborhoods and 84 Unique PostalCodes"
   ]
  },
  {
   "cell_type": "markdown",
   "metadata": {},
   "source": [
    "Now lets join the neihborhoods, based on common PostalCode so that we have list of neighborhoods in one cell that correspond to a PostalCode"
   ]
  },
  {
   "cell_type": "code",
   "execution_count": 14,
   "metadata": {},
   "outputs": [
    {
     "data": {
      "text/plain": [
       "{'District': 'first',\n",
       " 'Neighborhood': <function __main__.<lambda>(x)>,\n",
       " 'PostalCode': 'first'}"
      ]
     },
     "execution_count": 14,
     "metadata": {},
     "output_type": "execute_result"
    }
   ],
   "source": [
    "strjoin = lambda x: ', '.join(set(x))\n",
    "agg_functions = {'District': 'first', 'Neighborhood': strjoin, 'PostalCode': 'first'}\n",
    "agg_functions"
   ]
  },
  {
   "cell_type": "code",
   "execution_count": 16,
   "metadata": {},
   "outputs": [
    {
     "data": {
      "text/html": [
       "<div>\n",
       "<style scoped>\n",
       "    .dataframe tbody tr th:only-of-type {\n",
       "        vertical-align: middle;\n",
       "    }\n",
       "\n",
       "    .dataframe tbody tr th {\n",
       "        vertical-align: top;\n",
       "    }\n",
       "\n",
       "    .dataframe thead th {\n",
       "        text-align: right;\n",
       "    }\n",
       "</style>\n",
       "<table border=\"1\" class=\"dataframe\">\n",
       "  <thead>\n",
       "    <tr style=\"text-align: right;\">\n",
       "      <th></th>\n",
       "      <th>District</th>\n",
       "      <th>Neighborhood</th>\n",
       "      <th>PostalCode</th>\n",
       "    </tr>\n",
       "  </thead>\n",
       "  <tbody>\n",
       "    <tr>\n",
       "      <th>0</th>\n",
       "      <td>CENTRAL DELHI</td>\n",
       "      <td>Connaught Place, Bengali Market, Janpath, Nort...</td>\n",
       "      <td>110001</td>\n",
       "    </tr>\n",
       "    <tr>\n",
       "      <th>1</th>\n",
       "      <td>CENTRAL DELHI</td>\n",
       "      <td>Indraprastha, Gandhi Smarak nidhi, Darya Ganj,...</td>\n",
       "      <td>110002</td>\n",
       "    </tr>\n",
       "    <tr>\n",
       "      <th>2</th>\n",
       "      <td>CENTRAL DELHI</td>\n",
       "      <td>Pandara Road, Pragati Vihar, Delhi High court,...</td>\n",
       "      <td>110003</td>\n",
       "    </tr>\n",
       "    <tr>\n",
       "      <th>3</th>\n",
       "      <td>CENTRAL DELHI</td>\n",
       "      <td>Rashtrapati Bhawan</td>\n",
       "      <td>110004</td>\n",
       "    </tr>\n",
       "    <tr>\n",
       "      <th>4</th>\n",
       "      <td>CENTRAL DELHI</td>\n",
       "      <td>Bank Street, Sat Nagar, Desh Bandhu gupta road...</td>\n",
       "      <td>110005</td>\n",
       "    </tr>\n",
       "  </tbody>\n",
       "</table>\n",
       "</div>"
      ],
      "text/plain": [
       "        District                                       Neighborhood PostalCode\n",
       "0  CENTRAL DELHI  Connaught Place, Bengali Market, Janpath, Nort...     110001\n",
       "1  CENTRAL DELHI  Indraprastha, Gandhi Smarak nidhi, Darya Ganj,...     110002\n",
       "2  CENTRAL DELHI  Pandara Road, Pragati Vihar, Delhi High court,...     110003\n",
       "3  CENTRAL DELHI                                 Rashtrapati Bhawan     110004\n",
       "4  CENTRAL DELHI  Bank Street, Sat Nagar, Desh Bandhu gupta road...     110005"
      ]
     },
     "execution_count": 16,
     "metadata": {},
     "output_type": "execute_result"
    }
   ],
   "source": [
    "delhi_cleaned_df = delhi_df.groupby(delhi_df['PostalCode']).aggregate(agg_functions)\n",
    "delhi_cleaned_df = delhi_cleaned_df.reset_index(drop=True)\n",
    "delhi_cleaned_df.head()"
   ]
  },
  {
   "cell_type": "markdown",
   "metadata": {},
   "source": [
    "Check again for unique counts"
   ]
  },
  {
   "cell_type": "code",
   "execution_count": 17,
   "metadata": {},
   "outputs": [
    {
     "data": {
      "text/html": [
       "<div>\n",
       "<style scoped>\n",
       "    .dataframe tbody tr th:only-of-type {\n",
       "        vertical-align: middle;\n",
       "    }\n",
       "\n",
       "    .dataframe tbody tr th {\n",
       "        vertical-align: top;\n",
       "    }\n",
       "\n",
       "    .dataframe thead th {\n",
       "        text-align: right;\n",
       "    }\n",
       "</style>\n",
       "<table border=\"1\" class=\"dataframe\">\n",
       "  <thead>\n",
       "    <tr style=\"text-align: right;\">\n",
       "      <th></th>\n",
       "      <th>District</th>\n",
       "      <th>Neighborhood</th>\n",
       "      <th>PostalCode</th>\n",
       "    </tr>\n",
       "  </thead>\n",
       "  <tbody>\n",
       "    <tr>\n",
       "      <th>count</th>\n",
       "      <td>84</td>\n",
       "      <td>84</td>\n",
       "      <td>84</td>\n",
       "    </tr>\n",
       "    <tr>\n",
       "      <th>unique</th>\n",
       "      <td>7</td>\n",
       "      <td>84</td>\n",
       "      <td>84</td>\n",
       "    </tr>\n",
       "    <tr>\n",
       "      <th>top</th>\n",
       "      <td>SOUTH WEST DELHI</td>\n",
       "      <td>Daulatpur, Baprola, Dichaoal Kalan, Dulsiras, ...</td>\n",
       "      <td>110062</td>\n",
       "    </tr>\n",
       "    <tr>\n",
       "      <th>freq</th>\n",
       "      <td>22</td>\n",
       "      <td>1</td>\n",
       "      <td>1</td>\n",
       "    </tr>\n",
       "  </tbody>\n",
       "</table>\n",
       "</div>"
      ],
      "text/plain": [
       "                District                                       Neighborhood  \\\n",
       "count                 84                                                 84   \n",
       "unique                 7                                                 84   \n",
       "top     SOUTH WEST DELHI  Daulatpur, Baprola, Dichaoal Kalan, Dulsiras, ...   \n",
       "freq                  22                                                  1   \n",
       "\n",
       "       PostalCode  \n",
       "count          84  \n",
       "unique         84  \n",
       "top        110062  \n",
       "freq            1  "
      ]
     },
     "execution_count": 17,
     "metadata": {},
     "output_type": "execute_result"
    }
   ],
   "source": [
    "delhi_cleaned_df.describe()"
   ]
  },
  {
   "cell_type": "markdown",
   "metadata": {},
   "source": [
    "I will use Nominatim library to get Latitude, Longitude of each PostalCode in Delhi"
   ]
  },
  {
   "cell_type": "code",
   "execution_count": 18,
   "metadata": {},
   "outputs": [
    {
     "name": "stdout",
     "output_type": "stream",
     "text": [
      "The geograpical coordinate of Delhi are 28.6517178, 77.2219388.\n"
     ]
    }
   ],
   "source": [
    "locator = Nominatim(user_agent='myGeocoder')\n",
    "location = locator.geocode('Delhi, India')\n",
    "latitude = location.latitude\n",
    "longitude = location.longitude\n",
    "print('The geograpical coordinate of Delhi are {}, {}.'.format(latitude, longitude))"
   ]
  },
  {
   "cell_type": "code",
   "execution_count": null,
   "metadata": {},
   "outputs": [],
   "source": [
    "# Since this does not work all the time, it is better to save the data when successfully retrieved.\n",
    "from time import sleep\n",
    "\n",
    "def get_lat_lon(postal_code):\n",
    "    location = locator.geocode('{}, Delhi, India'.format(postal_code))\n",
    "    sleep(2)\n",
    "    return (location.latitude, location.longitude)\n",
    "\n",
    "ll_df = pd.DataFrame(columns=['PostalCode', 'Latitude', 'Longitude'])\n",
    "\n",
    "pcodes = []\n",
    "lat_list = []\n",
    "lon_list = []\n",
    "\n",
    "for postal_code in delhi_cleaned_df['PostalCode']:\n",
    "    lat, lon = get_lat_lon(postal_code)\n",
    "    pcodes.append(postal_code)\n",
    "    lat_list.append(lat)\n",
    "    lon_list.append(lon)"
   ]
  },
  {
   "cell_type": "code",
   "execution_count": null,
   "metadata": {},
   "outputs": [],
   "source": [
    "ll_df['PostalCode'] = pcodes\n",
    "ll_df['Latitude'] = lat_list\n",
    "ll_df['Longitude'] = lon_list"
   ]
  },
  {
   "cell_type": "code",
   "execution_count": 32,
   "metadata": {},
   "outputs": [
    {
     "data": {
      "text/html": [
       "<div>\n",
       "<style scoped>\n",
       "    .dataframe tbody tr th:only-of-type {\n",
       "        vertical-align: middle;\n",
       "    }\n",
       "\n",
       "    .dataframe tbody tr th {\n",
       "        vertical-align: top;\n",
       "    }\n",
       "\n",
       "    .dataframe thead th {\n",
       "        text-align: right;\n",
       "    }\n",
       "</style>\n",
       "<table border=\"1\" class=\"dataframe\">\n",
       "  <thead>\n",
       "    <tr style=\"text-align: right;\">\n",
       "      <th></th>\n",
       "      <th>PostalCode</th>\n",
       "      <th>Latitude</th>\n",
       "      <th>Longitude</th>\n",
       "    </tr>\n",
       "  </thead>\n",
       "  <tbody>\n",
       "    <tr>\n",
       "      <th>0</th>\n",
       "      <td>110002</td>\n",
       "      <td>28.640964</td>\n",
       "      <td>77.245468</td>\n",
       "    </tr>\n",
       "    <tr>\n",
       "      <th>1</th>\n",
       "      <td>110055</td>\n",
       "      <td>28.652506</td>\n",
       "      <td>77.213391</td>\n",
       "    </tr>\n",
       "    <tr>\n",
       "      <th>2</th>\n",
       "      <td>110005</td>\n",
       "      <td>28.650529</td>\n",
       "      <td>77.189018</td>\n",
       "    </tr>\n",
       "    <tr>\n",
       "      <th>3</th>\n",
       "      <td>110001</td>\n",
       "      <td>28.651718</td>\n",
       "      <td>77.221939</td>\n",
       "    </tr>\n",
       "    <tr>\n",
       "      <th>4</th>\n",
       "      <td>110008</td>\n",
       "      <td>28.656175</td>\n",
       "      <td>77.162460</td>\n",
       "    </tr>\n",
       "  </tbody>\n",
       "</table>\n",
       "</div>"
      ],
      "text/plain": [
       "   PostalCode   Latitude  Longitude\n",
       "0      110002  28.640964  77.245468\n",
       "1      110055  28.652506  77.213391\n",
       "2      110005  28.650529  77.189018\n",
       "3      110001  28.651718  77.221939\n",
       "4      110008  28.656175  77.162460"
      ]
     },
     "execution_count": 32,
     "metadata": {},
     "output_type": "execute_result"
    }
   ],
   "source": [
    "#if above is not a success\n",
    "ll_df = pd.read_csv('Postcode_lat_lon.csv', index_col=0)\n",
    "ll_df.head()"
   ]
  },
  {
   "cell_type": "markdown",
   "metadata": {},
   "source": [
    "Add these to delhi dataframe"
   ]
  },
  {
   "cell_type": "code",
   "execution_count": 37,
   "metadata": {},
   "outputs": [],
   "source": [
    "delhi_cleaned_df['PostalCode'] = delhi_cleaned_df.PostalCode.astype(int)"
   ]
  },
  {
   "cell_type": "code",
   "execution_count": 38,
   "metadata": {},
   "outputs": [],
   "source": [
    "delhi_cleaned_df = delhi_cleaned_df.join(ll_df.set_index('PostalCode'), on='PostalCode')"
   ]
  },
  {
   "cell_type": "code",
   "execution_count": 39,
   "metadata": {},
   "outputs": [
    {
     "data": {
      "text/html": [
       "<div>\n",
       "<style scoped>\n",
       "    .dataframe tbody tr th:only-of-type {\n",
       "        vertical-align: middle;\n",
       "    }\n",
       "\n",
       "    .dataframe tbody tr th {\n",
       "        vertical-align: top;\n",
       "    }\n",
       "\n",
       "    .dataframe thead th {\n",
       "        text-align: right;\n",
       "    }\n",
       "</style>\n",
       "<table border=\"1\" class=\"dataframe\">\n",
       "  <thead>\n",
       "    <tr style=\"text-align: right;\">\n",
       "      <th></th>\n",
       "      <th>District</th>\n",
       "      <th>Neighborhood</th>\n",
       "      <th>PostalCode</th>\n",
       "      <th>Latitude</th>\n",
       "      <th>Longitude</th>\n",
       "    </tr>\n",
       "  </thead>\n",
       "  <tbody>\n",
       "    <tr>\n",
       "      <th>0</th>\n",
       "      <td>CENTRAL DELHI</td>\n",
       "      <td>Connaught Place, Bengali Market, Janpath, Nort...</td>\n",
       "      <td>110001</td>\n",
       "      <td>28.651718</td>\n",
       "      <td>77.221939</td>\n",
       "    </tr>\n",
       "    <tr>\n",
       "      <th>1</th>\n",
       "      <td>CENTRAL DELHI</td>\n",
       "      <td>Indraprastha, Gandhi Smarak nidhi, Darya Ganj,...</td>\n",
       "      <td>110002</td>\n",
       "      <td>28.640964</td>\n",
       "      <td>77.245468</td>\n",
       "    </tr>\n",
       "    <tr>\n",
       "      <th>2</th>\n",
       "      <td>CENTRAL DELHI</td>\n",
       "      <td>Pandara Road, Pragati Vihar, Delhi High court,...</td>\n",
       "      <td>110003</td>\n",
       "      <td>28.598731</td>\n",
       "      <td>77.222996</td>\n",
       "    </tr>\n",
       "    <tr>\n",
       "      <th>3</th>\n",
       "      <td>CENTRAL DELHI</td>\n",
       "      <td>Rashtrapati Bhawan</td>\n",
       "      <td>110004</td>\n",
       "      <td>28.616082</td>\n",
       "      <td>77.204501</td>\n",
       "    </tr>\n",
       "    <tr>\n",
       "      <th>4</th>\n",
       "      <td>CENTRAL DELHI</td>\n",
       "      <td>Bank Street, Sat Nagar, Desh Bandhu gupta road...</td>\n",
       "      <td>110005</td>\n",
       "      <td>28.650529</td>\n",
       "      <td>77.189018</td>\n",
       "    </tr>\n",
       "  </tbody>\n",
       "</table>\n",
       "</div>"
      ],
      "text/plain": [
       "        District                                       Neighborhood  \\\n",
       "0  CENTRAL DELHI  Connaught Place, Bengali Market, Janpath, Nort...   \n",
       "1  CENTRAL DELHI  Indraprastha, Gandhi Smarak nidhi, Darya Ganj,...   \n",
       "2  CENTRAL DELHI  Pandara Road, Pragati Vihar, Delhi High court,...   \n",
       "3  CENTRAL DELHI                                 Rashtrapati Bhawan   \n",
       "4  CENTRAL DELHI  Bank Street, Sat Nagar, Desh Bandhu gupta road...   \n",
       "\n",
       "   PostalCode   Latitude  Longitude  \n",
       "0      110001  28.651718  77.221939  \n",
       "1      110002  28.640964  77.245468  \n",
       "2      110003  28.598731  77.222996  \n",
       "3      110004  28.616082  77.204501  \n",
       "4      110005  28.650529  77.189018  "
      ]
     },
     "execution_count": 39,
     "metadata": {},
     "output_type": "execute_result"
    }
   ],
   "source": [
    "delhi_cleaned_df.head()"
   ]
  },
  {
   "cell_type": "markdown",
   "metadata": {},
   "source": [
    "Save this file to use in Part 2"
   ]
  },
  {
   "cell_type": "code",
   "execution_count": 40,
   "metadata": {},
   "outputs": [],
   "source": [
    "delhi_cleaned_df.to_csv(\"Delhi.csv\")"
   ]
  },
  {
   "cell_type": "code",
   "execution_count": 52,
   "metadata": {},
   "outputs": [
    {
     "data": {
      "text/plain": [
       "District\n",
       "CENTRAL DELHI       12\n",
       "EAST DELHI          10\n",
       "NORTH DELHI          3\n",
       "NORTH WEST DELHI    14\n",
       "SOUTH DELHI         13\n",
       "SOUTH WEST DELHI    22\n",
       "WEST DELHI          10\n",
       "Name: District, dtype: int64"
      ]
     },
     "execution_count": 52,
     "metadata": {},
     "output_type": "execute_result"
    }
   ],
   "source": [
    "delhi_cleaned_df.groupby('District')['District'].count()"
   ]
  },
  {
   "cell_type": "code",
   "execution_count": 54,
   "metadata": {},
   "outputs": [
    {
     "data": {
      "text/plain": [
       "<matplotlib.axes._subplots.AxesSubplot at 0x1d2768ecd30>"
      ]
     },
     "execution_count": 54,
     "metadata": {},
     "output_type": "execute_result"
    },
    {
     "data": {
      "image/png": "[encoded data removed]",
      "text/plain": [
       "<Figure size 432x288 with 1 Axes>"
      ]
     },
     "metadata": {
      "needs_background": "light"
     },
     "output_type": "display_data"
    }
   ],
   "source": [
    "delhi_cleaned_df.groupby('District')['District'].count().plot.bar()"
   ]
  },
  {
   "cell_type": "markdown",
   "metadata": {},
   "source": [
    "Create a map of delhi with all the postalcodes/neighborhoods"
   ]
  },
  {
   "cell_type": "code",
   "execution_count": 55,
   "metadata": {},
   "outputs": [
    {
     "data": {
      "text/html": [
       "<div style=\"width:100%;\"><div style=\"position:relative;width:100%;height:0;padding-bottom:60%;\"><span style=\"color:#565656\">Make this Notebook Trusted to load map: File -> Trust Notebook</span><iframe src=\"about:blank\" style=\"position:absolute;width:100%;height:100%;left:0;top:0;border:none !important;\" data-html=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 onload=\"this.contentDocument.open();this.contentDocument.write(atob(this.getAttribute('data-html')));this.contentDocument.close();\" allowfullscreen webkitallowfullscreen mozallowfullscreen></iframe></div></div>"
      ],
      "text/plain": [
       "<folium.folium.Map at 0x1d2768eccc0>"
      ]
     },
     "execution_count": 55,
     "metadata": {},
     "output_type": "execute_result"
    }
   ],
   "source": [
    "# create map of Delhi using latitude and longitude values\n",
    "map_delhi = folium.Map(location=[latitude, longitude], zoom_start=10)\n",
    "\n",
    "# add markers to map\n",
    "for lat, lng, district, neighborhood in zip(delhi_cleaned_df['Latitude'], delhi_cleaned_df['Longitude'], delhi_cleaned_df['District'], delhi_cleaned_df['Neighborhood']):\n",
    "    label = '{}, {}'.format(neighborhood, district)\n",
    "    label = folium.Popup(label, parse_html=True)\n",
    "    folium.CircleMarker(\n",
    "        [lat, lng],\n",
    "        radius=5,\n",
    "        popup=label,\n",
    "        color='blue',\n",
    "        fill=True,\n",
    "        fill_color='#3186cc',\n",
    "        fill_opacity=0.7,\n",
    "        parse_html=False).add_to(map_delhi)  \n",
    "    \n",
    "map_delhi"
   ]
  },
  {
   "cell_type": "markdown",
   "metadata": {},
   "source": [
    "I will be using the above obtained data to figure out the venue data that foursquare has and can we find some insights among different districts of Delhi."
   ]
  },
  {
   "cell_type": "markdown",
   "metadata": {},
   "source": [
    "### Part 2"
   ]
  },
  {
   "cell_type": "markdown",
   "metadata": {},
   "source": [
    "Prepare to use Foursquare API"
   ]
  },
  {
   "cell_type": "code",
   "execution_count": 100,
   "metadata": {},
   "outputs": [],
   "source": [
    "CLIENT_ID = '*************************' # your Foursquare ID\n",
    "CLIENT_SECRET = '*************************' # your Foursquare Secret\n",
    "VERSION = '20180605' # Foursquare API version\n",
    "LIMIT=100"
   ]
  },
  {
   "cell_type": "code",
   "execution_count": 67,
   "metadata": {},
   "outputs": [],
   "source": [
    "# Define function to get nearby venues from Foursquare \"Venues Explore\" API\n",
    "def getNearbyVenues(names, latitudes, longitudes, radius=500):\n",
    "    \n",
    "    venues_list=[]\n",
    "    for name, lat, lng in zip(names, latitudes, longitudes):\n",
    "        print(name, \" fetched\")\n",
    "            \n",
    "        # create the API request URL\n",
    "        url = 'https://api.foursquare.com/v2/venues/explore?&client_id={}&client_secret={}&v={}&ll={},{}&radius={}&limit={}'.format(\n",
    "            CLIENT_ID, \n",
    "            CLIENT_SECRET, \n",
    "            VERSION, \n",
    "            lat, \n",
    "            lng, \n",
    "            radius, \n",
    "            LIMIT)\n",
    "            \n",
    "        # make the GET request\n",
    "        results = requests.get(url).json()[\"response\"]['groups'][0]['items']\n",
    "        \n",
    "        # return only relevant information for each nearby venue\n",
    "        venues_list.append([(\n",
    "            name, \n",
    "            lat, \n",
    "            lng, \n",
    "            v['venue']['name'], \n",
    "            v['venue']['location']['lat'], \n",
    "            v['venue']['location']['lng'],  \n",
    "            v['venue']['categories'][0]['name']) for v in results])\n",
    "\n",
    "    nearby_venues = pd.DataFrame([item for venue_list in venues_list for item in venue_list])\n",
    "    nearby_venues.columns = ['PostalCode', \n",
    "                  'PostalCode Latitude', \n",
    "                  'PostalCode Longitude', \n",
    "                  'Venue', \n",
    "                  'Venue Latitude', \n",
    "                  'Venue Longitude', \n",
    "                  'Venue Category']\n",
    "    \n",
    "    return(nearby_venues)"
   ]
  },
  {
   "cell_type": "markdown",
   "metadata": {},
   "source": [
    "Fetch top 100 venues from each Postal Code"
   ]
  },
  {
   "cell_type": "code",
   "execution_count": 68,
   "metadata": {},
   "outputs": [
    {
     "name": "stdout",
     "output_type": "stream",
     "text": [
      "110001  fetched\n",
      "110002  fetched\n",
      "110003  fetched\n",
      "110004  fetched\n",
      "110005  fetched\n",
      "110006  fetched\n",
      "110007  fetched\n",
      "110008  fetched\n",
      "110009  fetched\n",
      "110010  fetched\n",
      "110011  fetched\n",
      "110012  fetched\n",
      "110013  fetched\n",
      "110014  fetched\n",
      "110015  fetched\n",
      "110016  fetched\n",
      "110017  fetched\n",
      "110018  fetched\n",
      "110019  fetched\n",
      "110020  fetched\n",
      "110021  fetched\n",
      "110023  fetched\n",
      "110024  fetched\n",
      "110025  fetched\n",
      "110026  fetched\n",
      "110027  fetched\n",
      "110028  fetched\n",
      "110029  fetched\n",
      "110030  fetched\n",
      "110031  fetched\n",
      "110032  fetched\n",
      "110033  fetched\n",
      "110034  fetched\n",
      "110035  fetched\n",
      "110036  fetched\n",
      "110037  fetched\n",
      "110038  fetched\n",
      "110039  fetched\n",
      "110040  fetched\n",
      "110041  fetched\n",
      "110042  fetched\n",
      "110043  fetched\n",
      "110044  fetched\n",
      "110045  fetched\n",
      "110047  fetched\n",
      "110048  fetched\n",
      "110049  fetched\n",
      "110051  fetched\n",
      "110052  fetched\n",
      "110053  fetched\n",
      "110054  fetched\n",
      "110055  fetched\n",
      "110058  fetched\n",
      "110059  fetched\n",
      "110060  fetched\n",
      "110061  fetched\n",
      "110062  fetched\n",
      "110063  fetched\n",
      "110064  fetched\n",
      "110065  fetched\n",
      "110067  fetched\n",
      "110068  fetched\n",
      "110069  fetched\n",
      "110071  fetched\n",
      "110072  fetched\n",
      "110073  fetched\n",
      "110074  fetched\n",
      "110075  fetched\n",
      "110076  fetched\n",
      "110077  fetched\n",
      "110078  fetched\n",
      "110081  fetched\n",
      "110082  fetched\n",
      "110083  fetched\n",
      "110084  fetched\n",
      "110086  fetched\n",
      "110087  fetched\n",
      "110088  fetched\n",
      "110091  fetched\n",
      "110092  fetched\n",
      "110093  fetched\n",
      "110094  fetched\n",
      "110095  fetched\n",
      "110096  fetched\n"
     ]
    }
   ],
   "source": [
    "delhi_venues = getNearbyVenues(names=delhi_cleaned_df['PostalCode'],\n",
    "                                  latitudes=delhi_cleaned_df['Latitude'],\n",
    "                                  longitudes=delhi_cleaned_df['Longitude'])"
   ]
  },
  {
   "cell_type": "code",
   "execution_count": 69,
   "metadata": {},
   "outputs": [
    {
     "name": "stdout",
     "output_type": "stream",
     "text": [
      "Number of venues fetched for 84 PostalCodes are : 409\n"
     ]
    }
   ],
   "source": [
    "# Print number of venues fetched\n",
    "print(\"Number of venues fetched for 84 PostalCodes are :\", delhi_venues.shape[0])"
   ]
  },
  {
   "cell_type": "code",
   "execution_count": 70,
   "metadata": {},
   "outputs": [
    {
     "data": {
      "text/html": [
       "<div>\n",
       "<style scoped>\n",
       "    .dataframe tbody tr th:only-of-type {\n",
       "        vertical-align: middle;\n",
       "    }\n",
       "\n",
       "    .dataframe tbody tr th {\n",
       "        vertical-align: top;\n",
       "    }\n",
       "\n",
       "    .dataframe thead th {\n",
       "        text-align: right;\n",
       "    }\n",
       "</style>\n",
       "<table border=\"1\" class=\"dataframe\">\n",
       "  <thead>\n",
       "    <tr style=\"text-align: right;\">\n",
       "      <th></th>\n",
       "      <th>PostalCode</th>\n",
       "      <th>PostalCode Latitude</th>\n",
       "      <th>PostalCode Longitude</th>\n",
       "      <th>Venue</th>\n",
       "      <th>Venue Latitude</th>\n",
       "      <th>Venue Longitude</th>\n",
       "      <th>Venue Category</th>\n",
       "    </tr>\n",
       "  </thead>\n",
       "  <tbody>\n",
       "    <tr>\n",
       "      <th>0</th>\n",
       "      <td>110002</td>\n",
       "      <td>28.640964</td>\n",
       "      <td>77.245468</td>\n",
       "      <td>National Gandhi Museum</td>\n",
       "      <td>28.638919</td>\n",
       "      <td>77.245926</td>\n",
       "      <td>History Museum</td>\n",
       "    </tr>\n",
       "    <tr>\n",
       "      <th>1</th>\n",
       "      <td>110002</td>\n",
       "      <td>28.640964</td>\n",
       "      <td>77.245468</td>\n",
       "      <td>Feroz Shah Kotla Stadium | फिरोज शाह कोटला स्ट...</td>\n",
       "      <td>28.637907</td>\n",
       "      <td>77.241869</td>\n",
       "      <td>Cricket Ground</td>\n",
       "    </tr>\n",
       "    <tr>\n",
       "      <th>2</th>\n",
       "      <td>110002</td>\n",
       "      <td>28.640964</td>\n",
       "      <td>77.245468</td>\n",
       "      <td>Ansari Road, Daryaganj</td>\n",
       "      <td>28.642258</td>\n",
       "      <td>77.241534</td>\n",
       "      <td>Road</td>\n",
       "    </tr>\n",
       "    <tr>\n",
       "      <th>3</th>\n",
       "      <td>110003</td>\n",
       "      <td>28.598731</td>\n",
       "      <td>77.222996</td>\n",
       "      <td>L'Opera</td>\n",
       "      <td>28.599784</td>\n",
       "      <td>77.226144</td>\n",
       "      <td>Café</td>\n",
       "    </tr>\n",
       "    <tr>\n",
       "      <th>4</th>\n",
       "      <td>110003</td>\n",
       "      <td>28.598731</td>\n",
       "      <td>77.222996</td>\n",
       "      <td>SODABOTTLEOPENERWALA</td>\n",
       "      <td>28.600141</td>\n",
       "      <td>77.226273</td>\n",
       "      <td>Irani Cafe</td>\n",
       "    </tr>\n",
       "  </tbody>\n",
       "</table>\n",
       "</div>"
      ],
      "text/plain": [
       "   PostalCode  PostalCode Latitude  PostalCode Longitude  \\\n",
       "0      110002            28.640964             77.245468   \n",
       "1      110002            28.640964             77.245468   \n",
       "2      110002            28.640964             77.245468   \n",
       "3      110003            28.598731             77.222996   \n",
       "4      110003            28.598731             77.222996   \n",
       "\n",
       "                                               Venue  Venue Latitude  \\\n",
       "0                             National Gandhi Museum       28.638919   \n",
       "1  Feroz Shah Kotla Stadium | फिरोज शाह कोटला स्ट...       28.637907   \n",
       "2                             Ansari Road, Daryaganj       28.642258   \n",
       "3                                            L'Opera       28.599784   \n",
       "4                               SODABOTTLEOPENERWALA       28.600141   \n",
       "\n",
       "   Venue Longitude  Venue Category  \n",
       "0        77.245926  History Museum  \n",
       "1        77.241869  Cricket Ground  \n",
       "2        77.241534            Road  \n",
       "3        77.226144            Café  \n",
       "4        77.226273      Irani Cafe  "
      ]
     },
     "execution_count": 70,
     "metadata": {},
     "output_type": "execute_result"
    }
   ],
   "source": [
    "# Read the dataframe\n",
    "delhi_venues.head()"
   ]
  },
  {
   "cell_type": "code",
   "execution_count": 71,
   "metadata": {},
   "outputs": [
    {
     "name": "stdout",
     "output_type": "stream",
     "text": [
      "There are 99 uniques categories for 84 postal codes\n"
     ]
    }
   ],
   "source": [
    "print('There are {} uniques categories for 84 postal codes'.format(len(delhi_venues['Venue Category'].unique())))"
   ]
  },
  {
   "cell_type": "markdown",
   "metadata": {},
   "source": [
    "### Prepare data for Analysis"
   ]
  },
  {
   "cell_type": "markdown",
   "metadata": {},
   "source": [
    "Step 1 Decide on the venues returned"
   ]
  },
  {
   "cell_type": "code",
   "execution_count": 78,
   "metadata": {},
   "outputs": [
    {
     "data": {
      "text/plain": [
       "PostalCode\n",
       "110002     3\n",
       "110003    23\n",
       "110004     2\n",
       "110005    12\n",
       "110006     8\n",
       "110007     4\n",
       "110008     1\n",
       "110009     2\n",
       "110013     4\n",
       "110014     5\n",
       "110015     3\n",
       "110016     7\n",
       "110017     7\n",
       "110018     1\n",
       "110019     4\n",
       "110020    20\n",
       "110021     5\n",
       "110023     6\n",
       "110024    13\n",
       "110025     6\n",
       "110026     5\n",
       "110027    11\n",
       "110029     4\n",
       "110030     6\n",
       "110031     2\n",
       "110032     1\n",
       "110033     1\n",
       "110034     4\n",
       "110036     2\n",
       "110037     7\n",
       "          ..\n",
       "110049     5\n",
       "110051     2\n",
       "110053     2\n",
       "110054     6\n",
       "110055     2\n",
       "110058     3\n",
       "110059     2\n",
       "110060     6\n",
       "110062     2\n",
       "110063     5\n",
       "110064     5\n",
       "110065     2\n",
       "110067     3\n",
       "110068     5\n",
       "110069    20\n",
       "110071     1\n",
       "110075     3\n",
       "110076    18\n",
       "110077     2\n",
       "110078     2\n",
       "110083     2\n",
       "110084     1\n",
       "110087     4\n",
       "110088     1\n",
       "110091     1\n",
       "110092     7\n",
       "110093     1\n",
       "110094     1\n",
       "110095     3\n",
       "110096     1\n",
       "Name: Venue Category, Length: 68, dtype: int64"
      ]
     },
     "execution_count": 78,
     "metadata": {},
     "output_type": "execute_result"
    }
   ],
   "source": [
    "delhi_venues.groupby('PostalCode')['Venue Category'].nunique()"
   ]
  },
  {
   "cell_type": "code",
   "execution_count": 84,
   "metadata": {},
   "outputs": [
    {
     "data": {
      "text/plain": [
       "<matplotlib.axes._subplots.AxesSubplot at 0x1d274adda20>"
      ]
     },
     "execution_count": 84,
     "metadata": {},
     "output_type": "execute_result"
    },
    {
     "data": {
      "image/png": "[encoded data removed]",
      "text/plain": [
       "<Figure size 432x288 with 1 Axes>"
      ]
     },
     "metadata": {
      "needs_background": "light"
     },
     "output_type": "display_data"
    }
   ],
   "source": [
    "delhi_venues['District'] = delhi_cleaned_df['District']\n",
    "delhi_venues.groupby('District')['Venue Category'].nunique().plot.bar()"
   ]
  },
  {
   "cell_type": "markdown",
   "metadata": {},
   "source": [
    "As you can see above, postal codes does not give good data of unique categories, on the other hand with District wise unique venues is ok with minimum 3 different categories for North West Delhi. Hence I will be using district wise venues data for further analysis"
   ]
  },
  {
   "cell_type": "markdown",
   "metadata": {},
   "source": [
    "Step 2 One Hot Encoding"
   ]
  },
  {
   "cell_type": "code",
   "execution_count": 90,
   "metadata": {},
   "outputs": [],
   "source": [
    "# one hot encoding\n",
    "delhi_onehot = pd.get_dummies(delhi_venues[['Venue Category']], prefix=\"\", prefix_sep=\"\")\n",
    "\n",
    "# add  District column back to dataframe\n",
    "delhi_onehot['District'] = delhi_venues['District']"
   ]
  },
  {
   "cell_type": "code",
   "execution_count": 92,
   "metadata": {},
   "outputs": [
    {
     "data": {
      "text/html": [
       "<div>\n",
       "<style scoped>\n",
       "    .dataframe tbody tr th:only-of-type {\n",
       "        vertical-align: middle;\n",
       "    }\n",
       "\n",
       "    .dataframe tbody tr th {\n",
       "        vertical-align: top;\n",
       "    }\n",
       "\n",
       "    .dataframe thead th {\n",
       "        text-align: right;\n",
       "    }\n",
       "</style>\n",
       "<table border=\"1\" class=\"dataframe\">\n",
       "  <thead>\n",
       "    <tr style=\"text-align: right;\">\n",
       "      <th></th>\n",
       "      <th>District</th>\n",
       "      <th>ATM</th>\n",
       "      <th>Airport Food Court</th>\n",
       "      <th>American Restaurant</th>\n",
       "      <th>Arcade</th>\n",
       "      <th>Asian Restaurant</th>\n",
       "      <th>Athletics &amp; Sports</th>\n",
       "      <th>BBQ Joint</th>\n",
       "      <th>Bakery</th>\n",
       "      <th>Bar</th>\n",
       "      <th>...</th>\n",
       "      <th>Shopping Plaza</th>\n",
       "      <th>Snack Place</th>\n",
       "      <th>Soccer Field</th>\n",
       "      <th>South Indian Restaurant</th>\n",
       "      <th>Spa</th>\n",
       "      <th>Spiritual Center</th>\n",
       "      <th>Sporting Goods Shop</th>\n",
       "      <th>Thai Restaurant</th>\n",
       "      <th>Train Station</th>\n",
       "      <th>Women's Store</th>\n",
       "    </tr>\n",
       "  </thead>\n",
       "  <tbody>\n",
       "    <tr>\n",
       "      <th>0</th>\n",
       "      <td>CENTRAL DELHI</td>\n",
       "      <td>0</td>\n",
       "      <td>0</td>\n",
       "      <td>0</td>\n",
       "      <td>0</td>\n",
       "      <td>0</td>\n",
       "      <td>0</td>\n",
       "      <td>0</td>\n",
       "      <td>0</td>\n",
       "      <td>0</td>\n",
       "      <td>...</td>\n",
       "      <td>0</td>\n",
       "      <td>0</td>\n",
       "      <td>0</td>\n",
       "      <td>0</td>\n",
       "      <td>0</td>\n",
       "      <td>0</td>\n",
       "      <td>0</td>\n",
       "      <td>0</td>\n",
       "      <td>0</td>\n",
       "      <td>0</td>\n",
       "    </tr>\n",
       "    <tr>\n",
       "      <th>1</th>\n",
       "      <td>CENTRAL DELHI</td>\n",
       "      <td>0</td>\n",
       "      <td>0</td>\n",
       "      <td>0</td>\n",
       "      <td>0</td>\n",
       "      <td>0</td>\n",
       "      <td>0</td>\n",
       "      <td>0</td>\n",
       "      <td>0</td>\n",
       "      <td>0</td>\n",
       "      <td>...</td>\n",
       "      <td>0</td>\n",
       "      <td>0</td>\n",
       "      <td>0</td>\n",
       "      <td>0</td>\n",
       "      <td>0</td>\n",
       "      <td>0</td>\n",
       "      <td>0</td>\n",
       "      <td>0</td>\n",
       "      <td>0</td>\n",
       "      <td>0</td>\n",
       "    </tr>\n",
       "    <tr>\n",
       "      <th>2</th>\n",
       "      <td>CENTRAL DELHI</td>\n",
       "      <td>0</td>\n",
       "      <td>0</td>\n",
       "      <td>0</td>\n",
       "      <td>0</td>\n",
       "      <td>0</td>\n",
       "      <td>0</td>\n",
       "      <td>0</td>\n",
       "      <td>0</td>\n",
       "      <td>0</td>\n",
       "      <td>...</td>\n",
       "      <td>0</td>\n",
       "      <td>0</td>\n",
       "      <td>0</td>\n",
       "      <td>0</td>\n",
       "      <td>0</td>\n",
       "      <td>0</td>\n",
       "      <td>0</td>\n",
       "      <td>0</td>\n",
       "      <td>0</td>\n",
       "      <td>0</td>\n",
       "    </tr>\n",
       "    <tr>\n",
       "      <th>3</th>\n",
       "      <td>CENTRAL DELHI</td>\n",
       "      <td>0</td>\n",
       "      <td>0</td>\n",
       "      <td>0</td>\n",
       "      <td>0</td>\n",
       "      <td>0</td>\n",
       "      <td>0</td>\n",
       "      <td>0</td>\n",
       "      <td>0</td>\n",
       "      <td>0</td>\n",
       "      <td>...</td>\n",
       "      <td>0</td>\n",
       "      <td>0</td>\n",
       "      <td>0</td>\n",
       "      <td>0</td>\n",
       "      <td>0</td>\n",
       "      <td>0</td>\n",
       "      <td>0</td>\n",
       "      <td>0</td>\n",
       "      <td>0</td>\n",
       "      <td>0</td>\n",
       "    </tr>\n",
       "    <tr>\n",
       "      <th>4</th>\n",
       "      <td>CENTRAL DELHI</td>\n",
       "      <td>0</td>\n",
       "      <td>0</td>\n",
       "      <td>0</td>\n",
       "      <td>0</td>\n",
       "      <td>0</td>\n",
       "      <td>0</td>\n",
       "      <td>0</td>\n",
       "      <td>0</td>\n",
       "      <td>0</td>\n",
       "      <td>...</td>\n",
       "      <td>0</td>\n",
       "      <td>0</td>\n",
       "      <td>0</td>\n",
       "      <td>0</td>\n",
       "      <td>0</td>\n",
       "      <td>0</td>\n",
       "      <td>0</td>\n",
       "      <td>0</td>\n",
       "      <td>0</td>\n",
       "      <td>0</td>\n",
       "    </tr>\n",
       "  </tbody>\n",
       "</table>\n",
       "<p>5 rows × 100 columns</p>\n",
       "</div>"
      ],
      "text/plain": [
       "        District  ATM  Airport Food Court  American Restaurant  Arcade  \\\n",
       "0  CENTRAL DELHI    0                   0                    0       0   \n",
       "1  CENTRAL DELHI    0                   0                    0       0   \n",
       "2  CENTRAL DELHI    0                   0                    0       0   \n",
       "3  CENTRAL DELHI    0                   0                    0       0   \n",
       "4  CENTRAL DELHI    0                   0                    0       0   \n",
       "\n",
       "   Asian Restaurant  Athletics & Sports  BBQ Joint  Bakery  Bar  \\\n",
       "0                 0                   0          0       0    0   \n",
       "1                 0                   0          0       0    0   \n",
       "2                 0                   0          0       0    0   \n",
       "3                 0                   0          0       0    0   \n",
       "4                 0                   0          0       0    0   \n",
       "\n",
       "       ...        Shopping Plaza  Snack Place  Soccer Field  \\\n",
       "0      ...                     0            0             0   \n",
       "1      ...                     0            0             0   \n",
       "2      ...                     0            0             0   \n",
       "3      ...                     0            0             0   \n",
       "4      ...                     0            0             0   \n",
       "\n",
       "   South Indian Restaurant  Spa  Spiritual Center  Sporting Goods Shop  \\\n",
       "0                        0    0                 0                    0   \n",
       "1                        0    0                 0                    0   \n",
       "2                        0    0                 0                    0   \n",
       "3                        0    0                 0                    0   \n",
       "4                        0    0                 0                    0   \n",
       "\n",
       "   Thai Restaurant  Train Station  Women's Store  \n",
       "0                0              0              0  \n",
       "1                0              0              0  \n",
       "2                0              0              0  \n",
       "3                0              0              0  \n",
       "4                0              0              0  \n",
       "\n",
       "[5 rows x 100 columns]"
      ]
     },
     "execution_count": 92,
     "metadata": {},
     "output_type": "execute_result"
    }
   ],
   "source": [
    "# move postalcode and district column to the front\n",
    "cols = list(delhi_onehot)\n",
    "# move the column to head of list using index, pop and insert\n",
    "cols.insert(0, cols.pop(cols.index('District')))\n",
    "delhi_onehot = delhi_onehot.reindex(columns= cols)\n",
    "\n",
    "delhi_onehot.head()"
   ]
  },
  {
   "cell_type": "markdown",
   "metadata": {},
   "source": [
    "Step 3 Group by District wise on the mean"
   ]
  },
  {
   "cell_type": "code",
   "execution_count": 93,
   "metadata": {},
   "outputs": [
    {
     "data": {
      "text/html": [
       "<div>\n",
       "<style scoped>\n",
       "    .dataframe tbody tr th:only-of-type {\n",
       "        vertical-align: middle;\n",
       "    }\n",
       "\n",
       "    .dataframe tbody tr th {\n",
       "        vertical-align: top;\n",
       "    }\n",
       "\n",
       "    .dataframe thead th {\n",
       "        text-align: right;\n",
       "    }\n",
       "</style>\n",
       "<table border=\"1\" class=\"dataframe\">\n",
       "  <thead>\n",
       "    <tr style=\"text-align: right;\">\n",
       "      <th></th>\n",
       "      <th>District</th>\n",
       "      <th>ATM</th>\n",
       "      <th>Airport Food Court</th>\n",
       "      <th>American Restaurant</th>\n",
       "      <th>Arcade</th>\n",
       "      <th>Asian Restaurant</th>\n",
       "      <th>Athletics &amp; Sports</th>\n",
       "      <th>BBQ Joint</th>\n",
       "      <th>Bakery</th>\n",
       "      <th>Bar</th>\n",
       "      <th>...</th>\n",
       "      <th>Shopping Plaza</th>\n",
       "      <th>Snack Place</th>\n",
       "      <th>Soccer Field</th>\n",
       "      <th>South Indian Restaurant</th>\n",
       "      <th>Spa</th>\n",
       "      <th>Spiritual Center</th>\n",
       "      <th>Sporting Goods Shop</th>\n",
       "      <th>Thai Restaurant</th>\n",
       "      <th>Train Station</th>\n",
       "      <th>Women's Store</th>\n",
       "    </tr>\n",
       "  </thead>\n",
       "  <tbody>\n",
       "    <tr>\n",
       "      <th>0</th>\n",
       "      <td>CENTRAL DELHI</td>\n",
       "      <td>0.0</td>\n",
       "      <td>0.0</td>\n",
       "      <td>0.000000</td>\n",
       "      <td>0.0</td>\n",
       "      <td>0.000000</td>\n",
       "      <td>0.0</td>\n",
       "      <td>0.000000</td>\n",
       "      <td>0.000000</td>\n",
       "      <td>0.000000</td>\n",
       "      <td>...</td>\n",
       "      <td>0.0</td>\n",
       "      <td>0.000000</td>\n",
       "      <td>0.0</td>\n",
       "      <td>0.0</td>\n",
       "      <td>0.0</td>\n",
       "      <td>0.000000</td>\n",
       "      <td>0.0</td>\n",
       "      <td>0.0</td>\n",
       "      <td>0.0</td>\n",
       "      <td>0.0</td>\n",
       "    </tr>\n",
       "    <tr>\n",
       "      <th>1</th>\n",
       "      <td>EAST DELHI</td>\n",
       "      <td>0.2</td>\n",
       "      <td>0.0</td>\n",
       "      <td>0.000000</td>\n",
       "      <td>0.0</td>\n",
       "      <td>0.100000</td>\n",
       "      <td>0.0</td>\n",
       "      <td>0.000000</td>\n",
       "      <td>0.000000</td>\n",
       "      <td>0.000000</td>\n",
       "      <td>...</td>\n",
       "      <td>0.0</td>\n",
       "      <td>0.000000</td>\n",
       "      <td>0.0</td>\n",
       "      <td>0.0</td>\n",
       "      <td>0.0</td>\n",
       "      <td>0.000000</td>\n",
       "      <td>0.0</td>\n",
       "      <td>0.0</td>\n",
       "      <td>0.0</td>\n",
       "      <td>0.0</td>\n",
       "    </tr>\n",
       "    <tr>\n",
       "      <th>2</th>\n",
       "      <td>NORTH DELHI</td>\n",
       "      <td>0.0</td>\n",
       "      <td>0.0</td>\n",
       "      <td>0.000000</td>\n",
       "      <td>0.0</td>\n",
       "      <td>0.000000</td>\n",
       "      <td>0.0</td>\n",
       "      <td>0.000000</td>\n",
       "      <td>0.000000</td>\n",
       "      <td>0.000000</td>\n",
       "      <td>...</td>\n",
       "      <td>0.0</td>\n",
       "      <td>0.000000</td>\n",
       "      <td>0.0</td>\n",
       "      <td>0.0</td>\n",
       "      <td>0.0</td>\n",
       "      <td>0.000000</td>\n",
       "      <td>0.0</td>\n",
       "      <td>0.0</td>\n",
       "      <td>0.0</td>\n",
       "      <td>0.0</td>\n",
       "    </tr>\n",
       "    <tr>\n",
       "      <th>3</th>\n",
       "      <td>NORTH WEST DELHI</td>\n",
       "      <td>0.0</td>\n",
       "      <td>0.0</td>\n",
       "      <td>0.071429</td>\n",
       "      <td>0.0</td>\n",
       "      <td>0.071429</td>\n",
       "      <td>0.0</td>\n",
       "      <td>0.000000</td>\n",
       "      <td>0.000000</td>\n",
       "      <td>0.071429</td>\n",
       "      <td>...</td>\n",
       "      <td>0.0</td>\n",
       "      <td>0.071429</td>\n",
       "      <td>0.0</td>\n",
       "      <td>0.0</td>\n",
       "      <td>0.0</td>\n",
       "      <td>0.000000</td>\n",
       "      <td>0.0</td>\n",
       "      <td>0.0</td>\n",
       "      <td>0.0</td>\n",
       "      <td>0.0</td>\n",
       "    </tr>\n",
       "    <tr>\n",
       "      <th>4</th>\n",
       "      <td>SOUTH DELHI</td>\n",
       "      <td>0.0</td>\n",
       "      <td>0.0</td>\n",
       "      <td>0.000000</td>\n",
       "      <td>0.0</td>\n",
       "      <td>0.000000</td>\n",
       "      <td>0.0</td>\n",
       "      <td>0.153846</td>\n",
       "      <td>0.076923</td>\n",
       "      <td>0.076923</td>\n",
       "      <td>...</td>\n",
       "      <td>0.0</td>\n",
       "      <td>0.000000</td>\n",
       "      <td>0.0</td>\n",
       "      <td>0.0</td>\n",
       "      <td>0.0</td>\n",
       "      <td>0.000000</td>\n",
       "      <td>0.0</td>\n",
       "      <td>0.0</td>\n",
       "      <td>0.0</td>\n",
       "      <td>0.0</td>\n",
       "    </tr>\n",
       "    <tr>\n",
       "      <th>5</th>\n",
       "      <td>SOUTH WEST DELHI</td>\n",
       "      <td>0.0</td>\n",
       "      <td>0.0</td>\n",
       "      <td>0.000000</td>\n",
       "      <td>0.0</td>\n",
       "      <td>0.000000</td>\n",
       "      <td>0.0</td>\n",
       "      <td>0.000000</td>\n",
       "      <td>0.000000</td>\n",
       "      <td>0.000000</td>\n",
       "      <td>...</td>\n",
       "      <td>0.0</td>\n",
       "      <td>0.136364</td>\n",
       "      <td>0.0</td>\n",
       "      <td>0.0</td>\n",
       "      <td>0.0</td>\n",
       "      <td>0.045455</td>\n",
       "      <td>0.0</td>\n",
       "      <td>0.0</td>\n",
       "      <td>0.0</td>\n",
       "      <td>0.0</td>\n",
       "    </tr>\n",
       "    <tr>\n",
       "      <th>6</th>\n",
       "      <td>WEST DELHI</td>\n",
       "      <td>0.0</td>\n",
       "      <td>0.0</td>\n",
       "      <td>0.000000</td>\n",
       "      <td>0.0</td>\n",
       "      <td>0.100000</td>\n",
       "      <td>0.0</td>\n",
       "      <td>0.000000</td>\n",
       "      <td>0.000000</td>\n",
       "      <td>0.000000</td>\n",
       "      <td>...</td>\n",
       "      <td>0.0</td>\n",
       "      <td>0.000000</td>\n",
       "      <td>0.0</td>\n",
       "      <td>0.0</td>\n",
       "      <td>0.0</td>\n",
       "      <td>0.000000</td>\n",
       "      <td>0.0</td>\n",
       "      <td>0.0</td>\n",
       "      <td>0.0</td>\n",
       "      <td>0.0</td>\n",
       "    </tr>\n",
       "  </tbody>\n",
       "</table>\n",
       "<p>7 rows × 100 columns</p>\n",
       "</div>"
      ],
      "text/plain": [
       "           District  ATM  Airport Food Court  American Restaurant  Arcade  \\\n",
       "0     CENTRAL DELHI  0.0                 0.0             0.000000     0.0   \n",
       "1        EAST DELHI  0.2                 0.0             0.000000     0.0   \n",
       "2       NORTH DELHI  0.0                 0.0             0.000000     0.0   \n",
       "3  NORTH WEST DELHI  0.0                 0.0             0.071429     0.0   \n",
       "4       SOUTH DELHI  0.0                 0.0             0.000000     0.0   \n",
       "5  SOUTH WEST DELHI  0.0                 0.0             0.000000     0.0   \n",
       "6        WEST DELHI  0.0                 0.0             0.000000     0.0   \n",
       "\n",
       "   Asian Restaurant  Athletics & Sports  BBQ Joint    Bakery       Bar  \\\n",
       "0          0.000000                 0.0   0.000000  0.000000  0.000000   \n",
       "1          0.100000                 0.0   0.000000  0.000000  0.000000   \n",
       "2          0.000000                 0.0   0.000000  0.000000  0.000000   \n",
       "3          0.071429                 0.0   0.000000  0.000000  0.071429   \n",
       "4          0.000000                 0.0   0.153846  0.076923  0.076923   \n",
       "5          0.000000                 0.0   0.000000  0.000000  0.000000   \n",
       "6          0.100000                 0.0   0.000000  0.000000  0.000000   \n",
       "\n",
       "       ...        Shopping Plaza  Snack Place  Soccer Field  \\\n",
       "0      ...                   0.0     0.000000           0.0   \n",
       "1      ...                   0.0     0.000000           0.0   \n",
       "2      ...                   0.0     0.000000           0.0   \n",
       "3      ...                   0.0     0.071429           0.0   \n",
       "4      ...                   0.0     0.000000           0.0   \n",
       "5      ...                   0.0     0.136364           0.0   \n",
       "6      ...                   0.0     0.000000           0.0   \n",
       "\n",
       "   South Indian Restaurant  Spa  Spiritual Center  Sporting Goods Shop  \\\n",
       "0                      0.0  0.0          0.000000                  0.0   \n",
       "1                      0.0  0.0          0.000000                  0.0   \n",
       "2                      0.0  0.0          0.000000                  0.0   \n",
       "3                      0.0  0.0          0.000000                  0.0   \n",
       "4                      0.0  0.0          0.000000                  0.0   \n",
       "5                      0.0  0.0          0.045455                  0.0   \n",
       "6                      0.0  0.0          0.000000                  0.0   \n",
       "\n",
       "   Thai Restaurant  Train Station  Women's Store  \n",
       "0              0.0            0.0            0.0  \n",
       "1              0.0            0.0            0.0  \n",
       "2              0.0            0.0            0.0  \n",
       "3              0.0            0.0            0.0  \n",
       "4              0.0            0.0            0.0  \n",
       "5              0.0            0.0            0.0  \n",
       "6              0.0            0.0            0.0  \n",
       "\n",
       "[7 rows x 100 columns]"
      ]
     },
     "execution_count": 93,
     "metadata": {},
     "output_type": "execute_result"
    }
   ],
   "source": [
    "delhi_grouped = delhi_onehot.groupby('District').mean().reset_index()\n",
    "delhi_grouped"
   ]
  },
  {
   "cell_type": "markdown",
   "metadata": {},
   "source": [
    "Step 4 Print top 3 venues for each district"
   ]
  },
  {
   "cell_type": "code",
   "execution_count": 94,
   "metadata": {},
   "outputs": [
    {
     "name": "stdout",
     "output_type": "stream",
     "text": [
      "----CENTRAL DELHI----\n",
      "               venue  freq\n",
      "0        Pizza Place  0.08\n",
      "1               Café  0.08\n",
      "2  Indian Restaurant  0.08\n",
      "\n",
      "\n",
      "----EAST DELHI----\n",
      "                 venue  freq\n",
      "0                  ATM   0.2\n",
      "1                 Café   0.1\n",
      "2  Fried Chicken Joint   0.1\n",
      "\n",
      "\n",
      "----NORTH DELHI----\n",
      "               venue  freq\n",
      "0  Food & Drink Shop  0.33\n",
      "1     Breakfast Spot  0.33\n",
      "2               Café  0.33\n",
      "\n",
      "\n",
      "----NORTH WEST DELHI----\n",
      "                  venue  freq\n",
      "0                  Café  0.14\n",
      "1  Fast Food Restaurant  0.14\n",
      "2        Breakfast Spot  0.14\n",
      "\n",
      "\n",
      "----SOUTH DELHI----\n",
      "               venue  freq\n",
      "0  Indian Restaurant  0.23\n",
      "1          BBQ Joint  0.15\n",
      "2               Café  0.15\n",
      "\n",
      "\n",
      "----SOUTH WEST DELHI----\n",
      "                venue  freq\n",
      "0         Snack Place  0.14\n",
      "1                Café  0.09\n",
      "2  Chinese Restaurant  0.09\n",
      "\n",
      "\n",
      "----WEST DELHI----\n",
      "                 venue  freq\n",
      "0    Indian Restaurant   0.2\n",
      "1  Japanese Restaurant   0.1\n",
      "2     Asian Restaurant   0.1\n",
      "\n",
      "\n"
     ]
    }
   ],
   "source": [
    "num_top_venues = 3\n",
    "\n",
    "for district in delhi_grouped['District']:\n",
    "    print(\"----\"+district+\"----\")\n",
    "    temp = delhi_grouped[delhi_grouped['District'] == district].T.reset_index()\n",
    "    temp.columns = ['venue','freq']\n",
    "    temp = temp.iloc[1:]\n",
    "    temp['freq'] = temp['freq'].astype(float)\n",
    "    temp = temp.round({'freq': 2})\n",
    "    print(temp.sort_values('freq', ascending=False).reset_index(drop=True).head(num_top_venues))\n",
    "    print('\\n')"
   ]
  },
  {
   "cell_type": "markdown",
   "metadata": {},
   "source": [
    "Step 5 Arrange these in a dataframe"
   ]
  },
  {
   "cell_type": "code",
   "execution_count": 95,
   "metadata": {},
   "outputs": [
    {
     "data": {
      "text/html": [
       "<div>\n",
       "<style scoped>\n",
       "    .dataframe tbody tr th:only-of-type {\n",
       "        vertical-align: middle;\n",
       "    }\n",
       "\n",
       "    .dataframe tbody tr th {\n",
       "        vertical-align: top;\n",
       "    }\n",
       "\n",
       "    .dataframe thead th {\n",
       "        text-align: right;\n",
       "    }\n",
       "</style>\n",
       "<table border=\"1\" class=\"dataframe\">\n",
       "  <thead>\n",
       "    <tr style=\"text-align: right;\">\n",
       "      <th></th>\n",
       "      <th>District</th>\n",
       "      <th>1st Most Common Venue</th>\n",
       "      <th>2nd Most Common Venue</th>\n",
       "      <th>3rd Most Common Venue</th>\n",
       "    </tr>\n",
       "  </thead>\n",
       "  <tbody>\n",
       "    <tr>\n",
       "      <th>0</th>\n",
       "      <td>CENTRAL DELHI</td>\n",
       "      <td>Cricket Ground</td>\n",
       "      <td>Road</td>\n",
       "      <td>Indian Restaurant</td>\n",
       "    </tr>\n",
       "    <tr>\n",
       "      <th>1</th>\n",
       "      <td>EAST DELHI</td>\n",
       "      <td>ATM</td>\n",
       "      <td>Fried Chicken Joint</td>\n",
       "      <td>Diner</td>\n",
       "    </tr>\n",
       "    <tr>\n",
       "      <th>2</th>\n",
       "      <td>NORTH DELHI</td>\n",
       "      <td>Breakfast Spot</td>\n",
       "      <td>Food &amp; Drink Shop</td>\n",
       "      <td>Café</td>\n",
       "    </tr>\n",
       "    <tr>\n",
       "      <th>3</th>\n",
       "      <td>NORTH WEST DELHI</td>\n",
       "      <td>Café</td>\n",
       "      <td>Breakfast Spot</td>\n",
       "      <td>Fast Food Restaurant</td>\n",
       "    </tr>\n",
       "    <tr>\n",
       "      <th>4</th>\n",
       "      <td>SOUTH DELHI</td>\n",
       "      <td>Indian Restaurant</td>\n",
       "      <td>Café</td>\n",
       "      <td>BBQ Joint</td>\n",
       "    </tr>\n",
       "    <tr>\n",
       "      <th>5</th>\n",
       "      <td>SOUTH WEST DELHI</td>\n",
       "      <td>Snack Place</td>\n",
       "      <td>Café</td>\n",
       "      <td>Chinese Restaurant</td>\n",
       "    </tr>\n",
       "    <tr>\n",
       "      <th>6</th>\n",
       "      <td>WEST DELHI</td>\n",
       "      <td>Indian Restaurant</td>\n",
       "      <td>Dessert Shop</td>\n",
       "      <td>Hotel</td>\n",
       "    </tr>\n",
       "  </tbody>\n",
       "</table>\n",
       "</div>"
      ],
      "text/plain": [
       "           District 1st Most Common Venue 2nd Most Common Venue  \\\n",
       "0     CENTRAL DELHI        Cricket Ground                  Road   \n",
       "1        EAST DELHI                   ATM   Fried Chicken Joint   \n",
       "2       NORTH DELHI        Breakfast Spot     Food & Drink Shop   \n",
       "3  NORTH WEST DELHI                  Café        Breakfast Spot   \n",
       "4       SOUTH DELHI     Indian Restaurant                  Café   \n",
       "5  SOUTH WEST DELHI           Snack Place                  Café   \n",
       "6        WEST DELHI     Indian Restaurant          Dessert Shop   \n",
       "\n",
       "  3rd Most Common Venue  \n",
       "0     Indian Restaurant  \n",
       "1                 Diner  \n",
       "2                  Café  \n",
       "3  Fast Food Restaurant  \n",
       "4             BBQ Joint  \n",
       "5    Chinese Restaurant  \n",
       "6                 Hotel  "
      ]
     },
     "execution_count": 95,
     "metadata": {},
     "output_type": "execute_result"
    }
   ],
   "source": [
    "def return_most_common_venues(row, num_top_venues):\n",
    "    row_categories = row.iloc[1:]\n",
    "    row_categories_sorted = row_categories.sort_values(ascending=False)\n",
    "    \n",
    "    return row_categories_sorted.index.values[0:num_top_venues]\n",
    "\n",
    "indicators = ['st', 'nd', 'rd']\n",
    "\n",
    "# create columns according to number of top venues\n",
    "columns = ['District']\n",
    "for ind in np.arange(num_top_venues):\n",
    "    try:\n",
    "        columns.append('{}{} Most Common Venue'.format(ind+1, indicators[ind]))\n",
    "    except:\n",
    "        columns.append('{}th Most Common Venue'.format(ind+1))\n",
    "\n",
    "# create a new dataframe\n",
    "district_venues_sorted = pd.DataFrame(columns=columns)\n",
    "district_venues_sorted['District'] = delhi_grouped['District']\n",
    "\n",
    "for ind in np.arange(delhi_grouped.shape[0]):\n",
    "    district_venues_sorted.iloc[ind, 1:] = return_most_common_venues(delhi_grouped.iloc[ind, :], num_top_venues)\n",
    "\n",
    "district_venues_sorted"
   ]
  },
  {
   "cell_type": "markdown",
   "metadata": {},
   "source": [
    "As you can see from above analysis - Central Delhi, North Delhi and North West Delhi top three venues have the same frequency, therefore the results in Step 4 and Step 5 are ambiguous. This proves the Foursquare API does not have enough \"good\" data for Delhi to perform analysis."
   ]
  },
  {
   "cell_type": "markdown",
   "metadata": {},
   "source": [
    "Let's try K-means clustring on this data"
   ]
  },
  {
   "cell_type": "code",
   "execution_count": 96,
   "metadata": {},
   "outputs": [
    {
     "data": {
      "text/plain": [
       "array([0, 3, 2, 1, 4, 0, 0])"
      ]
     },
     "execution_count": 96,
     "metadata": {},
     "output_type": "execute_result"
    }
   ],
   "source": [
    "# set number of clusters\n",
    "kclusters = 5\n",
    "\n",
    "delhi_grouped_clustering = delhi_grouped.drop('District', 1)\n",
    "\n",
    "# run k-means clustering\n",
    "kmeans = KMeans(n_clusters=kclusters, random_state=0).fit(delhi_grouped_clustering)\n",
    "\n",
    "# check cluster labels generated for each row in the dataframe\n",
    "kmeans.labels_[0:10]"
   ]
  },
  {
   "cell_type": "code",
   "execution_count": 97,
   "metadata": {},
   "outputs": [
    {
     "data": {
      "text/html": [
       "<div>\n",
       "<style scoped>\n",
       "    .dataframe tbody tr th:only-of-type {\n",
       "        vertical-align: middle;\n",
       "    }\n",
       "\n",
       "    .dataframe tbody tr th {\n",
       "        vertical-align: top;\n",
       "    }\n",
       "\n",
       "    .dataframe thead th {\n",
       "        text-align: right;\n",
       "    }\n",
       "</style>\n",
       "<table border=\"1\" class=\"dataframe\">\n",
       "  <thead>\n",
       "    <tr style=\"text-align: right;\">\n",
       "      <th></th>\n",
       "      <th>District</th>\n",
       "      <th>Neighborhood</th>\n",
       "      <th>PostalCode</th>\n",
       "      <th>Latitude</th>\n",
       "      <th>Longitude</th>\n",
       "      <th>Cluster Labels</th>\n",
       "      <th>1st Most Common Venue</th>\n",
       "      <th>2nd Most Common Venue</th>\n",
       "      <th>3rd Most Common Venue</th>\n",
       "    </tr>\n",
       "  </thead>\n",
       "  <tbody>\n",
       "    <tr>\n",
       "      <th>0</th>\n",
       "      <td>CENTRAL DELHI</td>\n",
       "      <td>Connaught Place, Bengali Market, Janpath, Nort...</td>\n",
       "      <td>110001</td>\n",
       "      <td>28.651718</td>\n",
       "      <td>77.221939</td>\n",
       "      <td>0</td>\n",
       "      <td>Cricket Ground</td>\n",
       "      <td>Road</td>\n",
       "      <td>Indian Restaurant</td>\n",
       "    </tr>\n",
       "    <tr>\n",
       "      <th>1</th>\n",
       "      <td>CENTRAL DELHI</td>\n",
       "      <td>Indraprastha, Gandhi Smarak nidhi, Darya Ganj,...</td>\n",
       "      <td>110002</td>\n",
       "      <td>28.640964</td>\n",
       "      <td>77.245468</td>\n",
       "      <td>0</td>\n",
       "      <td>Cricket Ground</td>\n",
       "      <td>Road</td>\n",
       "      <td>Indian Restaurant</td>\n",
       "    </tr>\n",
       "    <tr>\n",
       "      <th>2</th>\n",
       "      <td>CENTRAL DELHI</td>\n",
       "      <td>Pandara Road, Pragati Vihar, Delhi High court,...</td>\n",
       "      <td>110003</td>\n",
       "      <td>28.598731</td>\n",
       "      <td>77.222996</td>\n",
       "      <td>0</td>\n",
       "      <td>Cricket Ground</td>\n",
       "      <td>Road</td>\n",
       "      <td>Indian Restaurant</td>\n",
       "    </tr>\n",
       "    <tr>\n",
       "      <th>3</th>\n",
       "      <td>CENTRAL DELHI</td>\n",
       "      <td>Rashtrapati Bhawan</td>\n",
       "      <td>110004</td>\n",
       "      <td>28.616082</td>\n",
       "      <td>77.204501</td>\n",
       "      <td>0</td>\n",
       "      <td>Cricket Ground</td>\n",
       "      <td>Road</td>\n",
       "      <td>Indian Restaurant</td>\n",
       "    </tr>\n",
       "    <tr>\n",
       "      <th>4</th>\n",
       "      <td>CENTRAL DELHI</td>\n",
       "      <td>Bank Street, Sat Nagar, Desh Bandhu gupta road...</td>\n",
       "      <td>110005</td>\n",
       "      <td>28.650529</td>\n",
       "      <td>77.189018</td>\n",
       "      <td>0</td>\n",
       "      <td>Cricket Ground</td>\n",
       "      <td>Road</td>\n",
       "      <td>Indian Restaurant</td>\n",
       "    </tr>\n",
       "  </tbody>\n",
       "</table>\n",
       "</div>"
      ],
      "text/plain": [
       "        District                                       Neighborhood  \\\n",
       "0  CENTRAL DELHI  Connaught Place, Bengali Market, Janpath, Nort...   \n",
       "1  CENTRAL DELHI  Indraprastha, Gandhi Smarak nidhi, Darya Ganj,...   \n",
       "2  CENTRAL DELHI  Pandara Road, Pragati Vihar, Delhi High court,...   \n",
       "3  CENTRAL DELHI                                 Rashtrapati Bhawan   \n",
       "4  CENTRAL DELHI  Bank Street, Sat Nagar, Desh Bandhu gupta road...   \n",
       "\n",
       "   PostalCode   Latitude  Longitude  Cluster Labels 1st Most Common Venue  \\\n",
       "0      110001  28.651718  77.221939               0        Cricket Ground   \n",
       "1      110002  28.640964  77.245468               0        Cricket Ground   \n",
       "2      110003  28.598731  77.222996               0        Cricket Ground   \n",
       "3      110004  28.616082  77.204501               0        Cricket Ground   \n",
       "4      110005  28.650529  77.189018               0        Cricket Ground   \n",
       "\n",
       "  2nd Most Common Venue 3rd Most Common Venue  \n",
       "0                  Road     Indian Restaurant  \n",
       "1                  Road     Indian Restaurant  \n",
       "2                  Road     Indian Restaurant  \n",
       "3                  Road     Indian Restaurant  \n",
       "4                  Road     Indian Restaurant  "
      ]
     },
     "execution_count": 97,
     "metadata": {},
     "output_type": "execute_result"
    }
   ],
   "source": [
    "district_venues_sorted.insert(0, 'Cluster Labels', kmeans.labels_)\n",
    "\n",
    "delhi_merged = delhi_cleaned_df\n",
    "\n",
    "# merge toronto_grouped with toronto_data to add latitude/longitude for each neighborhood\n",
    "delhi_merged = delhi_merged.join(district_venues_sorted.set_index('District'), on='District')\n",
    "\n",
    "delhi_merged.head()"
   ]
  },
  {
   "cell_type": "markdown",
   "metadata": {},
   "source": [
    "Put these clusters on the Map"
   ]
  },
  {
   "cell_type": "code",
   "execution_count": 99,
   "metadata": {},
   "outputs": [
    {
     "data": {
      "text/html": [
       "<div style=\"width:100%;\"><div style=\"position:relative;width:100%;height:0;padding-bottom:60%;\"><span style=\"color:#565656\">Make this Notebook Trusted to load map: File -> Trust Notebook</span><iframe src=\"about:blank\" style=\"position:absolute;width:100%;height:100%;left:0;top:0;border:none !important;\" data-html=PCFET0NUWVBFIGh0bWw+CjxoZWFkPiAgICAKICAgIDxtZXRhIGh0dHAtZXF1aXY9ImNvbnRlbnQtdHlwZSIgY29udGVudD0idGV4dC9odG1sOyBjaGFyc2V0PVVURi04IiAvPgogICAgCiAgICAgICAgPHNjcmlwdD4KICAgICAgICAgICAgTF9OT19UT1VDSCA9IGZhbHNlOwogICAgICAgICAgICBMX0RJU0FCTEVfM0QgPSBmYWxzZTsKICAgICAgICA8L3NjcmlwdD4KICAgIAogICAgPHNjcmlwdCBzcmM9Imh0dHBzOi8vY2RuLmpzZGVsaXZyLm5ldC9ucG0vbGVhZmxldEAxLjYuMC9kaXN0L2xlYWZsZXQuanMiPjwvc2NyaXB0PgogICAgPHNjcmlwdCBzcmM9Imh0dHBzOi8vY29kZS5qcXVlcnkuY29tL2pxdWVyeS0xLjEyLjQubWluLmpzIj48L3NjcmlwdD4KICAgIDxzY3JpcHQgc3JjPSJodHRwczovL21heGNkbi5ib290c3RyYXBjZG4uY29tL2Jvb3RzdHJhcC8zLjIuMC9qcy9ib290c3RyYXAubWluLmpzIj48L3NjcmlwdD4KICAgIDxzY3JpcHQgc3JjPSJodHRwczovL2NkbmpzLmNsb3VkZmxhcmUuY29tL2FqYXgvbGlicy9MZWFmbGV0LmF3ZXNvbWUtbWFya2Vycy8yLjAuMi9sZWFmbGV0LmF3ZXNvbWUtbWFya2Vycy5qcyI+PC9zY3JpcHQ+CiAgICA8bGluayByZWw9InN0eWxlc2hlZXQiIGhyZWY9Imh0dHBzOi8vY2RuLmpzZGVsaXZyLm5ldC9ucG0vbGVhZmxldEAxLjYuMC9kaXN0L2xlYWZsZXQuY3NzIi8+CiAgICA8bGluayByZWw9InN0eWxlc2hlZXQiIGhyZWY9Imh0dHBzOi8vbWF4Y2RuLmJvb3RzdHJhcGNkbi5jb20vYm9vdHN0cmFwLzMuMi4wL2Nzcy9ib290c3RyYXAubWluLmNzcyIvPgogICAgPGxpbmsgcmVsPSJzdHlsZXNoZWV0IiBocmVmPSJodHRwczovL21heGNkbi5ib290c3RyYXBjZG4uY29tL2Jvb3RzdHJhcC8zLjIuMC9jc3MvYm9vdHN0cmFwLXRoZW1lLm1pbi5jc3MiLz4KICAgIDxsaW5rIHJlbD0ic3R5bGVzaGVldCIgaHJlZj0iaHR0cHM6Ly9tYXhjZG4uYm9vdHN0cmFwY2RuLmNvbS9mb250LWF3ZXNvbWUvNC42LjMvY3NzL2ZvbnQtYXdlc29tZS5taW4uY3NzIi8+CiAgICA8bGluayByZWw9InN0eWxlc2hlZXQiIGhyZWY9Imh0dHBzOi8vY2RuanMuY2xvdWRmbGFyZS5jb20vYWpheC9saWJzL0xlYWZsZXQuYXdlc29tZS1tYXJrZXJzLzIuMC4yL2xlYWZsZXQuYXdlc29tZS1tYXJrZXJzLmNzcyIvPgogICAgPGxpbmsgcmVsPSJzdHlsZXNoZWV0IiBocmVmPSJodHRwczovL3Jhd2Nkbi5naXRoYWNrLmNvbS9weXRob24tdmlzdWFsaXphdGlvbi9mb2xpdW0vbWFzdGVyL2ZvbGl1bS90ZW1wbGF0ZXMvbGVhZmxldC5hd2Vzb21lLnJvdGF0ZS5jc3MiLz4KICAgIDxzdHlsZT5odG1sLCBib2R5IHt3aWR0aDogMTAwJTtoZWlnaHQ6IDEwMCU7bWFyZ2luOiAwO3BhZGRpbmc6IDA7fTwvc3R5bGU+CiAgICA8c3R5bGU+I21hcCB7cG9zaXRpb246YWJzb2x1dGU7dG9wOjA7Ym90dG9tOjA7cmlnaHQ6MDtsZWZ0OjA7fTwvc3R5bGU+CiAgICAKICAgICAgICAgICAgPG1ldGEgbmFtZT0idmlld3BvcnQiIGNvbnRlbnQ9IndpZHRoPWRldmljZS13aWR0aCwKICAgICAgICAgICAgICAgIGluaXRpYWwtc2NhbGU9MS4wLCBtYXhpbXVtLXNjYWxlPTEuMCwgdXNlci1zY2FsYWJsZT1ubyIgLz4KICAgICAgICAgICAgPHN0eWxlPgogICAgICAgICAgICAgICAgI21hcF81YmQ0YjBkMmMwYTg0ZWJiYmI4NWFmN2I5ZTBkODhjYiB7CiAgICAgICAgICAgICAgICAgICAgcG9zaXRpb246IHJlbGF0aXZlOwogICAgICAgICAgICAgICAgICAgIHdpZHRoOiAxMDAuMCU7CiAgICAgICAgICAgICAgICAgICAgaGVpZ2h0OiAxMDAuMCU7CiAgICAgICAgICAgICAgICAgICAgbGVmdDogMC4wJTsKICAgICAgICAgICAgICAgICAgICB0b3A6IDAuMCU7CiAgICAgICAgICAgICAgICB9CiAgICAgICAgICAgIDwvc3R5bGU+CiAgICAgICAgCjwvaGVhZD4KPGJvZHk+ICAgIAogICAgCiAgICAgICAgICAgIDxkaXYgY2xhc3M9ImZvbGl1bS1tYXAiIGlkPSJtYXBfNWJkNGIwZDJjMGE4NGViYmJiODVhZjdiOWUwZDg4Y2IiID48L2Rpdj4KICAgICAgICAKPC9ib2R5Pgo8c2NyaXB0PiAgICAKICAgIAogICAgICAgICAgICB2YXIgbWFwXzViZDRiMGQyYzBhODRlYmJiYjg1YWY3YjllMGQ4OGNiID0gTC5tYXAoCiAgICAgICAgICAgICAgICAibWFwXzViZDRiMGQyYzBhODRlYmJiYjg1YWY3YjllMGQ4OGNiIiwKICAgICAgICAgICAgICAgIHsKICAgICAgICAgICAgICAgICAgICBjZW50ZXI6IFsyOC42NTE3MTc4LCA3Ny4yMjE5Mzg4XSwKICAgICAgICAgICAgICAgICAgICBjcnM6IEwuQ1JTLkVQU0czODU3LAogICAgICAgICAgICAgICAgICAgIHpvb206IDExLAogICAgICAgICAgICAgICAgICAgIHpvb21Db250cm9sOiB0cnVlLAogICAgICAgICAgICAgICAgICAgIHByZWZlckNhbnZhczogZmFsc2UsCiAgICAgICAgICAgICAgICB9CiAgICAgICAgICAgICk7CgogICAgICAgICAgICAKCiAgICAgICAgCiAgICAKICAgICAgICAgICAgdmFyIHRpbGVfbGF5ZXJfNjZmZjgwODNkMDRjNDA0OWFhZjgwZTdmOWU5N2I1Y2YgPSBMLnRpbGVMYXllcigKICAgICAgICAgICAgICAgICJodHRwczovL3tzfS50aWxlLm9wZW5zdHJlZXRtYXAub3JnL3t6fS97eH0ve3l9LnBuZyIsCiAgICAgICAgICAgICAgICB7ImF0dHJpYnV0aW9uIjogIkRhdGEgYnkgXHUwMDI2Y29weTsgXHUwMDNjYSBocmVmPVwiaHR0cDovL29wZW5zdHJlZXRtYXAub3JnXCJcdTAwM2VPcGVuU3RyZWV0TWFwXHUwMDNjL2FcdTAwM2UsIHVuZGVyIFx1MDAzY2EgaHJlZj1cImh0dHA6Ly93d3cub3BlbnN0cmVldG1hcC5vcmcvY29weXJpZ2h0XCJcdTAwM2VPRGJMXHUwMDNjL2FcdTAwM2UuIiwgImRldGVjdFJldGluYSI6IGZhbHNlLCAibWF4TmF0aXZlWm9vbSI6IDE4LCAibWF4Wm9vbSI6IDE4LCAibWluWm9vbSI6IDAsICJub1dyYXAiOiBmYWxzZSwgIm9wYWNpdHkiOiAxLCAic3ViZG9tYWlucyI6ICJhYmMiLCAidG1zIjogZmFsc2V9CiAgICAgICAgICAgICkuYWRkVG8obWFwXzViZDRiMGQyYzBhODRlYmJiYjg1YWY3YjllMGQ4OGNiKTsKICAgICAgICAKICAgIAogICAgICAgICAgICB2YXIgY2lyY2xlX21hcmtlcl8zN2UwMjg2OWE2ZTM0NjM0YTgwMmZkNThlZWMxY2NmOCA9IEwuY2lyY2xlTWFya2VyKAogICAgICAgICAgICAgICAgWzI4LjY1MTcxNzgsIDc3LjIyMTkzODc5OTk5OTk5XSwKICAgICAgICAgICAgICAgIHsiYnViYmxpbmdNb3VzZUV2ZW50cyI6IHRydWUsICJjb2xvciI6ICIjZmYwMDAwIiwgImRhc2hBcnJheSI6IG51bGwsICJkYXNoT2Zmc2V0IjogbnVsbCwgImZpbGwiOiB0cnVlLCAiZmlsbENvbG9yIjogIiNmZjAwMDAiLCAiZmlsbE9wYWNpdHkiOiAwLjcsICJmaWxsUnVsZSI6ICJldmVub2RkIiwgImxpbmVDYXAiOiAicm91bmQiLCAibGluZUpvaW4iOiAicm91bmQiLCAib3BhY2l0eSI6IDEuMCwgInJhZGl1cyI6IDUsICJzdHJva2UiOiB0cnVlLCAid2VpZ2h0IjogM30KICAgICAgICAgICAgKS5hZGRUbyhtYXBfNWJkNGIwZDJjMGE4NGViYmJiODVhZjdiOWUwZDg4Y2IpOwogICAgICAgIAogICAgCiAgICAgICAgdmFyIHBvcHVwXzUwOTgxMDQ0NDA0MTQ5YjM5NWNiNzkzMGY3NzQ5NGZkID0gTC5wb3B1cCh7Im1heFdpZHRoIjogIjEwMCUifSk7CgogICAgICAgIAogICAgICAgICAgICB2YXIgaHRtbF8zNmQ2ZDU0N2EwOWU0ODc4OTdmOTZlZjc3YzJmMDVkYyA9ICQoYDxkaXYgaWQ9Imh0bWxfMzZkNmQ1NDdhMDllNDg3ODk3Zjk2ZWY3N2MyZjA1ZGMiIHN0eWxlPSJ3aWR0aDogMTAwLjAlOyBoZWlnaHQ6IDEwMC4wJTsiPkNFTlRSQUwgREVMSEkgQ2x1c3RlciAwPC9kaXY+YClbMF07CiAgICAgICAgICAgIHBvcHVwXzUwOTgxMDQ0NDA0MTQ5YjM5NWNiNzkzMGY3NzQ5NGZkLnNldENvbnRlbnQoaHRtbF8zNmQ2ZDU0N2EwOWU0ODc4OTdmOTZlZjc3YzJmMDVkYyk7CiAgICAgICAgCgogICAgICAgIGNpcmNsZV9tYXJrZXJfMzdlMDI4NjlhNmUzNDYzNGE4MDJmZDU4ZWVjMWNjZjguYmluZFBvcHVwKHBvcHVwXzUwOTgxMDQ0NDA0MTQ5YjM5NWNiNzkzMGY3NzQ5NGZkKQogICAgICAgIDsKCiAgICAgICAgCiAgICAKICAgIAogICAgICAgICAgICB2YXIgY2lyY2xlX21hcmtlcl83MWUyMTQ3YWJjNGQ0NDJjYWQ0ZGVjOTY3MmY1ZGFiZSA9IEwuY2lyY2xlTWFya2VyKAogICAgICAgICAgICAgICAgWzI4LjY0MDk2MzUsIDc3LjI0NTQ2NzldLAogICAgICAgICAgICAgICAgeyJidWJibGluZ01vdXNlRXZlbnRzIjogdHJ1ZSwgImNvbG9yIjogIiNmZjAwMDAiLCAiZGFzaEFycmF5IjogbnVsbCwgImRhc2hPZmZzZXQiOiBudWxsLCAiZmlsbCI6IHRydWUsICJmaWxsQ29sb3IiOiAiI2ZmMDAwMCIsICJmaWxsT3BhY2l0eSI6IDAuNywgImZpbGxSdWxlIjogImV2ZW5vZGQiLCAibGluZUNhcCI6ICJyb3VuZCIsICJsaW5lSm9pbiI6ICJyb3VuZCIsICJvcGFjaXR5IjogMS4wLCAicmFkaXVzIjogNSwgInN0cm9rZSI6IHRydWUsICJ3ZWlnaHQiOiAzfQogICAgICAgICAgICApLmFkZFRvKG1hcF81YmQ0YjBkMmMwYTg0ZWJiYmI4NWFmN2I5ZTBkODhjYik7CiAgICAgICAgCiAgICAKICAgICAgICB2YXIgcG9wdXBfNGE1MTFiNGM1MDZmNDk3OGFmNzUwODBmMzlhMjZmMWEgPSBMLnBvcHVwKHsibWF4V2lkdGgiOiAiMTAwJSJ9KTsKCiAgICAgICAgCiAgICAgICAgICAgIHZhciBodG1sX2E5ZjYxZTMwNzljMTQ5YTE5MDA5YTVhMmNhZmI5YTIyID0gJChgPGRpdiBpZD0iaHRtbF9hOWY2MWUzMDc5YzE0OWExOTAwOWE1YTJjYWZiOWEyMiIgc3R5bGU9IndpZHRoOiAxMDAuMCU7IGhlaWdodDogMTAwLjAlOyI+Q0VOVFJBTCBERUxISSBDbHVzdGVyIDA8L2Rpdj5gKVswXTsKICAgICAgICAgICAgcG9wdXBfNGE1MTFiNGM1MDZmNDk3OGFmNzUwODBmMzlhMjZmMWEuc2V0Q29udGVudChodG1sX2E5ZjYxZTMwNzljMTQ5YTE5MDA5YTVhMmNhZmI5YTIyKTsKICAgICAgICAKCiAgICAgICAgY2lyY2xlX21hcmtlcl83MWUyMTQ3YWJjNGQ0NDJjYWQ0ZGVjOTY3MmY1ZGFiZS5iaW5kUG9wdXAocG9wdXBfNGE1MTFiNGM1MDZmNDk3OGFmNzUwODBmMzlhMjZmMWEpCiAgICAgICAgOwoKICAgICAgICAKICAgIAogICAgCiAgICAgICAgICAgIHZhciBjaXJjbGVfbWFya2VyXzBjYjY4ZDc0ZTMzZjQ4MWY4YTJiODkzM2IyNjJjNzYzID0gTC5jaXJjbGVNYXJrZXIoCiAgICAgICAgICAgICAgICBbMjguNTk4NzMwNzI1ODQxOTksIDc3LjIyMjk5NTUyMDc3OTM5XSwKICAgICAgICAgICAgICAgIHsiYnViYmxpbmdNb3VzZUV2ZW50cyI6IHRydWUsICJjb2xvciI6ICIjZmYwMDAwIiwgImRhc2hBcnJheSI6IG51bGwsICJkYXNoT2Zmc2V0IjogbnVsbCwgImZpbGwiOiB0cnVlLCAiZmlsbENvbG9yIjogIiNmZjAwMDAiLCAiZmlsbE9wYWNpdHkiOiAwLjcsICJmaWxsUnVsZSI6ICJldmVub2RkIiwgImxpbmVDYXAiOiAicm91bmQiLCAibGluZUpvaW4iOiAicm91bmQiLCAib3BhY2l0eSI6IDEuMCwgInJhZGl1cyI6IDUsICJzdHJva2UiOiB0cnVlLCAid2VpZ2h0IjogM30KICAgICAgICAgICAgKS5hZGRUbyhtYXBfNWJkNGIwZDJjMGE4NGViYmJiODVhZjdiOWUwZDg4Y2IpOwogICAgICAgIAogICAgCiAgICAgICAgdmFyIHBvcHVwXzlmN2M4YzNhZGIzNzQzODBiMzE5MTUyY2Q4M2Y1NzZjID0gTC5wb3B1cCh7Im1heFdpZHRoIjogIjEwMCUifSk7CgogICAgICAgIAogICAgICAgICAgICB2YXIgaHRtbF9iNzU3NDVmY2JjNTE0YTY0YTM4OTRhOTMxMTkxYmYzNiA9ICQoYDxkaXYgaWQ9Imh0bWxfYjc1NzQ1ZmNiYzUxNGE2NGEzODk0YTkzMTE5MWJmMzYiIHN0eWxlPSJ3aWR0aDogMTAwLjAlOyBoZWlnaHQ6IDEwMC4wJTsiPkNFTlRSQUwgREVMSEkgQ2x1c3RlciAwPC9kaXY+YClbMF07CiAgICAgICAgICAgIHBvcHVwXzlmN2M4YzNhZGIzNzQzODBiMzE5MTUyY2Q4M2Y1NzZjLnNldENvbnRlbnQoaHRtbF9iNzU3NDVmY2JjNTE0YTY0YTM4OTRhOTMxMTkxYmYzNik7CiAgICAgICAgCgogICAgICAgIGNpcmNsZV9tYXJrZXJfMGNiNjhkNzRlMzNmNDgxZjhhMmI4OTMzYjI2MmM3NjMuYmluZFBvcHVwKHBvcHVwXzlmN2M4YzNhZGIzNzQzODBiMzE5MTUyY2Q4M2Y1NzZjKQogICAgICAgIDsKCiAgICAgICAgCiAgICAKICAgIAogICAgICAgICAgICB2YXIgY2lyY2xlX21hcmtlcl9iYmNjZjMxMDNjMDY0NzljOWI2YzUyODU0NjJhOGZiNCA9IEwuY2lyY2xlTWFya2VyKAogICAgICAgICAgICAgICAgWzI4LjYxNjA4MjE2MDk4NjExLCA3Ny4yMDQ1MDA1NjU4MjYxNV0sCiAgICAgICAgICAgICAgICB7ImJ1YmJsaW5nTW91c2VFdmVudHMiOiB0cnVlLCAiY29sb3IiOiAiI2ZmMDAwMCIsICJkYXNoQXJyYXkiOiBudWxsLCAiZGFzaE9mZnNldCI6IG51bGwsICJmaWxsIjogdHJ1ZSwgImZpbGxDb2xvciI6ICIjZmYwMDAwIiwgImZpbGxPcGFjaXR5IjogMC43LCAiZmlsbFJ1bGUiOiAiZXZlbm9kZCIsICJsaW5lQ2FwIjogInJvdW5kIiwgImxpbmVKb2luIjogInJvdW5kIiwgIm9wYWNpdHkiOiAxLjAsICJyYWRpdXMiOiA1LCAic3Ryb2tlIjogdHJ1ZSwgIndlaWdodCI6IDN9CiAgICAgICAgICAgICkuYWRkVG8obWFwXzViZDRiMGQyYzBhODRlYmJiYjg1YWY3YjllMGQ4OGNiKTsKICAgICAgICAKICAgIAogICAgICAgIHZhciBwb3B1cF8zMjExZGMzNzczYzU0YTJkOTk3NzczNjY4NGE3ODcwOCA9IEwucG9wdXAoeyJtYXhXaWR0aCI6ICIxMDAlIn0pOwoKICAgICAgICAKICAgICAgICAgICAgdmFyIGh0bWxfOWZlYWQ0MDAzMTU2NDE1ZjkzNmMyMWVjOTYzODI2ODIgPSAkKGA8ZGl2IGlkPSJodG1sXzlmZWFkNDAwMzE1NjQxNWY5MzZjMjFlYzk2MzgyNjgyIiBzdHlsZT0id2lkdGg6IDEwMC4wJTsgaGVpZ2h0OiAxMDAuMCU7Ij5DRU5UUkFMIERFTEhJIENsdXN0ZXIgMDwvZGl2PmApWzBdOwogICAgICAgICAgICBwb3B1cF8zMjExZGMzNzczYzU0YTJkOTk3NzczNjY4NGE3ODcwOC5zZXRDb250ZW50KGh0bWxfOWZlYWQ0MDAzMTU2NDE1ZjkzNmMyMWVjOTYzODI2ODIpOwogICAgICAgIAoKICAgICAgICBjaXJjbGVfbWFya2VyX2JiY2NmMzEwM2MwNjQ3OWM5YjZjNTI4NTQ2MmE4ZmI0LmJpbmRQb3B1cChwb3B1cF8zMjExZGMzNzczYzU0YTJkOTk3NzczNjY4NGE3ODcwOCkKICAgICAgICA7CgogICAgICAgIAogICAgCiAgICAKICAgICAgICAgICAgdmFyIGNpcmNsZV9tYXJrZXJfNTBhYjBjMmMxMTJhNGRjNjhmZGE0Nzk2MGMzMTk1ZjAgPSBMLmNpcmNsZU1hcmtlcigKICAgICAgICAgICAgICAgIFsyOC42NTA1Mjg3MTE0MzY2NTcsIDc3LjE4OTAxODA2MjM3OTddLAogICAgICAgICAgICAgICAgeyJidWJibGluZ01vdXNlRXZlbnRzIjogdHJ1ZSwgImNvbG9yIjogIiNmZjAwMDAiLCAiZGFzaEFycmF5IjogbnVsbCwgImRhc2hPZmZzZXQiOiBudWxsLCAiZmlsbCI6IHRydWUsICJmaWxsQ29sb3IiOiAiI2ZmMDAwMCIsICJmaWxsT3BhY2l0eSI6IDAuNywgImZpbGxSdWxlIjogImV2ZW5vZGQiLCAibGluZUNhcCI6ICJyb3VuZCIsICJsaW5lSm9pbiI6ICJyb3VuZCIsICJvcGFjaXR5IjogMS4wLCAicmFkaXVzIjogNSwgInN0cm9rZSI6IHRydWUsICJ3ZWlnaHQiOiAzfQogICAgICAgICAgICApLmFkZFRvKG1hcF81YmQ0YjBkMmMwYTg0ZWJiYmI4NWFmN2I5ZTBkODhjYik7CiAgICAgICAgCiAgICAKICAgICAgICB2YXIgcG9wdXBfOGQxMWIwZDYyZjQ2NDFjZTk4Mjc5YzY1OTFjZDZhZmQgPSBMLnBvcHVwKHsibWF4V2lkdGgiOiAiMTAwJSJ9KTsKCiAgICAgICAgCiAgICAgICAgICAgIHZhciBodG1sXzE2MGRmYmViNjMzYzQ1ZWU4ZTE5OTY5YzA2ZjZlMjZiID0gJChgPGRpdiBpZD0iaHRtbF8xNjBkZmJlYjYzM2M0NWVlOGUxOTk2OWMwNmY2ZTI2YiIgc3R5bGU9IndpZHRoOiAxMDAuMCU7IGhlaWdodDogMTAwLjAlOyI+Q0VOVFJBTCBERUxISSBDbHVzdGVyIDA8L2Rpdj5gKVswXTsKICAgICAgICAgICAgcG9wdXBfOGQxMWIwZDYyZjQ2NDFjZTk4Mjc5YzY1OTFjZDZhZmQuc2V0Q29udGVudChodG1sXzE2MGRmYmViNjMzYzQ1ZWU4ZTE5OTY5YzA2ZjZlMjZiKTsKICAgICAgICAKCiAgICAgICAgY2lyY2xlX21hcmtlcl81MGFiMGMyYzExMmE0ZGM2OGZkYTQ3OTYwYzMxOTVmMC5iaW5kUG9wdXAocG9wdXBfOGQxMWIwZDYyZjQ2NDFjZTk4Mjc5YzY1OTFjZDZhZmQpCiAgICAgICAgOwoKICAgICAgICAKICAgIAogICAgCiAgICAgICAgICAgIHZhciBjaXJjbGVfbWFya2VyXzkyYjQ3YzIwN2RmMTRhMWZiM2I4MGI1MmJjNDEwNzQ3ID0gTC5jaXJjbGVNYXJrZXIoCiAgICAgICAgICAgICAgICBbMjguNjU1OTg0MzUsIDc3LjIzMTYyMzQwOTI3MjNdLAogICAgICAgICAgICAgICAgeyJidWJibGluZ01vdXNlRXZlbnRzIjogdHJ1ZSwgImNvbG9yIjogIiNmZjAwMDAiLCAiZGFzaEFycmF5IjogbnVsbCwgImRhc2hPZmZzZXQiOiBudWxsLCAiZmlsbCI6IHRydWUsICJmaWxsQ29sb3IiOiAiI2ZmMDAwMCIsICJmaWxsT3BhY2l0eSI6IDAuNywgImZpbGxSdWxlIjogImV2ZW5vZGQiLCAibGluZUNhcCI6ICJyb3VuZCIsICJsaW5lSm9pbiI6ICJyb3VuZCIsICJvcGFjaXR5IjogMS4wLCAicmFkaXVzIjogNSwgInN0cm9rZSI6IHRydWUsICJ3ZWlnaHQiOiAzfQogICAgICAgICAgICApLmFkZFRvKG1hcF81YmQ0YjBkMmMwYTg0ZWJiYmI4NWFmN2I5ZTBkODhjYik7CiAgICAgICAgCiAgICAKICAgICAgICB2YXIgcG9wdXBfMjg0YWU5ODdkZjE0NDc3ZWEyOTI5ZDc2NmFmMzE4OWEgPSBMLnBvcHVwKHsibWF4V2lkdGgiOiAiMTAwJSJ9KTsKCiAgICAgICAgCiAgICAgICAgICAgIHZhciBodG1sXzE4YjUyNmFlYzcwMjQ0ZjdhYTU5YTVkMjgzMDBiNWE0ID0gJChgPGRpdiBpZD0iaHRtbF8xOGI1MjZhZWM3MDI0NGY3YWE1OWE1ZDI4MzAwYjVhNCIgc3R5bGU9IndpZHRoOiAxMDAuMCU7IGhlaWdodDogMTAwLjAlOyI+Q0VOVFJBTCBERUxISSBDbHVzdGVyIDA8L2Rpdj5gKVswXTsKICAgICAgICAgICAgcG9wdXBfMjg0YWU5ODdkZjE0NDc3ZWEyOTI5ZDc2NmFmMzE4OWEuc2V0Q29udGVudChodG1sXzE4YjUyNmFlYzcwMjQ0ZjdhYTU5YTVkMjgzMDBiNWE0KTsKICAgICAgICAKCiAgICAgICAgY2lyY2xlX21hcmtlcl85MmI0N2MyMDdkZjE0YTFmYjNiODBiNTJiYzQxMDc0Ny5iaW5kUG9wdXAocG9wdXBfMjg0YWU5ODdkZjE0NDc3ZWEyOTI5ZDc2NmFmMzE4OWEpCiAgICAgICAgOwoKICAgICAgICAKICAgIAogICAgCiAgICAgICAgICAgIHZhciBjaXJjbGVfbWFya2VyXzA0N2RiNTdjZGUwMzRhNWY5YzczNDhiNjZhOTk2ZjM4ID0gTC5jaXJjbGVNYXJrZXIoCiAgICAgICAgICAgICAgICBbMjguNjgxNTk1NSwgNzcuMTk4NDEyXSwKICAgICAgICAgICAgICAgIHsiYnViYmxpbmdNb3VzZUV2ZW50cyI6IHRydWUsICJjb2xvciI6ICIjMDBiNWViIiwgImRhc2hBcnJheSI6IG51bGwsICJkYXNoT2Zmc2V0IjogbnVsbCwgImZpbGwiOiB0cnVlLCAiZmlsbENvbG9yIjogIiMwMGI1ZWIiLCAiZmlsbE9wYWNpdHkiOiAwLjcsICJmaWxsUnVsZSI6ICJldmVub2RkIiwgImxpbmVDYXAiOiAicm91bmQiLCAibGluZUpvaW4iOiAicm91bmQiLCAib3BhY2l0eSI6IDEuMCwgInJhZGl1cyI6IDUsICJzdHJva2UiOiB0cnVlLCAid2VpZ2h0IjogM30KICAgICAgICAgICAgKS5hZGRUbyhtYXBfNWJkNGIwZDJjMGE4NGViYmJiODVhZjdiOWUwZDg4Y2IpOwogICAgICAgIAogICAgCiAgICAgICAgdmFyIHBvcHVwXzUwODg2ZTY1YTkyYTQ2MDZhZTdhYzU4YjE4ZDIzMjgyID0gTC5wb3B1cCh7Im1heFdpZHRoIjogIjEwMCUifSk7CgogICAgICAgIAogICAgICAgICAgICB2YXIgaHRtbF82NmMyNjM3Mzc0MTU0NjVhODBkNGFhNzMyNjc4ODA5YyA9ICQoYDxkaXYgaWQ9Imh0bWxfNjZjMjYzNzM3NDE1NDY1YTgwZDRhYTczMjY3ODgwOWMiIHN0eWxlPSJ3aWR0aDogMTAwLjAlOyBoZWlnaHQ6IDEwMC4wJTsiPk5PUlRIIERFTEhJIENsdXN0ZXIgMjwvZGl2PmApWzBdOwogICAgICAgICAgICBwb3B1cF81MDg4NmU2NWE5MmE0NjA2YWU3YWM1OGIxOGQyMzI4Mi5zZXRDb250ZW50KGh0bWxfNjZjMjYzNzM3NDE1NDY1YTgwZDRhYTczMjY3ODgwOWMpOwogICAgICAgIAoKICAgICAgICBjaXJjbGVfbWFya2VyXzA0N2RiNTdjZGUwMzRhNWY5YzczNDhiNjZhOTk2ZjM4LmJpbmRQb3B1cChwb3B1cF81MDg4NmU2NWE5MmE0NjA2YWU3YWM1OGIxOGQyMzI4MikKICAgICAgICA7CgogICAgICAgIAogICAgCiAgICAKICAgICAgICAgICAgdmFyIGNpcmNsZV9tYXJrZXJfZTRhN2Y5MWQ1NzUzNGRiN2E3MGY2ODI3ZTk3NTJhMzIgPSBMLmNpcmNsZU1hcmtlcigKICAgICAgICAgICAgICAgIFsyOC42NTYxNzUzLCA3Ny4xNjI0NjA0XSwKICAgICAgICAgICAgICAgIHsiYnViYmxpbmdNb3VzZUV2ZW50cyI6IHRydWUsICJjb2xvciI6ICIjZmYwMDAwIiwgImRhc2hBcnJheSI6IG51bGwsICJkYXNoT2Zmc2V0IjogbnVsbCwgImZpbGwiOiB0cnVlLCAiZmlsbENvbG9yIjogIiNmZjAwMDAiLCAiZmlsbE9wYWNpdHkiOiAwLjcsICJmaWxsUnVsZSI6ICJldmVub2RkIiwgImxpbmVDYXAiOiAicm91bmQiLCAibGluZUpvaW4iOiAicm91bmQiLCAib3BhY2l0eSI6IDEuMCwgInJhZGl1cyI6IDUsICJzdHJva2UiOiB0cnVlLCAid2VpZ2h0IjogM30KICAgICAgICAgICAgKS5hZGRUbyhtYXBfNWJkNGIwZDJjMGE4NGViYmJiODVhZjdiOWUwZDg4Y2IpOwogICAgICAgIAogICAgCiAgICAgICAgdmFyIHBvcHVwXzMyZTAwNTFlZWJiNzRkZjk5ZDE1ZTM2ZmVjMjAzYzg0ID0gTC5wb3B1cCh7Im1heFdpZHRoIjogIjEwMCUifSk7CgogICAgICAgIAogICAgICAgICAgICB2YXIgaHRtbF8wZjljZWZhYzVhMjQ0Yjk0YTBjZWNhZDIxYzJkNjdmNSA9ICQoYDxkaXYgaWQ9Imh0bWxfMGY5Y2VmYWM1YTI0NGI5NGEwY2VjYWQyMWMyZDY3ZjUiIHN0eWxlPSJ3aWR0aDogMTAwLjAlOyBoZWlnaHQ6IDEwMC4wJTsiPkNFTlRSQUwgREVMSEkgQ2x1c3RlciAwPC9kaXY+YClbMF07CiAgICAgICAgICAgIHBvcHVwXzMyZTAwNTFlZWJiNzRkZjk5ZDE1ZTM2ZmVjMjAzYzg0LnNldENvbnRlbnQoaHRtbF8wZjljZWZhYzVhMjQ0Yjk0YTBjZWNhZDIxYzJkNjdmNSk7CiAgICAgICAgCgogICAgICAgIGNpcmNsZV9tYXJrZXJfZTRhN2Y5MWQ1NzUzNGRiN2E3MGY2ODI3ZTk3NTJhMzIuYmluZFBvcHVwKHBvcHVwXzMyZTAwNTFlZWJiNzRkZjk5ZDE1ZTM2ZmVjMjAzYzg0KQogICAgICAgIDsKCiAgICAgICAgCiAgICAKICAgIAogICAgICAgICAgICB2YXIgY2lyY2xlX21hcmtlcl9mN2QyNWNjNzhlNGY0OWMxOWRjNmM0MGYxZTMzMzZkOSA9IEwuY2lyY2xlTWFya2VyKAogICAgICAgICAgICAgICAgWzI4LjcwNzgwOTU0MDI3Mzg1MywgNzcuMjA3MDU1OTYyOTYwMjFdLAogICAgICAgICAgICAgICAgeyJidWJibGluZ01vdXNlRXZlbnRzIjogdHJ1ZSwgImNvbG9yIjogIiM4MDAwZmYiLCAiZGFzaEFycmF5IjogbnVsbCwgImRhc2hPZmZzZXQiOiBudWxsLCAiZmlsbCI6IHRydWUsICJmaWxsQ29sb3IiOiAiIzgwMDBmZiIsICJmaWxsT3BhY2l0eSI6IDAuNywgImZpbGxSdWxlIjogImV2ZW5vZGQiLCAibGluZUNhcCI6ICJyb3VuZCIsICJsaW5lSm9pbiI6ICJyb3VuZCIsICJvcGFjaXR5IjogMS4wLCAicmFkaXVzIjogNSwgInN0cm9rZSI6IHRydWUsICJ3ZWlnaHQiOiAzfQogICAgICAgICAgICApLmFkZFRvKG1hcF81YmQ0YjBkMmMwYTg0ZWJiYmI4NWFmN2I5ZTBkODhjYik7CiAgICAgICAgCiAgICAKICAgICAgICB2YXIgcG9wdXBfNGVjYzM4NmRiOGY3NDMzZTk5OGUzMmUzMjY4OGVhZmQgPSBMLnBvcHVwKHsibWF4V2lkdGgiOiAiMTAwJSJ9KTsKCiAgICAgICAgCiAgICAgICAgICAgIHZhciBodG1sXzg2ZjRhNmRmNGJkNzRkNGY4ZjllYzRkNDc5YTVlY2Q2ID0gJChgPGRpdiBpZD0iaHRtbF84NmY0YTZkZjRiZDc0ZDRmOGY5ZWM0ZDQ3OWE1ZWNkNiIgc3R5bGU9IndpZHRoOiAxMDAuMCU7IGhlaWdodDogMTAwLjAlOyI+Tk9SVEggV0VTVCBERUxISSBDbHVzdGVyIDE8L2Rpdj5gKVswXTsKICAgICAgICAgICAgcG9wdXBfNGVjYzM4NmRiOGY3NDMzZTk5OGUzMmUzMjY4OGVhZmQuc2V0Q29udGVudChodG1sXzg2ZjRhNmRmNGJkNzRkNGY4ZjllYzRkNDc5YTVlY2Q2KTsKICAgICAgICAKCiAgICAgICAgY2lyY2xlX21hcmtlcl9mN2QyNWNjNzhlNGY0OWMxOWRjNmM0MGYxZTMzMzZkOS5iaW5kUG9wdXAocG9wdXBfNGVjYzM4NmRiOGY3NDMzZTk5OGUzMmUzMjY4OGVhZmQpCiAgICAgICAgOwoKICAgICAgICAKICAgIAogICAgCiAgICAgICAgICAgIHZhciBjaXJjbGVfbWFya2VyX2Q3MWEwNTk1ZWQ5MTRmYTFhZGZjMTQwYWVjMDI5ODQ2ID0gTC5jaXJjbGVNYXJrZXIoCiAgICAgICAgICAgICAgICBbMjguNjUxNzE3OCwgNzcuMjIxOTM4Nzk5OTk5OTldLAogICAgICAgICAgICAgICAgeyJidWJibGluZ01vdXNlRXZlbnRzIjogdHJ1ZSwgImNvbG9yIjogIiNmZjAwMDAiLCAiZGFzaEFycmF5IjogbnVsbCwgImRhc2hPZmZzZXQiOiBudWxsLCAiZmlsbCI6IHRydWUsICJmaWxsQ29sb3IiOiAiI2ZmMDAwMCIsICJmaWxsT3BhY2l0eSI6IDAuNywgImZpbGxSdWxlIjogImV2ZW5vZGQiLCAibGluZUNhcCI6ICJyb3VuZCIsICJsaW5lSm9pbiI6ICJyb3VuZCIsICJvcGFjaXR5IjogMS4wLCAicmFkaXVzIjogNSwgInN0cm9rZSI6IHRydWUsICJ3ZWlnaHQiOiAzfQogICAgICAgICAgICApLmFkZFRvKG1hcF81YmQ0YjBkMmMwYTg0ZWJiYmI4NWFmN2I5ZTBkODhjYik7CiAgICAgICAgCiAgICAKICAgICAgICB2YXIgcG9wdXBfNzE5MTg1MmQ1MDIxNGRhNzhhOTc5NTAwMjY4ZDg4MjIgPSBMLnBvcHVwKHsibWF4V2lkdGgiOiAiMTAwJSJ9KTsKCiAgICAgICAgCiAgICAgICAgICAgIHZhciBodG1sXzM2MjQ3ZWI0M2I5YTQ2OWNhOTFiNGY0MWFhNjI2MWRkID0gJChgPGRpdiBpZD0iaHRtbF8zNjI0N2ViNDNiOWE0NjljYTkxYjRmNDFhYTYyNjFkZCIgc3R5bGU9IndpZHRoOiAxMDAuMCU7IGhlaWdodDogMTAwLjAlOyI+U09VVEggV0VTVCBERUxISSBDbHVzdGVyIDA8L2Rpdj5gKVswXTsKICAgICAgICAgICAgcG9wdXBfNzE5MTg1MmQ1MDIxNGRhNzhhOTc5NTAwMjY4ZDg4MjIuc2V0Q29udGVudChodG1sXzM2MjQ3ZWI0M2I5YTQ2OWNhOTFiNGY0MWFhNjI2MWRkKTsKICAgICAgICAKCiAgICAgICAgY2lyY2xlX21hcmtlcl9kNzFhMDU5NWVkOTE0ZmExYWRmYzE0MGFlYzAyOTg0Ni5iaW5kUG9wdXAocG9wdXBfNzE5MTg1MmQ1MDIxNGRhNzhhOTc5NTAwMjY4ZDg4MjIpCiAgICAgICAgOwoKICAgICAgICAKICAgIAogICAgCiAgICAgICAgICAgIHZhciBjaXJjbGVfbWFya2VyXzg2ZjkxNTFhM2I1ZjQ2NzhhNjkzNTVlZjEzYWFhMGNmID0gTC5jaXJjbGVNYXJrZXIoCiAgICAgICAgICAgICAgICBbMjguNjUxNzE3OCwgNzcuMjIxOTM4Nzk5OTk5OTldLAogICAgICAgICAgICAgICAgeyJidWJibGluZ01vdXNlRXZlbnRzIjogdHJ1ZSwgImNvbG9yIjogIiNmZjAwMDAiLCAiZGFzaEFycmF5IjogbnVsbCwgImRhc2hPZmZzZXQiOiBudWxsLCAiZmlsbCI6IHRydWUsICJmaWxsQ29sb3IiOiAiI2ZmMDAwMCIsICJmaWxsT3BhY2l0eSI6IDAuNywgImZpbGxSdWxlIjogImV2ZW5vZGQiLCAibGluZUNhcCI6ICJyb3VuZCIsICJsaW5lSm9pbiI6ICJyb3VuZCIsICJvcGFjaXR5IjogMS4wLCAicmFkaXVzIjogNSwgInN0cm9rZSI6IHRydWUsICJ3ZWlnaHQiOiAzfQogICAgICAgICAgICApLmFkZFRvKG1hcF81YmQ0YjBkMmMwYTg0ZWJiYmI4NWFmN2I5ZTBkODhjYik7CiAgICAgICAgCiAgICAKICAgICAgICB2YXIgcG9wdXBfZDExZDk1N2NhOTA3NDQ5YmJmNDY2ZGY5MTQzMzA3N2EgPSBMLnBvcHVwKHsibWF4V2lkdGgiOiAiMTAwJSJ9KTsKCiAgICAgICAgCiAgICAgICAgICAgIHZhciBodG1sXzU0ZTU5ODViOTc4ODRlZDc5OTcxMGUyZWYwODE3YjNjID0gJChgPGRpdiBpZD0iaHRtbF81NGU1OTg1Yjk3ODg0ZWQ3OTk3MTBlMmVmMDgxN2IzYyIgc3R5bGU9IndpZHRoOiAxMDAuMCU7IGhlaWdodDogMTAwLjAlOyI+Q0VOVFJBTCBERUxISSBDbHVzdGVyIDA8L2Rpdj5gKVswXTsKICAgICAgICAgICAgcG9wdXBfZDExZDk1N2NhOTA3NDQ5YmJmNDY2ZGY5MTQzMzA3N2Euc2V0Q29udGVudChodG1sXzU0ZTU5ODViOTc4ODRlZDc5OTcxMGUyZWYwODE3YjNjKTsKICAgICAgICAKCiAgICAgICAgY2lyY2xlX21hcmtlcl84NmY5MTUxYTNiNWY0Njc4YTY5MzU1ZWYxM2FhYTBjZi5iaW5kUG9wdXAocG9wdXBfZDExZDk1N2NhOTA3NDQ5YmJmNDY2ZGY5MTQzMzA3N2EpCiAgICAgICAgOwoKICAgICAgICAKICAgIAogICAgCiAgICAgICAgICAgIHZhciBjaXJjbGVfbWFya2VyX2JmNjFkNDZiMWNkYjRhZTNhMjNjMGNiYjAxZWNjODBlID0gTC5jaXJjbGVNYXJrZXIoCiAgICAgICAgICAgICAgICBbMjguNjUxNzE3OCwgNzcuMjIxOTM4Nzk5OTk5OTldLAogICAgICAgICAgICAgICAgeyJidWJibGluZ01vdXNlRXZlbnRzIjogdHJ1ZSwgImNvbG9yIjogIiNmZjAwMDAiLCAiZGFzaEFycmF5IjogbnVsbCwgImRhc2hPZmZzZXQiOiBudWxsLCAiZmlsbCI6IHRydWUsICJmaWxsQ29sb3IiOiAiI2ZmMDAwMCIsICJmaWxsT3BhY2l0eSI6IDAuNywgImZpbGxSdWxlIjogImV2ZW5vZGQiLCAibGluZUNhcCI6ICJyb3VuZCIsICJsaW5lSm9pbiI6ICJyb3VuZCIsICJvcGFjaXR5IjogMS4wLCAicmFkaXVzIjogNSwgInN0cm9rZSI6IHRydWUsICJ3ZWlnaHQiOiAzfQogICAgICAgICAgICApLmFkZFRvKG1hcF81YmQ0YjBkMmMwYTg0ZWJiYmI4NWFmN2I5ZTBkODhjYik7CiAgICAgICAgCiAgICAKICAgICAgICB2YXIgcG9wdXBfOWJjN2JlMTQ0YjAxNDlmZGJlZDQyNmM4Y2EyZWMxNjEgPSBMLnBvcHVwKHsibWF4V2lkdGgiOiAiMTAwJSJ9KTsKCiAgICAgICAgCiAgICAgICAgICAgIHZhciBodG1sXzY4NWQ2OWQ5ODA3YzQ2YTM4MGYyMjY5YTg0M2MzY2ZjID0gJChgPGRpdiBpZD0iaHRtbF82ODVkNjlkOTgwN2M0NmEzODBmMjI2OWE4NDNjM2NmYyIgc3R5bGU9IndpZHRoOiAxMDAuMCU7IGhlaWdodDogMTAwLjAlOyI+Q0VOVFJBTCBERUxISSBDbHVzdGVyIDA8L2Rpdj5gKVswXTsKICAgICAgICAgICAgcG9wdXBfOWJjN2JlMTQ0YjAxNDlmZGJlZDQyNmM4Y2EyZWMxNjEuc2V0Q29udGVudChodG1sXzY4NWQ2OWQ5ODA3YzQ2YTM4MGYyMjY5YTg0M2MzY2ZjKTsKICAgICAgICAKCiAgICAgICAgY2lyY2xlX21hcmtlcl9iZjYxZDQ2YjFjZGI0YWUzYTIzYzBjYmIwMWVjYzgwZS5iaW5kUG9wdXAocG9wdXBfOWJjN2JlMTQ0YjAxNDlmZGJlZDQyNmM4Y2EyZWMxNjEpCiAgICAgICAgOwoKICAgICAgICAKICAgIAogICAgCiAgICAgICAgICAgIHZhciBjaXJjbGVfbWFya2VyX2Q5MzEzM2ZkZGUzMjQ0Yjk5OGVjMjBiYTVjMzRiNTdkID0gTC5jaXJjbGVNYXJrZXIoCiAgICAgICAgICAgICAgICBbMjguNTg3Mzc0MywgNzcuMjU0MTM0NDUwMDAwMDJdLAogICAgICAgICAgICAgICAgeyJidWJibGluZ01vdXNlRXZlbnRzIjogdHJ1ZSwgImNvbG9yIjogIiNmZmIzNjAiLCAiZGFzaEFycmF5IjogbnVsbCwgImRhc2hPZmZzZXQiOiBudWxsLCAiZmlsbCI6IHRydWUsICJmaWxsQ29sb3IiOiAiI2ZmYjM2MCIsICJmaWxsT3BhY2l0eSI6IDAuNywgImZpbGxSdWxlIjogImV2ZW5vZGQiLCAibGluZUNhcCI6ICJyb3VuZCIsICJsaW5lSm9pbiI6ICJyb3VuZCIsICJvcGFjaXR5IjogMS4wLCAicmFkaXVzIjogNSwgInN0cm9rZSI6IHRydWUsICJ3ZWlnaHQiOiAzfQogICAgICAgICAgICApLmFkZFRvKG1hcF81YmQ0YjBkMmMwYTg0ZWJiYmI4NWFmN2I5ZTBkODhjYik7CiAgICAgICAgCiAgICAKICAgICAgICB2YXIgcG9wdXBfYjIyNjIwMjkxNzk0NDFmN2FiMGRhMDBkMGYwM2JkY2IgPSBMLnBvcHVwKHsibWF4V2lkdGgiOiAiMTAwJSJ9KTsKCiAgICAgICAgCiAgICAgICAgICAgIHZhciBodG1sXzJmMDc1ZTE2MmM3NDQ4OTA5MDQ3NzI3MGNiNGQ5NmQ4ID0gJChgPGRpdiBpZD0iaHRtbF8yZjA3NWUxNjJjNzQ0ODkwOTA0NzcyNzBjYjRkOTZkOCIgc3R5bGU9IndpZHRoOiAxMDAuMCU7IGhlaWdodDogMTAwLjAlOyI+U09VVEggREVMSEkgQ2x1c3RlciA0PC9kaXY+YClbMF07CiAgICAgICAgICAgIHBvcHVwX2IyMjYyMDI5MTc5NDQxZjdhYjBkYTAwZDBmMDNiZGNiLnNldENvbnRlbnQoaHRtbF8yZjA3NWUxNjJjNzQ0ODkwOTA0NzcyNzBjYjRkOTZkOCk7CiAgICAgICAgCgogICAgICAgIGNpcmNsZV9tYXJrZXJfZDkzMTMzZmRkZTMyNDRiOTk4ZWMyMGJhNWMzNGI1N2QuYmluZFBvcHVwKHBvcHVwX2IyMjYyMDI5MTc5NDQxZjdhYjBkYTAwZDBmMDNiZGNiKQogICAgICAgIDsKCiAgICAgICAgCiAgICAKICAgIAogICAgICAgICAgICB2YXIgY2lyY2xlX21hcmtlcl83OTVkMDY0MmY1NDI0NmI2ODZmNTAzZjQzNjEzMzQzNyA9IEwuY2lyY2xlTWFya2VyKAogICAgICAgICAgICAgICAgWzI4LjU4MTM3OTQ1MTIwOTY5MiwgNzcuMjU0NDAxMzE2Mzc5NzRdLAogICAgICAgICAgICAgICAgeyJidWJibGluZ01vdXNlRXZlbnRzIjogdHJ1ZSwgImNvbG9yIjogIiNmZmIzNjAiLCAiZGFzaEFycmF5IjogbnVsbCwgImRhc2hPZmZzZXQiOiBudWxsLCAiZmlsbCI6IHRydWUsICJmaWxsQ29sb3IiOiAiI2ZmYjM2MCIsICJmaWxsT3BhY2l0eSI6IDAuNywgImZpbGxSdWxlIjogImV2ZW5vZGQiLCAibGluZUNhcCI6ICJyb3VuZCIsICJsaW5lSm9pbiI6ICJyb3VuZCIsICJvcGFjaXR5IjogMS4wLCAicmFkaXVzIjogNSwgInN0cm9rZSI6IHRydWUsICJ3ZWlnaHQiOiAzfQogICAgICAgICAgICApLmFkZFRvKG1hcF81YmQ0YjBkMmMwYTg0ZWJiYmI4NWFmN2I5ZTBkODhjYik7CiAgICAgICAgCiAgICAKICAgICAgICB2YXIgcG9wdXBfY2JmMWU5ZGY0M2Q4NDhkYTg2ZmQ1NThjNzc3YTJhMGEgPSBMLnBvcHVwKHsibWF4V2lkdGgiOiAiMTAwJSJ9KTsKCiAgICAgICAgCiAgICAgICAgICAgIHZhciBodG1sXzIxMjU3ZTU0ZWVhMzQwZjFiMzNhYjEwNzFiNWNlOGUxID0gJChgPGRpdiBpZD0iaHRtbF8yMTI1N2U1NGVlYTM0MGYxYjMzYWIxMDcxYjVjZThlMSIgc3R5bGU9IndpZHRoOiAxMDAuMCU7IGhlaWdodDogMTAwLjAlOyI+U09VVEggREVMSEkgQ2x1c3RlciA0PC9kaXY+YClbMF07CiAgICAgICAgICAgIHBvcHVwX2NiZjFlOWRmNDNkODQ4ZGE4NmZkNTU4Yzc3N2EyYTBhLnNldENvbnRlbnQoaHRtbF8yMTI1N2U1NGVlYTM0MGYxYjMzYWIxMDcxYjVjZThlMSk7CiAgICAgICAgCgogICAgICAgIGNpcmNsZV9tYXJrZXJfNzk1ZDA2NDJmNTQyNDZiNjg2ZjUwM2Y0MzYxMzM0MzcuYmluZFBvcHVwKHBvcHVwX2NiZjFlOWRmNDNkODQ4ZGE4NmZkNTU4Yzc3N2EyYTBhKQogICAgICAgIDsKCiAgICAgICAgCiAgICAKICAgIAogICAgICAgICAgICB2YXIgY2lyY2xlX21hcmtlcl81MThhNTFkMGYzYWU0NjU1OGI5MjljZmFkMGJkMjU0NyA9IEwuY2lyY2xlTWFya2VyKAogICAgICAgICAgICAgICAgWzI4LjY2NjE3NzIsIDc3LjEzOTEyNTZdLAogICAgICAgICAgICAgICAgeyJidWJibGluZ01vdXNlRXZlbnRzIjogdHJ1ZSwgImNvbG9yIjogIiNmZjAwMDAiLCAiZGFzaEFycmF5IjogbnVsbCwgImRhc2hPZmZzZXQiOiBudWxsLCAiZmlsbCI6IHRydWUsICJmaWxsQ29sb3IiOiAiI2ZmMDAwMCIsICJmaWxsT3BhY2l0eSI6IDAuNywgImZpbGxSdWxlIjogImV2ZW5vZGQiLCAibGluZUNhcCI6ICJyb3VuZCIsICJsaW5lSm9pbiI6ICJyb3VuZCIsICJvcGFjaXR5IjogMS4wLCAicmFkaXVzIjogNSwgInN0cm9rZSI6IHRydWUsICJ3ZWlnaHQiOiAzfQogICAgICAgICAgICApLmFkZFRvKG1hcF81YmQ0YjBkMmMwYTg0ZWJiYmI4NWFmN2I5ZTBkODhjYik7CiAgICAgICAgCiAgICAKICAgICAgICB2YXIgcG9wdXBfNjUxOTE3NTc0MWNmNDEyOThjYjc5ZWI5ZDZlNjVlMTIgPSBMLnBvcHVwKHsibWF4V2lkdGgiOiAiMTAwJSJ9KTsKCiAgICAgICAgCiAgICAgICAgICAgIHZhciBodG1sX2RiMjUxMzA4YjBiODRkZWVhNjA3NmZkZmM5ZDMxYzRkID0gJChgPGRpdiBpZD0iaHRtbF9kYjI1MTMwOGIwYjg0ZGVlYTYwNzZmZGZjOWQzMWM0ZCIgc3R5bGU9IndpZHRoOiAxMDAuMCU7IGhlaWdodDogMTAwLjAlOyI+V0VTVCBERUxISSBDbHVzdGVyIDA8L2Rpdj5gKVswXTsKICAgICAgICAgICAgcG9wdXBfNjUxOTE3NTc0MWNmNDEyOThjYjc5ZWI5ZDZlNjVlMTIuc2V0Q29udGVudChodG1sX2RiMjUxMzA4YjBiODRkZWVhNjA3NmZkZmM5ZDMxYzRkKTsKICAgICAgICAKCiAgICAgICAgY2lyY2xlX21hcmtlcl81MThhNTFkMGYzYWU0NjU1OGI5MjljZmFkMGJkMjU0Ny5iaW5kUG9wdXAocG9wdXBfNjUxOTE3NTc0MWNmNDEyOThjYjc5ZWI5ZDZlNjVlMTIpCiAgICAgICAgOwoKICAgICAgICAKICAgIAogICAgCiAgICAgICAgICAgIHZhciBjaXJjbGVfbWFya2VyX2U1MzhlYWI3MTYwNzQxMDdhMjJkYTViZGViZTg1YjUyID0gTC5jaXJjbGVNYXJrZXIoCiAgICAgICAgICAgICAgICBbMjguNTQ4NzYxLCA3Ny4xODE1MzFdLAogICAgICAgICAgICAgICAgeyJidWJibGluZ01vdXNlRXZlbnRzIjogdHJ1ZSwgImNvbG9yIjogIiNmZjAwMDAiLCAiZGFzaEFycmF5IjogbnVsbCwgImRhc2hPZmZzZXQiOiBudWxsLCAiZmlsbCI6IHRydWUsICJmaWxsQ29sb3IiOiAiI2ZmMDAwMCIsICJmaWxsT3BhY2l0eSI6IDAuNywgImZpbGxSdWxlIjogImV2ZW5vZGQiLCAibGluZUNhcCI6ICJyb3VuZCIsICJsaW5lSm9pbiI6ICJyb3VuZCIsICJvcGFjaXR5IjogMS4wLCAicmFkaXVzIjogNSwgInN0cm9rZSI6IHRydWUsICJ3ZWlnaHQiOiAzfQogICAgICAgICAgICApLmFkZFRvKG1hcF81YmQ0YjBkMmMwYTg0ZWJiYmI4NWFmN2I5ZTBkODhjYik7CiAgICAgICAgCiAgICAKICAgICAgICB2YXIgcG9wdXBfODE2ZTljMTliMzMyNDAyOWE4ODE0MWFhOTlkNGU2NTkgPSBMLnBvcHVwKHsibWF4V2lkdGgiOiAiMTAwJSJ9KTsKCiAgICAgICAgCiAgICAgICAgICAgIHZhciBodG1sXzJjZGE0N2YyOGM5MjRhMzM4NTBjNGI1MDYxY2QwNWVhID0gJChgPGRpdiBpZD0iaHRtbF8yY2RhNDdmMjhjOTI0YTMzODUwYzRiNTA2MWNkMDVlYSIgc3R5bGU9IndpZHRoOiAxMDAuMCU7IGhlaWdodDogMTAwLjAlOyI+U09VVEggV0VTVCBERUxISSBDbHVzdGVyIDA8L2Rpdj5gKVswXTsKICAgICAgICAgICAgcG9wdXBfODE2ZTljMTliMzMyNDAyOWE4ODE0MWFhOTlkNGU2NTkuc2V0Q29udGVudChodG1sXzJjZGE0N2YyOGM5MjRhMzM4NTBjNGI1MDYxY2QwNWVhKTsKICAgICAgICAKCiAgICAgICAgY2lyY2xlX21hcmtlcl9lNTM4ZWFiNzE2MDc0MTA3YTIyZGE1YmRlYmU4NWI1Mi5iaW5kUG9wdXAocG9wdXBfODE2ZTljMTliMzMyNDAyOWE4ODE0MWFhOTlkNGU2NTkpCiAgICAgICAgOwoKICAgICAgICAKICAgIAogICAgCiAgICAgICAgICAgIHZhciBjaXJjbGVfbWFya2VyX2Y2MTMzZTMyZjc0YjQ4Yzk5N2Y4MjM5MTQ0ZmM2ZjFlID0gTC5jaXJjbGVNYXJrZXIoCiAgICAgICAgICAgICAgICBbMjguNTM2NDM5MSwgNzcuMjEzNzY5XSwKICAgICAgICAgICAgICAgIHsiYnViYmxpbmdNb3VzZUV2ZW50cyI6IHRydWUsICJjb2xvciI6ICIjZmZiMzYwIiwgImRhc2hBcnJheSI6IG51bGwsICJkYXNoT2Zmc2V0IjogbnVsbCwgImZpbGwiOiB0cnVlLCAiZmlsbENvbG9yIjogIiNmZmIzNjAiLCAiZmlsbE9wYWNpdHkiOiAwLjcsICJmaWxsUnVsZSI6ICJldmVub2RkIiwgImxpbmVDYXAiOiAicm91bmQiLCAibGluZUpvaW4iOiAicm91bmQiLCAib3BhY2l0eSI6IDEuMCwgInJhZGl1cyI6IDUsICJzdHJva2UiOiB0cnVlLCAid2VpZ2h0IjogM30KICAgICAgICAgICAgKS5hZGRUbyhtYXBfNWJkNGIwZDJjMGE4NGViYmJiODVhZjdiOWUwZDg4Y2IpOwogICAgICAgIAogICAgCiAgICAgICAgdmFyIHBvcHVwXzYyZmY4YjYxMjQ3NjQxYWRhZGJiNGY1NjZhNDBmOWUyID0gTC5wb3B1cCh7Im1heFdpZHRoIjogIjEwMCUifSk7CgogICAgICAgIAogICAgICAgICAgICB2YXIgaHRtbF9iMmQ4YjJmZGFkNGE0NjIxYTVkYzM0ZjliZTNkNzM4NSA9ICQoYDxkaXYgaWQ9Imh0bWxfYjJkOGIyZmRhZDRhNDYyMWE1ZGMzNGY5YmUzZDczODUiIHN0eWxlPSJ3aWR0aDogMTAwLjAlOyBoZWlnaHQ6IDEwMC4wJTsiPlNPVVRIIERFTEhJIENsdXN0ZXIgNDwvZGl2PmApWzBdOwogICAgICAgICAgICBwb3B1cF82MmZmOGI2MTI0NzY0MWFkYWRiYjRmNTY2YTQwZjllMi5zZXRDb250ZW50KGh0bWxfYjJkOGIyZmRhZDRhNDYyMWE1ZGMzNGY5YmUzZDczODUpOwogICAgICAgIAoKICAgICAgICBjaXJjbGVfbWFya2VyX2Y2MTMzZTMyZjc0YjQ4Yzk5N2Y4MjM5MTQ0ZmM2ZjFlLmJpbmRQb3B1cChwb3B1cF82MmZmOGI2MTI0NzY0MWFkYWRiYjRmNTY2YTQwZjllMikKICAgICAgICA7CgogICAgICAgIAogICAgCiAgICAKICAgICAgICAgICAgdmFyIGNpcmNsZV9tYXJrZXJfNTA3MDg1NWYwZjA1NGEyMTljNGRhZWU2NWEzYzE2YTYgPSBMLmNpcmNsZU1hcmtlcigKICAgICAgICAgICAgICAgIFsyOC42NTEyNjc5LCA3Ny4xMDIxOTM1XSwKICAgICAgICAgICAgICAgIHsiYnViYmxpbmdNb3VzZUV2ZW50cyI6IHRydWUsICJjb2xvciI6ICIjZmYwMDAwIiwgImRhc2hBcnJheSI6IG51bGwsICJkYXNoT2Zmc2V0IjogbnVsbCwgImZpbGwiOiB0cnVlLCAiZmlsbENvbG9yIjogIiNmZjAwMDAiLCAiZmlsbE9wYWNpdHkiOiAwLjcsICJmaWxsUnVsZSI6ICJldmVub2RkIiwgImxpbmVDYXAiOiAicm91bmQiLCAibGluZUpvaW4iOiAicm91bmQiLCAib3BhY2l0eSI6IDEuMCwgInJhZGl1cyI6IDUsICJzdHJva2UiOiB0cnVlLCAid2VpZ2h0IjogM30KICAgICAgICAgICAgKS5hZGRUbyhtYXBfNWJkNGIwZDJjMGE4NGViYmJiODVhZjdiOWUwZDg4Y2IpOwogICAgICAgIAogICAgCiAgICAgICAgdmFyIHBvcHVwXzZiODg0MThjN2RhNDQ3ZDdiMWUyYWRhMDg0MzFkZmU0ID0gTC5wb3B1cCh7Im1heFdpZHRoIjogIjEwMCUifSk7CgogICAgICAgIAogICAgICAgICAgICB2YXIgaHRtbF8xNTIyOWU2MDgyODA0N2Q1OTFjZTE0ZGY0YTUzMWNjOSA9ICQoYDxkaXYgaWQ9Imh0bWxfMTUyMjllNjA4MjgwNDdkNTkxY2UxNGRmNGE1MzFjYzkiIHN0eWxlPSJ3aWR0aDogMTAwLjAlOyBoZWlnaHQ6IDEwMC4wJTsiPldFU1QgREVMSEkgQ2x1c3RlciAwPC9kaXY+YClbMF07CiAgICAgICAgICAgIHBvcHVwXzZiODg0MThjN2RhNDQ3ZDdiMWUyYWRhMDg0MzFkZmU0LnNldENvbnRlbnQoaHRtbF8xNTIyOWU2MDgyODA0N2Q1OTFjZTE0ZGY0YTUzMWNjOSk7CiAgICAgICAgCgogICAgICAgIGNpcmNsZV9tYXJrZXJfNTA3MDg1NWYwZjA1NGEyMTljNGRhZWU2NWEzYzE2YTYuYmluZFBvcHVwKHBvcHVwXzZiODg0MThjN2RhNDQ3ZDdiMWUyYWRhMDg0MzFkZmU0KQogICAgICAgIDsKCiAgICAgICAgCiAgICAKICAgIAogICAgICAgICAgICB2YXIgY2lyY2xlX21hcmtlcl9iYTU1OGQ2OWJkMWU0MWI5OTQ2NGM2NjIyMmQ0ZjUwNCA9IEwuY2lyY2xlTWFya2VyKAogICAgICAgICAgICAgICAgWzI4LjU0Mjg3MTU5MTc5MDQzLCA3Ny4yNTUwMDA1Mjk3MzA3NV0sCiAgICAgICAgICAgICAgICB7ImJ1YmJsaW5nTW91c2VFdmVudHMiOiB0cnVlLCAiY29sb3IiOiAiI2ZmYjM2MCIsICJkYXNoQXJyYXkiOiBudWxsLCAiZGFzaE9mZnNldCI6IG51bGwsICJmaWxsIjogdHJ1ZSwgImZpbGxDb2xvciI6ICIjZmZiMzYwIiwgImZpbGxPcGFjaXR5IjogMC43LCAiZmlsbFJ1bGUiOiAiZXZlbm9kZCIsICJsaW5lQ2FwIjogInJvdW5kIiwgImxpbmVKb2luIjogInJvdW5kIiwgIm9wYWNpdHkiOiAxLjAsICJyYWRpdXMiOiA1LCAic3Ryb2tlIjogdHJ1ZSwgIndlaWdodCI6IDN9CiAgICAgICAgICAgICkuYWRkVG8obWFwXzViZDRiMGQyYzBhODRlYmJiYjg1YWY3YjllMGQ4OGNiKTsKICAgICAgICAKICAgIAogICAgICAgIHZhciBwb3B1cF9mNmNmNjVkMjAzMTM0OGQyYmIwYTY0OWRmMWJiNWE1MyA9IEwucG9wdXAoeyJtYXhXaWR0aCI6ICIxMDAlIn0pOwoKICAgICAgICAKICAgICAgICAgICAgdmFyIGh0bWxfODIwOWQxYjhmYTA4NDJiNjljNjk2Y2RkM2IyNWIxZGQgPSAkKGA8ZGl2IGlkPSJodG1sXzgyMDlkMWI4ZmEwODQyYjY5YzY5NmNkZDNiMjViMWRkIiBzdHlsZT0id2lkdGg6IDEwMC4wJTsgaGVpZ2h0OiAxMDAuMCU7Ij5TT1VUSCBERUxISSBDbHVzdGVyIDQ8L2Rpdj5gKVswXTsKICAgICAgICAgICAgcG9wdXBfZjZjZjY1ZDIwMzEzNDhkMmJiMGE2NDlkZjFiYjVhNTMuc2V0Q29udGVudChodG1sXzgyMDlkMWI4ZmEwODQyYjY5YzY5NmNkZDNiMjViMWRkKTsKICAgICAgICAKCiAgICAgICAgY2lyY2xlX21hcmtlcl9iYTU1OGQ2OWJkMWU0MWI5OTQ2NGM2NjIyMmQ0ZjUwNC5iaW5kUG9wdXAocG9wdXBfZjZjZjY1ZDIwMzEzNDhkMmJiMGE2NDlkZjFiYjVhNTMpCiAgICAgICAgOwoKICAgICAgICAKICAgIAogICAgCiAgICAgICAgICAgIHZhciBjaXJjbGVfbWFya2VyX2Q3NjMwOWU0NjI3NzQ3Zjg4MjA5NDA0ZWFlMGU4NjczID0gTC5jaXJjbGVNYXJrZXIoCiAgICAgICAgICAgICAgICBbMjguNDgwODYyODk5OTk5OTk1LCA3Ny4wODQ4ODgyOTk5OTk5OV0sCiAgICAgICAgICAgICAgICB7ImJ1YmJsaW5nTW91c2VFdmVudHMiOiB0cnVlLCAiY29sb3IiOiAiI2ZmYjM2MCIsICJkYXNoQXJyYXkiOiBudWxsLCAiZGFzaE9mZnNldCI6IG51bGwsICJmaWxsIjogdHJ1ZSwgImZpbGxDb2xvciI6ICIjZmZiMzYwIiwgImZpbGxPcGFjaXR5IjogMC43LCAiZmlsbFJ1bGUiOiAiZXZlbm9kZCIsICJsaW5lQ2FwIjogInJvdW5kIiwgImxpbmVKb2luIjogInJvdW5kIiwgIm9wYWNpdHkiOiAxLjAsICJyYWRpdXMiOiA1LCAic3Ryb2tlIjogdHJ1ZSwgIndlaWdodCI6IDN9CiAgICAgICAgICAgICkuYWRkVG8obWFwXzViZDRiMGQyYzBhODRlYmJiYjg1YWY3YjllMGQ4OGNiKTsKICAgICAgICAKICAgIAogICAgICAgIHZhciBwb3B1cF9lMjExMWYwNjcyMDU0OTNhOTUxOThjNjhhN2I2N2Y5OSA9IEwucG9wdXAoeyJtYXhXaWR0aCI6ICIxMDAlIn0pOwoKICAgICAgICAKICAgICAgICAgICAgdmFyIGh0bWxfN2UzMWQxNWY3ZDRiNDMzYWI4NjJlOGJiMzMyMjRlMDkgPSAkKGA8ZGl2IGlkPSJodG1sXzdlMzFkMTVmN2Q0YjQzM2FiODYyZThiYjMzMjI0ZTA5IiBzdHlsZT0id2lkdGg6IDEwMC4wJTsgaGVpZ2h0OiAxMDAuMCU7Ij5TT1VUSCBERUxISSBDbHVzdGVyIDQ8L2Rpdj5gKVswXTsKICAgICAgICAgICAgcG9wdXBfZTIxMTFmMDY3MjA1NDkzYTk1MTk4YzY4YTdiNjdmOTkuc2V0Q29udGVudChodG1sXzdlMzFkMTVmN2Q0YjQzM2FiODYyZThiYjMzMjI0ZTA5KTsKICAgICAgICAKCiAgICAgICAgY2lyY2xlX21hcmtlcl9kNzYzMDllNDYyNzc0N2Y4ODIwOTQwNGVhZTBlODY3My5iaW5kUG9wdXAocG9wdXBfZTIxMTFmMDY3MjA1NDkzYTk1MTk4YzY4YTdiNjdmOTkpCiAgICAgICAgOwoKICAgICAgICAKICAgIAogICAgCiAgICAgICAgICAgIHZhciBjaXJjbGVfbWFya2VyXzUyNTQ5NTI1ZjgwMjQzMTY4ZmNjZThiM2E2YzMzNjQzID0gTC5jaXJjbGVNYXJrZXIoCiAgICAgICAgICAgICAgICBbMjguNTc5Mjg2MTk5OTk5OTk1LCA3Ny4xNzE2NDc1MTYwNTgzNl0sCiAgICAgICAgICAgICAgICB7ImJ1YmJsaW5nTW91c2VFdmVudHMiOiB0cnVlLCAiY29sb3IiOiAiI2ZmMDAwMCIsICJkYXNoQXJyYXkiOiBudWxsLCAiZGFzaE9mZnNldCI6IG51bGwsICJmaWxsIjogdHJ1ZSwgImZpbGxDb2xvciI6ICIjZmYwMDAwIiwgImZpbGxPcGFjaXR5IjogMC43LCAiZmlsbFJ1bGUiOiAiZXZlbm9kZCIsICJsaW5lQ2FwIjogInJvdW5kIiwgImxpbmVKb2luIjogInJvdW5kIiwgIm9wYWNpdHkiOiAxLjAsICJyYWRpdXMiOiA1LCAic3Ryb2tlIjogdHJ1ZSwgIndlaWdodCI6IDN9CiAgICAgICAgICAgICkuYWRkVG8obWFwXzViZDRiMGQyYzBhODRlYmJiYjg1YWY3YjllMGQ4OGNiKTsKICAgICAgICAKICAgIAogICAgICAgIHZhciBwb3B1cF8zYmQ1MzRhOWM5NzI0NDljOThiOTNiZWU4ZTM2OGNkYiA9IEwucG9wdXAoeyJtYXhXaWR0aCI6ICIxMDAlIn0pOwoKICAgICAgICAKICAgICAgICAgICAgdmFyIGh0bWxfNTMyYzI1ZWUwOWIxNDQ2MGI4Y2JkZWYzMWEyZWUyMzAgPSAkKGA8ZGl2IGlkPSJodG1sXzUzMmMyNWVlMDliMTQ0NjBiOGNiZGVmMzFhMmVlMjMwIiBzdHlsZT0id2lkdGg6IDEwMC4wJTsgaGVpZ2h0OiAxMDAuMCU7Ij5TT1VUSCBXRVNUIERFTEhJIENsdXN0ZXIgMDwvZGl2PmApWzBdOwogICAgICAgICAgICBwb3B1cF8zYmQ1MzRhOWM5NzI0NDljOThiOTNiZWU4ZTM2OGNkYi5zZXRDb250ZW50KGh0bWxfNTMyYzI1ZWUwOWIxNDQ2MGI4Y2JkZWYzMWEyZWUyMzApOwogICAgICAgIAoKICAgICAgICBjaXJjbGVfbWFya2VyXzUyNTQ5NTI1ZjgwMjQzMTY4ZmNjZThiM2E2YzMzNjQzLmJpbmRQb3B1cChwb3B1cF8zYmQ1MzRhOWM5NzI0NDljOThiOTNiZWU4ZTM2OGNkYikKICAgICAgICA7CgogICAgICAgIAogICAgCiAgICAKICAgICAgICAgICAgdmFyIGNpcmNsZV9tYXJrZXJfY2Q2YzM5Mjc0OGIwNGJlMTgwMmE1NjUzYzU4MTMxYmUgPSBMLmNpcmNsZU1hcmtlcigKICAgICAgICAgICAgICAgIFsyOC41NzU1MjIxNzA2ODg4NTMsIDc3LjE5NjY5ODg0MjY0NTAyXSwKICAgICAgICAgICAgICAgIHsiYnViYmxpbmdNb3VzZUV2ZW50cyI6IHRydWUsICJjb2xvciI6ICIjZmYwMDAwIiwgImRhc2hBcnJheSI6IG51bGwsICJkYXNoT2Zmc2V0IjogbnVsbCwgImZpbGwiOiB0cnVlLCAiZmlsbENvbG9yIjogIiNmZjAwMDAiLCAiZmlsbE9wYWNpdHkiOiAwLjcsICJmaWxsUnVsZSI6ICJldmVub2RkIiwgImxpbmVDYXAiOiAicm91bmQiLCAibGluZUpvaW4iOiAicm91bmQiLCAib3BhY2l0eSI6IDEuMCwgInJhZGl1cyI6IDUsICJzdHJva2UiOiB0cnVlLCAid2VpZ2h0IjogM30KICAgICAgICAgICAgKS5hZGRUbyhtYXBfNWJkNGIwZDJjMGE4NGViYmJiODVhZjdiOWUwZDg4Y2IpOwogICAgICAgIAogICAgCiAgICAgICAgdmFyIHBvcHVwXzIyMDk2YTg5NTRlMTRkZDFhOWVkYjYxNzFjMWIyMWUyID0gTC5wb3B1cCh7Im1heFdpZHRoIjogIjEwMCUifSk7CgogICAgICAgIAogICAgICAgICAgICB2YXIgaHRtbF83NTU0NTgwNzEzMjE0NDc1OTYxYzA5MGMwYzgxZWMwNiA9ICQoYDxkaXYgaWQ9Imh0bWxfNzU1NDU4MDcxMzIxNDQ3NTk2MWMwOTBjMGM4MWVjMDYiIHN0eWxlPSJ3aWR0aDogMTAwLjAlOyBoZWlnaHQ6IDEwMC4wJTsiPlNPVVRIIFdFU1QgREVMSEkgQ2x1c3RlciAwPC9kaXY+YClbMF07CiAgICAgICAgICAgIHBvcHVwXzIyMDk2YTg5NTRlMTRkZDFhOWVkYjYxNzFjMWIyMWUyLnNldENvbnRlbnQoaHRtbF83NTU0NTgwNzEzMjE0NDc1OTYxYzA5MGMwYzgxZWMwNik7CiAgICAgICAgCgogICAgICAgIGNpcmNsZV9tYXJrZXJfY2Q2YzM5Mjc0OGIwNGJlMTgwMmE1NjUzYzU4MTMxYmUuYmluZFBvcHVwKHBvcHVwXzIyMDk2YTg5NTRlMTRkZDFhOWVkYjYxNzFjMWIyMWUyKQogICAgICAgIDsKCiAgICAgICAgCiAgICAKICAgIAogICAgICAgICAgICB2YXIgY2lyY2xlX21hcmtlcl84OTBhNDBjOTY0MTc0YWEzODRmNDAxMzY3ODJiYjVlNSA9IEwuY2lyY2xlTWFya2VyKAogICAgICAgICAgICAgICAgWzI4LjU3MjMxNDAwMDAwMDAwMiwgNzcuMjMxNzI5XSwKICAgICAgICAgICAgICAgIHsiYnViYmxpbmdNb3VzZUV2ZW50cyI6IHRydWUsICJjb2xvciI6ICIjZmZiMzYwIiwgImRhc2hBcnJheSI6IG51bGwsICJkYXNoT2Zmc2V0IjogbnVsbCwgImZpbGwiOiB0cnVlLCAiZmlsbENvbG9yIjogIiNmZmIzNjAiLCAiZmlsbE9wYWNpdHkiOiAwLjcsICJmaWxsUnVsZSI6ICJldmVub2RkIiwgImxpbmVDYXAiOiAicm91bmQiLCAibGluZUpvaW4iOiAicm91bmQiLCAib3BhY2l0eSI6IDEuMCwgInJhZGl1cyI6IDUsICJzdHJva2UiOiB0cnVlLCAid2VpZ2h0IjogM30KICAgICAgICAgICAgKS5hZGRUbyhtYXBfNWJkNGIwZDJjMGE4NGViYmJiODVhZjdiOWUwZDg4Y2IpOwogICAgICAgIAogICAgCiAgICAgICAgdmFyIHBvcHVwX2Y0MTFmNjNjODJkZDQ5Zjc5MmJhY2FjMmI2ZWExZmYxID0gTC5wb3B1cCh7Im1heFdpZHRoIjogIjEwMCUifSk7CgogICAgICAgIAogICAgICAgICAgICB2YXIgaHRtbF9kZDEwOTgwMTVlYTY0MTIyYTI4MWM4MDBlZjc0YjI2ZiA9ICQoYDxkaXYgaWQ9Imh0bWxfZGQxMDk4MDE1ZWE2NDEyMmEyODFjODAwZWY3NGIyNmYiIHN0eWxlPSJ3aWR0aDogMTAwLjAlOyBoZWlnaHQ6IDEwMC4wJTsiPlNPVVRIIERFTEhJIENsdXN0ZXIgNDwvZGl2PmApWzBdOwogICAgICAgICAgICBwb3B1cF9mNDExZjYzYzgyZGQ0OWY3OTJiYWNhYzJiNmVhMWZmMS5zZXRDb250ZW50KGh0bWxfZGQxMDk4MDE1ZWE2NDEyMmEyODFjODAwZWY3NGIyNmYpOwogICAgICAgIAoKICAgICAgICBjaXJjbGVfbWFya2VyXzg5MGE0MGM5NjQxNzRhYTM4NGY0MDEzNjc4MmJiNWU1LmJpbmRQb3B1cChwb3B1cF9mNDExZjYzYzgyZGQ0OWY3OTJiYWNhYzJiNmVhMWZmMSkKICAgICAgICA7CgogICAgICAgIAogICAgCiAgICAKICAgICAgICAgICAgdmFyIGNpcmNsZV9tYXJrZXJfYTFiYmRhNDhhM2I2NDU4YWJlOTgzNWRiNjA4ZmNjYWUgPSBMLmNpcmNsZU1hcmtlcigKICAgICAgICAgICAgICAgIFsyOC41MzkwNDczOTk5OTk5OTgsIDc3LjI4ODUwNTU5ODk4NTc0XSwKICAgICAgICAgICAgICAgIHsiYnViYmxpbmdNb3VzZUV2ZW50cyI6IHRydWUsICJjb2xvciI6ICIjZmZiMzYwIiwgImRhc2hBcnJheSI6IG51bGwsICJkYXNoT2Zmc2V0IjogbnVsbCwgImZpbGwiOiB0cnVlLCAiZmlsbENvbG9yIjogIiNmZmIzNjAiLCAiZmlsbE9wYWNpdHkiOiAwLjcsICJmaWxsUnVsZSI6ICJldmVub2RkIiwgImxpbmVDYXAiOiAicm91bmQiLCAibGluZUpvaW4iOiAicm91bmQiLCAib3BhY2l0eSI6IDEuMCwgInJhZGl1cyI6IDUsICJzdHJva2UiOiB0cnVlLCAid2VpZ2h0IjogM30KICAgICAgICAgICAgKS5hZGRUbyhtYXBfNWJkNGIwZDJjMGE4NGViYmJiODVhZjdiOWUwZDg4Y2IpOwogICAgICAgIAogICAgCiAgICAgICAgdmFyIHBvcHVwX2M5ZjZkMzE0MzUwOTQ1NDJiZDcwNTMxMmQwNGM4YzAwID0gTC5wb3B1cCh7Im1heFdpZHRoIjogIjEwMCUifSk7CgogICAgICAgIAogICAgICAgICAgICB2YXIgaHRtbF9iYTNkNWY1Y2NhZTQ0NGRlYjA3MjE0NzRiMWIxMGVmOSA9ICQoYDxkaXYgaWQ9Imh0bWxfYmEzZDVmNWNjYWU0NDRkZWIwNzIxNDc0YjFiMTBlZjkiIHN0eWxlPSJ3aWR0aDogMTAwLjAlOyBoZWlnaHQ6IDEwMC4wJTsiPlNPVVRIIERFTEhJIENsdXN0ZXIgNDwvZGl2PmApWzBdOwogICAgICAgICAgICBwb3B1cF9jOWY2ZDMxNDM1MDk0NTQyYmQ3MDUzMTJkMDRjOGMwMC5zZXRDb250ZW50KGh0bWxfYmEzZDVmNWNjYWU0NDRkZWIwNzIxNDc0YjFiMTBlZjkpOwogICAgICAgIAoKICAgICAgICBjaXJjbGVfbWFya2VyX2ExYmJkYTQ4YTNiNjQ1OGFiZTk4MzVkYjYwOGZjY2FlLmJpbmRQb3B1cChwb3B1cF9jOWY2ZDMxNDM1MDk0NTQyYmQ3MDUzMTJkMDRjOGMwMCkKICAgICAgICA7CgogICAgICAgIAogICAgCiAgICAKICAgICAgICAgICAgdmFyIGNpcmNsZV9tYXJrZXJfNGY3Y2I0Yzc0MDYxNDUwNDg5NzdhZTU5M2U0MGVkZjEgPSBMLmNpcmNsZU1hcmtlcigKICAgICAgICAgICAgICAgIFsyOC42NTgyMzI1MjY2NjY2NywgNzcuMTM3ODc3MzU5OTk5OThdLAogICAgICAgICAgICAgICAgeyJidWJibGluZ01vdXNlRXZlbnRzIjogdHJ1ZSwgImNvbG9yIjogIiNmZjAwMDAiLCAiZGFzaEFycmF5IjogbnVsbCwgImRhc2hPZmZzZXQiOiBudWxsLCAiZmlsbCI6IHRydWUsICJmaWxsQ29sb3IiOiAiI2ZmMDAwMCIsICJmaWxsT3BhY2l0eSI6IDAuNywgImZpbGxSdWxlIjogImV2ZW5vZGQiLCAibGluZUNhcCI6ICJyb3VuZCIsICJsaW5lSm9pbiI6ICJyb3VuZCIsICJvcGFjaXR5IjogMS4wLCAicmFkaXVzIjogNSwgInN0cm9rZSI6IHRydWUsICJ3ZWlnaHQiOiAzfQogICAgICAgICAgICApLmFkZFRvKG1hcF81YmQ0YjBkMmMwYTg0ZWJiYmI4NWFmN2I5ZTBkODhjYik7CiAgICAgICAgCiAgICAKICAgICAgICB2YXIgcG9wdXBfYWJmMWU2ODU3NWI0NDUzYjg2ZWU0MDAxY2NkZjAzZmMgPSBMLnBvcHVwKHsibWF4V2lkdGgiOiAiMTAwJSJ9KTsKCiAgICAgICAgCiAgICAgICAgICAgIHZhciBodG1sXzQzYzNiM2E2ZDlkZTRlYzhiMjMyZmM3Y2JiMTI4ZjYwID0gJChgPGRpdiBpZD0iaHRtbF80M2MzYjNhNmQ5ZGU0ZWM4YjIzMmZjN2NiYjEyOGY2MCIgc3R5bGU9IndpZHRoOiAxMDAuMCU7IGhlaWdodDogMTAwLjAlOyI+V0VTVCBERUxISSBDbHVzdGVyIDA8L2Rpdj5gKVswXTsKICAgICAgICAgICAgcG9wdXBfYWJmMWU2ODU3NWI0NDUzYjg2ZWU0MDAxY2NkZjAzZmMuc2V0Q29udGVudChodG1sXzQzYzNiM2E2ZDlkZTRlYzhiMjMyZmM3Y2JiMTI4ZjYwKTsKICAgICAgICAKCiAgICAgICAgY2lyY2xlX21hcmtlcl80ZjdjYjRjNzQwNjE0NTA0ODk3N2FlNTkzZTQwZWRmMS5iaW5kUG9wdXAocG9wdXBfYWJmMWU2ODU3NWI0NDUzYjg2ZWU0MDAxY2NkZjAzZmMpCiAgICAgICAgOwoKICAgICAgICAKICAgIAogICAgCiAgICAgICAgICAgIHZhciBjaXJjbGVfbWFya2VyXzY1YjQ4YzIyZjU1ZTQ2Nzk5YTJjNmU4YjNjZDBlZmRiID0gTC5jaXJjbGVNYXJrZXIoCiAgICAgICAgICAgICAgICBbMjguNjQ0NDQ4ODQ5OTU1MDksIDc3LjExNjI5NTg0NDA3MTA2XSwKICAgICAgICAgICAgICAgIHsiYnViYmxpbmdNb3VzZUV2ZW50cyI6IHRydWUsICJjb2xvciI6ICIjZmYwMDAwIiwgImRhc2hBcnJheSI6IG51bGwsICJkYXNoT2Zmc2V0IjogbnVsbCwgImZpbGwiOiB0cnVlLCAiZmlsbENvbG9yIjogIiNmZjAwMDAiLCAiZmlsbE9wYWNpdHkiOiAwLjcsICJmaWxsUnVsZSI6ICJldmVub2RkIiwgImxpbmVDYXAiOiAicm91bmQiLCAibGluZUpvaW4iOiAicm91bmQiLCAib3BhY2l0eSI6IDEuMCwgInJhZGl1cyI6IDUsICJzdHJva2UiOiB0cnVlLCAid2VpZ2h0IjogM30KICAgICAgICAgICAgKS5hZGRUbyhtYXBfNWJkNGIwZDJjMGE4NGViYmJiODVhZjdiOWUwZDg4Y2IpOwogICAgICAgIAogICAgCiAgICAgICAgdmFyIHBvcHVwX2Y3MjcwMzU1ZjkxOTRkY2FiMTQ2NDE4ZGQyNjc3ZmVjID0gTC5wb3B1cCh7Im1heFdpZHRoIjogIjEwMCUifSk7CgogICAgICAgIAogICAgICAgICAgICB2YXIgaHRtbF82ZTg1MTNlNTk0M2M0N2UxYjE4Mzk4NTg0ZmRlYzA0YSA9ICQoYDxkaXYgaWQ9Imh0bWxfNmU4NTEzZTU5NDNjNDdlMWIxODM5ODU4NGZkZWMwNGEiIHN0eWxlPSJ3aWR0aDogMTAwLjAlOyBoZWlnaHQ6IDEwMC4wJTsiPldFU1QgREVMSEkgQ2x1c3RlciAwPC9kaXY+YClbMF07CiAgICAgICAgICAgIHBvcHVwX2Y3MjcwMzU1ZjkxOTRkY2FiMTQ2NDE4ZGQyNjc3ZmVjLnNldENvbnRlbnQoaHRtbF82ZTg1MTNlNTk0M2M0N2UxYjE4Mzk4NTg0ZmRlYzA0YSk7CiAgICAgICAgCgogICAgICAgIGNpcmNsZV9tYXJrZXJfNjViNDhjMjJmNTVlNDY3OTlhMmM2ZThiM2NkMGVmZGIuYmluZFBvcHVwKHBvcHVwX2Y3MjcwMzU1ZjkxOTRkY2FiMTQ2NDE4ZGQyNjc3ZmVjKQogICAgICAgIDsKCiAgICAgICAgCiAgICAKICAgIAogICAgICAgICAgICB2YXIgY2lyY2xlX21hcmtlcl81NzBlNGFjZjQ2OGE0MGE4OTBkMDc4MDY1MDc1ZjI5MyA9IEwuY2lyY2xlTWFya2VyKAogICAgICAgICAgICAgICAgWzI4LjYzNTg5NCwgNzcuMTQ1NjYyXSwKICAgICAgICAgICAgICAgIHsiYnViYmxpbmdNb3VzZUV2ZW50cyI6IHRydWUsICJjb2xvciI6ICIjZmYwMDAwIiwgImRhc2hBcnJheSI6IG51bGwsICJkYXNoT2Zmc2V0IjogbnVsbCwgImZpbGwiOiB0cnVlLCAiZmlsbENvbG9yIjogIiNmZjAwMDAiLCAiZmlsbE9wYWNpdHkiOiAwLjcsICJmaWxsUnVsZSI6ICJldmVub2RkIiwgImxpbmVDYXAiOiAicm91bmQiLCAibGluZUpvaW4iOiAicm91bmQiLCAib3BhY2l0eSI6IDEuMCwgInJhZGl1cyI6IDUsICJzdHJva2UiOiB0cnVlLCAid2VpZ2h0IjogM30KICAgICAgICAgICAgKS5hZGRUbyhtYXBfNWJkNGIwZDJjMGE4NGViYmJiODVhZjdiOWUwZDg4Y2IpOwogICAgICAgIAogICAgCiAgICAgICAgdmFyIHBvcHVwX2ZmODQ1NzQ5NzAzNzQ5YTM5MTI4Y2MxN2RhMGZlNmU1ID0gTC5wb3B1cCh7Im1heFdpZHRoIjogIjEwMCUifSk7CgogICAgICAgIAogICAgICAgICAgICB2YXIgaHRtbF8zZTUwODkzNTM4ZjQ0NTE1YjEzOGQzMjI0NDM0NTcwZCA9ICQoYDxkaXYgaWQ9Imh0bWxfM2U1MDg5MzUzOGY0NDUxNWIxMzhkMzIyNDQzNDU3MGQiIHN0eWxlPSJ3aWR0aDogMTAwLjAlOyBoZWlnaHQ6IDEwMC4wJTsiPlNPVVRIIFdFU1QgREVMSEkgQ2x1c3RlciAwPC9kaXY+YClbMF07CiAgICAgICAgICAgIHBvcHVwX2ZmODQ1NzQ5NzAzNzQ5YTM5MTI4Y2MxN2RhMGZlNmU1LnNldENvbnRlbnQoaHRtbF8zZTUwODkzNTM4ZjQ0NTE1YjEzOGQzMjI0NDM0NTcwZCk7CiAgICAgICAgCgogICAgICAgIGNpcmNsZV9tYXJrZXJfNTcwZTRhY2Y0NjhhNDBhODkwZDA3ODA2NTA3NWYyOTMuYmluZFBvcHVwKHBvcHVwX2ZmODQ1NzQ5NzAzNzQ5YTM5MTI4Y2MxN2RhMGZlNmU1KQogICAgICAgIDsKCiAgICAgICAgCiAgICAKICAgIAogICAgICAgICAgICB2YXIgY2lyY2xlX21hcmtlcl80MTBkMGE0ZDZiYTE0Y2IwYmQ0YmQwYjYzMzFjOTJlNSA9IEwuY2lyY2xlTWFya2VyKAogICAgICAgICAgICAgICAgWzI4LjU3MDI5MjY2MDQ2NjkwNSwgNzcuMjAzNTcyNDg3NDMzNjJdLAogICAgICAgICAgICAgICAgeyJidWJibGluZ01vdXNlRXZlbnRzIjogdHJ1ZSwgImNvbG9yIjogIiNmZjAwMDAiLCAiZGFzaEFycmF5IjogbnVsbCwgImRhc2hPZmZzZXQiOiBudWxsLCAiZmlsbCI6IHRydWUsICJmaWxsQ29sb3IiOiAiI2ZmMDAwMCIsICJmaWxsT3BhY2l0eSI6IDAuNywgImZpbGxSdWxlIjogImV2ZW5vZGQiLCAibGluZUNhcCI6ICJyb3VuZCIsICJsaW5lSm9pbiI6ICJyb3VuZCIsICJvcGFjaXR5IjogMS4wLCAicmFkaXVzIjogNSwgInN0cm9rZSI6IHRydWUsICJ3ZWlnaHQiOiAzfQogICAgICAgICAgICApLmFkZFRvKG1hcF81YmQ0YjBkMmMwYTg0ZWJiYmI4NWFmN2I5ZTBkODhjYik7CiAgICAgICAgCiAgICAKICAgICAgICB2YXIgcG9wdXBfZWIyOGRjMTI3Y2FiNDJlNGEwODdkY2UzYjFmMWQ3MzkgPSBMLnBvcHVwKHsibWF4V2lkdGgiOiAiMTAwJSJ9KTsKCiAgICAgICAgCiAgICAgICAgICAgIHZhciBodG1sX2Q1Njk4OWI4ZGY3ZTQyZjNhNzI3YWU2NmIxZjgyNWIyID0gJChgPGRpdiBpZD0iaHRtbF9kNTY5ODliOGRmN2U0MmYzYTcyN2FlNjZiMWY4MjViMiIgc3R5bGU9IndpZHRoOiAxMDAuMCU7IGhlaWdodDogMTAwLjAlOyI+U09VVEggV0VTVCBERUxISSBDbHVzdGVyIDA8L2Rpdj5gKVswXTsKICAgICAgICAgICAgcG9wdXBfZWIyOGRjMTI3Y2FiNDJlNGEwODdkY2UzYjFmMWQ3Mzkuc2V0Q29udGVudChodG1sX2Q1Njk4OWI4ZGY3ZTQyZjNhNzI3YWU2NmIxZjgyNWIyKTsKICAgICAgICAKCiAgICAgICAgY2lyY2xlX21hcmtlcl80MTBkMGE0ZDZiYTE0Y2IwYmQ0YmQwYjYzMzFjOTJlNS5iaW5kUG9wdXAocG9wdXBfZWIyOGRjMTI3Y2FiNDJlNGEwODdkY2UzYjFmMWQ3MzkpCiAgICAgICAgOwoKICAgICAgICAKICAgIAogICAgCiAgICAgICAgICAgIHZhciBjaXJjbGVfbWFya2VyX2E4YmIxMGRiYTE4ZDQwY2E5NjQwZGM3OTc5MGE0YWVmID0gTC5jaXJjbGVNYXJrZXIoCiAgICAgICAgICAgICAgICBbMjguNTA0NywgNzcuMTcyMV0sCiAgICAgICAgICAgICAgICB7ImJ1YmJsaW5nTW91c2VFdmVudHMiOiB0cnVlLCAiY29sb3IiOiAiI2ZmMDAwMCIsICJkYXNoQXJyYXkiOiBudWxsLCAiZGFzaE9mZnNldCI6IG51bGwsICJmaWxsIjogdHJ1ZSwgImZpbGxDb2xvciI6ICIjZmYwMDAwIiwgImZpbGxPcGFjaXR5IjogMC43LCAiZmlsbFJ1bGUiOiAiZXZlbm9kZCIsICJsaW5lQ2FwIjogInJvdW5kIiwgImxpbmVKb2luIjogInJvdW5kIiwgIm9wYWNpdHkiOiAxLjAsICJyYWRpdXMiOiA1LCAic3Ryb2tlIjogdHJ1ZSwgIndlaWdodCI6IDN9CiAgICAgICAgICAgICkuYWRkVG8obWFwXzViZDRiMGQyYzBhODRlYmJiYjg1YWY3YjllMGQ4OGNiKTsKICAgICAgICAKICAgIAogICAgICAgIHZhciBwb3B1cF9hMzU0ZTlhOTE5YmY0ZjA1YmM0ZWI2M2RkYTMyMjJhYyA9IEwucG9wdXAoeyJtYXhXaWR0aCI6ICIxMDAlIn0pOwoKICAgICAgICAKICAgICAgICAgICAgdmFyIGh0bWxfNjFjZWJlNDE5ODU5NDI4NjlmYWQ1YTY3ZTMzNTE3NmQgPSAkKGA8ZGl2IGlkPSJodG1sXzYxY2ViZTQxOTg1OTQyODY5ZmFkNWE2N2UzMzUxNzZkIiBzdHlsZT0id2lkdGg6IDEwMC4wJTsgaGVpZ2h0OiAxMDAuMCU7Ij5TT1VUSCBXRVNUIERFTEhJIENsdXN0ZXIgMDwvZGl2PmApWzBdOwogICAgICAgICAgICBwb3B1cF9hMzU0ZTlhOTE5YmY0ZjA1YmM0ZWI2M2RkYTMyMjJhYy5zZXRDb250ZW50KGh0bWxfNjFjZWJlNDE5ODU5NDI4NjlmYWQ1YTY3ZTMzNTE3NmQpOwogICAgICAgIAoKICAgICAgICBjaXJjbGVfbWFya2VyX2E4YmIxMGRiYTE4ZDQwY2E5NjQwZGM3OTc5MGE0YWVmLmJpbmRQb3B1cChwb3B1cF9hMzU0ZTlhOTE5YmY0ZjA1YmM0ZWI2M2RkYTMyMjJhYykKICAgICAgICA7CgogICAgICAgIAogICAgCiAgICAKICAgICAgICAgICAgdmFyIGNpcmNsZV9tYXJrZXJfZTQ4NDI2M2U3ZTNjNDU1NWE5OTk3N2NkZjllMjZhYjggPSBMLmNpcmNsZU1hcmtlcigKICAgICAgICAgICAgICAgIFsyOC42NDk1MTU4LCA3Ny4yNzM0ODk1XSwKICAgICAgICAgICAgICAgIHsiYnViYmxpbmdNb3VzZUV2ZW50cyI6IHRydWUsICJjb2xvciI6ICIjODBmZmI0IiwgImRhc2hBcnJheSI6IG51bGwsICJkYXNoT2Zmc2V0IjogbnVsbCwgImZpbGwiOiB0cnVlLCAiZmlsbENvbG9yIjogIiM4MGZmYjQiLCAiZmlsbE9wYWNpdHkiOiAwLjcsICJmaWxsUnVsZSI6ICJldmVub2RkIiwgImxpbmVDYXAiOiAicm91bmQiLCAibGluZUpvaW4iOiAicm91bmQiLCAib3BhY2l0eSI6IDEuMCwgInJhZGl1cyI6IDUsICJzdHJva2UiOiB0cnVlLCAid2VpZ2h0IjogM30KICAgICAgICAgICAgKS5hZGRUbyhtYXBfNWJkNGIwZDJjMGE4NGViYmJiODVhZjdiOWUwZDg4Y2IpOwogICAgICAgIAogICAgCiAgICAgICAgdmFyIHBvcHVwXzI2NWRiMGY1YmRkYTQ0Zjk4OGE5NzMxZmU1YjI5MGIyID0gTC5wb3B1cCh7Im1heFdpZHRoIjogIjEwMCUifSk7CgogICAgICAgIAogICAgICAgICAgICB2YXIgaHRtbF9kY2Y4YzgyZGMwODI0Y2ZiYTM3Yzk1ZWFmNzI2MWY5MCA9ICQoYDxkaXYgaWQ9Imh0bWxfZGNmOGM4MmRjMDgyNGNmYmEzN2M5NWVhZjcyNjFmOTAiIHN0eWxlPSJ3aWR0aDogMTAwLjAlOyBoZWlnaHQ6IDEwMC4wJTsiPkVBU1QgREVMSEkgQ2x1c3RlciAzPC9kaXY+YClbMF07CiAgICAgICAgICAgIHBvcHVwXzI2NWRiMGY1YmRkYTQ0Zjk4OGE5NzMxZmU1YjI5MGIyLnNldENvbnRlbnQoaHRtbF9kY2Y4YzgyZGMwODI0Y2ZiYTM3Yzk1ZWFmNzI2MWY5MCk7CiAgICAgICAgCgogICAgICAgIGNpcmNsZV9tYXJrZXJfZTQ4NDI2M2U3ZTNjNDU1NWE5OTk3N2NkZjllMjZhYjguYmluZFBvcHVwKHBvcHVwXzI2NWRiMGY1YmRkYTQ0Zjk4OGE5NzMxZmU1YjI5MGIyKQogICAgICAgIDsKCiAgICAgICAgCiAgICAKICAgIAogICAgICAgICAgICB2YXIgY2lyY2xlX21hcmtlcl8xNmZkMWVmYzA2N2Y0N2E5YThhZGQzYjQzZTIxNzk3MyA9IEwuY2lyY2xlTWFya2VyKAogICAgICAgICAgICAgICAgWzI4LjY3NzcwOTk5OTk5OTk5OCwgNzcuMjc2NzM1XSwKICAgICAgICAgICAgICAgIHsiYnViYmxpbmdNb3VzZUV2ZW50cyI6IHRydWUsICJjb2xvciI6ICIjODBmZmI0IiwgImRhc2hBcnJheSI6IG51bGwsICJkYXNoT2Zmc2V0IjogbnVsbCwgImZpbGwiOiB0cnVlLCAiZmlsbENvbG9yIjogIiM4MGZmYjQiLCAiZmlsbE9wYWNpdHkiOiAwLjcsICJmaWxsUnVsZSI6ICJldmVub2RkIiwgImxpbmVDYXAiOiAicm91bmQiLCAibGluZUpvaW4iOiAicm91bmQiLCAib3BhY2l0eSI6IDEuMCwgInJhZGl1cyI6IDUsICJzdHJva2UiOiB0cnVlLCAid2VpZ2h0IjogM30KICAgICAgICAgICAgKS5hZGRUbyhtYXBfNWJkNGIwZDJjMGE4NGViYmJiODVhZjdiOWUwZDg4Y2IpOwogICAgICAgIAogICAgCiAgICAgICAgdmFyIHBvcHVwXzg1NzJkMjQzYTYyZjQ5N2E4ZTAzYWJjNmJiZTY1MDljID0gTC5wb3B1cCh7Im1heFdpZHRoIjogIjEwMCUifSk7CgogICAgICAgIAogICAgICAgICAgICB2YXIgaHRtbF9lY2MyMDRhM2RmZjQ0MzlkYmU1ZGQwMTIzNzIyODhkZCA9ICQoYDxkaXYgaWQ9Imh0bWxfZWNjMjA0YTNkZmY0NDM5ZGJlNWRkMDEyMzcyMjg4ZGQiIHN0eWxlPSJ3aWR0aDogMTAwLjAlOyBoZWlnaHQ6IDEwMC4wJTsiPkVBU1QgREVMSEkgQ2x1c3RlciAzPC9kaXY+YClbMF07CiAgICAgICAgICAgIHBvcHVwXzg1NzJkMjQzYTYyZjQ5N2E4ZTAzYWJjNmJiZTY1MDljLnNldENvbnRlbnQoaHRtbF9lY2MyMDRhM2RmZjQ0MzlkYmU1ZGQwMTIzNzIyODhkZCk7CiAgICAgICAgCgogICAgICAgIGNpcmNsZV9tYXJrZXJfMTZmZDFlZmMwNjdmNDdhOWE4YWRkM2I0M2UyMTc5NzMuYmluZFBvcHVwKHBvcHVwXzg1NzJkMjQzYTYyZjQ5N2E4ZTAzYWJjNmJiZTY1MDljKQogICAgICAgIDsKCiAgICAgICAgCiAgICAKICAgIAogICAgICAgICAgICB2YXIgY2lyY2xlX21hcmtlcl8xNjRiMDFjOTMxYjk0MTEzOWE4MDI0Mzc2MDdiMjJjOSA9IEwuY2lyY2xlTWFya2VyKAogICAgICAgICAgICAgICAgWzI4LjcyNzUwNTk5OTk5OTk5OCwgNzcuMTY4NDc3XSwKICAgICAgICAgICAgICAgIHsiYnViYmxpbmdNb3VzZUV2ZW50cyI6IHRydWUsICJjb2xvciI6ICIjODAwMGZmIiwgImRhc2hBcnJheSI6IG51bGwsICJkYXNoT2Zmc2V0IjogbnVsbCwgImZpbGwiOiB0cnVlLCAiZmlsbENvbG9yIjogIiM4MDAwZmYiLCAiZmlsbE9wYWNpdHkiOiAwLjcsICJmaWxsUnVsZSI6ICJldmVub2RkIiwgImxpbmVDYXAiOiAicm91bmQiLCAibGluZUpvaW4iOiAicm91bmQiLCAib3BhY2l0eSI6IDEuMCwgInJhZGl1cyI6IDUsICJzdHJva2UiOiB0cnVlLCAid2VpZ2h0IjogM30KICAgICAgICAgICAgKS5hZGRUbyhtYXBfNWJkNGIwZDJjMGE4NGViYmJiODVhZjdiOWUwZDg4Y2IpOwogICAgICAgIAogICAgCiAgICAgICAgdmFyIHBvcHVwXzZlYTYwZWZjYThkNDRlNmQ4NmM5Y2UxMTBiZTJlMzhjID0gTC5wb3B1cCh7Im1heFdpZHRoIjogIjEwMCUifSk7CgogICAgICAgIAogICAgICAgICAgICB2YXIgaHRtbF8wM2Q4ZDFiODRhOGM0ZWFkOWUzMTY1YTM4MGE1NTRiMCA9ICQoYDxkaXYgaWQ9Imh0bWxfMDNkOGQxYjg0YThjNGVhZDllMzE2NWEzODBhNTU0YjAiIHN0eWxlPSJ3aWR0aDogMTAwLjAlOyBoZWlnaHQ6IDEwMC4wJTsiPk5PUlRIIFdFU1QgREVMSEkgQ2x1c3RlciAxPC9kaXY+YClbMF07CiAgICAgICAgICAgIHBvcHVwXzZlYTYwZWZjYThkNDRlNmQ4NmM5Y2UxMTBiZTJlMzhjLnNldENvbnRlbnQoaHRtbF8wM2Q4ZDFiODRhOGM0ZWFkOWUzMTY1YTM4MGE1NTRiMCk7CiAgICAgICAgCgogICAgICAgIGNpcmNsZV9tYXJrZXJfMTY0YjAxYzkzMWI5NDExMzlhODAyNDM3NjA3YjIyYzkuYmluZFBvcHVwKHBvcHVwXzZlYTYwZWZjYThkNDRlNmQ4NmM5Y2UxMTBiZTJlMzhjKQogICAgICAgIDsKCiAgICAgICAgCiAgICAKICAgIAogICAgICAgICAgICB2YXIgY2lyY2xlX21hcmtlcl9iNzBlMjI5N2E1ZTY0MzU5OWE4OGQxODkyMWQ2ZGY0NSA9IEwuY2lyY2xlTWFya2VyKAogICAgICAgICAgICAgICAgWzI4LjcwNTk4MjM5OTk5OTk5NiwgNzcuMTM5Njc2N10sCiAgICAgICAgICAgICAgICB7ImJ1YmJsaW5nTW91c2VFdmVudHMiOiB0cnVlLCAiY29sb3IiOiAiIzgwMDBmZiIsICJkYXNoQXJyYXkiOiBudWxsLCAiZGFzaE9mZnNldCI6IG51bGwsICJmaWxsIjogdHJ1ZSwgImZpbGxDb2xvciI6ICIjODAwMGZmIiwgImZpbGxPcGFjaXR5IjogMC43LCAiZmlsbFJ1bGUiOiAiZXZlbm9kZCIsICJsaW5lQ2FwIjogInJvdW5kIiwgImxpbmVKb2luIjogInJvdW5kIiwgIm9wYWNpdHkiOiAxLjAsICJyYWRpdXMiOiA1LCAic3Ryb2tlIjogdHJ1ZSwgIndlaWdodCI6IDN9CiAgICAgICAgICAgICkuYWRkVG8obWFwXzViZDRiMGQyYzBhODRlYmJiYjg1YWY3YjllMGQ4OGNiKTsKICAgICAgICAKICAgIAogICAgICAgIHZhciBwb3B1cF81N2EyOTM2NTQ4M2E0NDUzODE3YmNlNGI2NDkyY2ZiYyA9IEwucG9wdXAoeyJtYXhXaWR0aCI6ICIxMDAlIn0pOwoKICAgICAgICAKICAgICAgICAgICAgdmFyIGh0bWxfZGJiMDExNzQ5YTc4NDFhY2I0OGFhMmM5NmNiY2ZiNDkgPSAkKGA8ZGl2IGlkPSJodG1sX2RiYjAxMTc0OWE3ODQxYWNiNDhhYTJjOTZjYmNmYjQ5IiBzdHlsZT0id2lkdGg6IDEwMC4wJTsgaGVpZ2h0OiAxMDAuMCU7Ij5OT1JUSCBXRVNUIERFTEhJIENsdXN0ZXIgMTwvZGl2PmApWzBdOwogICAgICAgICAgICBwb3B1cF81N2EyOTM2NTQ4M2E0NDUzODE3YmNlNGI2NDkyY2ZiYy5zZXRDb250ZW50KGh0bWxfZGJiMDExNzQ5YTc4NDFhY2I0OGFhMmM5NmNiY2ZiNDkpOwogICAgICAgIAoKICAgICAgICBjaXJjbGVfbWFya2VyX2I3MGUyMjk3YTVlNjQzNTk5YTg4ZDE4OTIxZDZkZjQ1LmJpbmRQb3B1cChwb3B1cF81N2EyOTM2NTQ4M2E0NDUzODE3YmNlNGI2NDkyY2ZiYykKICAgICAgICA7CgogICAgICAgIAogICAgCiAgICAKICAgICAgICAgICAgdmFyIGNpcmNsZV9tYXJrZXJfYzBiNGZmZDM4MzdmNGI1OWFkNDE0MjgwMDc3YTMyMTUgPSBMLmNpcmNsZU1hcmtlcigKICAgICAgICAgICAgICAgIFsyOC42Nzk5NjQwMDAwMDAwMDIsIDc3LjE1Nzk2MV0sCiAgICAgICAgICAgICAgICB7ImJ1YmJsaW5nTW91c2VFdmVudHMiOiB0cnVlLCAiY29sb3IiOiAiIzgwMDBmZiIsICJkYXNoQXJyYXkiOiBudWxsLCAiZGFzaE9mZnNldCI6IG51bGwsICJmaWxsIjogdHJ1ZSwgImZpbGxDb2xvciI6ICIjODAwMGZmIiwgImZpbGxPcGFjaXR5IjogMC43LCAiZmlsbFJ1bGUiOiAiZXZlbm9kZCIsICJsaW5lQ2FwIjogInJvdW5kIiwgImxpbmVKb2luIjogInJvdW5kIiwgIm9wYWNpdHkiOiAxLjAsICJyYWRpdXMiOiA1LCAic3Ryb2tlIjogdHJ1ZSwgIndlaWdodCI6IDN9CiAgICAgICAgICAgICkuYWRkVG8obWFwXzViZDRiMGQyYzBhODRlYmJiYjg1YWY3YjllMGQ4OGNiKTsKICAgICAgICAKICAgIAogICAgICAgIHZhciBwb3B1cF81Zjc5MjBiNzIwZGU0MzdlYmI0NzlhZjA1ZDQ3MTgzNSA9IEwucG9wdXAoeyJtYXhXaWR0aCI6ICIxMDAlIn0pOwoKICAgICAgICAKICAgICAgICAgICAgdmFyIGh0bWxfNjk5NGU4NTJkNThmNDdkZDg3MDY0MTEyZDYwMjQ5NmEgPSAkKGA8ZGl2IGlkPSJodG1sXzY5OTRlODUyZDU4ZjQ3ZGQ4NzA2NDExMmQ2MDI0OTZhIiBzdHlsZT0id2lkdGg6IDEwMC4wJTsgaGVpZ2h0OiAxMDAuMCU7Ij5OT1JUSCBXRVNUIERFTEhJIENsdXN0ZXIgMTwvZGl2PmApWzBdOwogICAgICAgICAgICBwb3B1cF81Zjc5MjBiNzIwZGU0MzdlYmI0NzlhZjA1ZDQ3MTgzNS5zZXRDb250ZW50KGh0bWxfNjk5NGU4NTJkNThmNDdkZDg3MDY0MTEyZDYwMjQ5NmEpOwogICAgICAgIAoKICAgICAgICBjaXJjbGVfbWFya2VyX2MwYjRmZmQzODM3ZjRiNTlhZDQxNDI4MDA3N2EzMjE1LmJpbmRQb3B1cChwb3B1cF81Zjc5MjBiNzIwZGU0MzdlYmI0NzlhZjA1ZDQ3MTgzNSkKICAgICAgICA7CgogICAgICAgIAogICAgCiAgICAKICAgICAgICAgICAgdmFyIGNpcmNsZV9tYXJrZXJfOTVmNzgzNjQxM2U1NGNiMDlhNDliYzdjNzRmNjA2NWUgPSBMLmNpcmNsZU1hcmtlcigKICAgICAgICAgICAgICAgIFsyOC43OTM0MjgwMDAwMDAwMDIsIDc3LjE0MjIyOV0sCiAgICAgICAgICAgICAgICB7ImJ1YmJsaW5nTW91c2VFdmVudHMiOiB0cnVlLCAiY29sb3IiOiAiIzgwMDBmZiIsICJkYXNoQXJyYXkiOiBudWxsLCAiZGFzaE9mZnNldCI6IG51bGwsICJmaWxsIjogdHJ1ZSwgImZpbGxDb2xvciI6ICIjODAwMGZmIiwgImZpbGxPcGFjaXR5IjogMC43LCAiZmlsbFJ1bGUiOiAiZXZlbm9kZCIsICJsaW5lQ2FwIjogInJvdW5kIiwgImxpbmVKb2luIjogInJvdW5kIiwgIm9wYWNpdHkiOiAxLjAsICJyYWRpdXMiOiA1LCAic3Ryb2tlIjogdHJ1ZSwgIndlaWdodCI6IDN9CiAgICAgICAgICAgICkuYWRkVG8obWFwXzViZDRiMGQyYzBhODRlYmJiYjg1YWY3YjllMGQ4OGNiKTsKICAgICAgICAKICAgIAogICAgICAgIHZhciBwb3B1cF9iNWI5YWQ2MjZlM2Q0NWNhODE3MzI0NjlmNWMxNGRmOCA9IEwucG9wdXAoeyJtYXhXaWR0aCI6ICIxMDAlIn0pOwoKICAgICAgICAKICAgICAgICAgICAgdmFyIGh0bWxfOGIwMzE1OGFiYTJlNDRlM2E3MjRiMzkwZWY2NDUwYWIgPSAkKGA8ZGl2IGlkPSJodG1sXzhiMDMxNThhYmEyZTQ0ZTNhNzI0YjM5MGVmNjQ1MGFiIiBzdHlsZT0id2lkdGg6IDEwMC4wJTsgaGVpZ2h0OiAxMDAuMCU7Ij5OT1JUSCBXRVNUIERFTEhJIENsdXN0ZXIgMTwvZGl2PmApWzBdOwogICAgICAgICAgICBwb3B1cF9iNWI5YWQ2MjZlM2Q0NWNhODE3MzI0NjlmNWMxNGRmOC5zZXRDb250ZW50KGh0bWxfOGIwMzE1OGFiYTJlNDRlM2E3MjRiMzkwZWY2NDUwYWIpOwogICAgICAgIAoKICAgICAgICBjaXJjbGVfbWFya2VyXzk1Zjc4MzY0MTNlNTRjYjA5YTQ5YmM3Yzc0ZjYwNjVlLmJpbmRQb3B1cChwb3B1cF9iNWI5YWQ2MjZlM2Q0NWNhODE3MzI0NjlmNWMxNGRmOCkKICAgICAgICA7CgogICAgICAgIAogICAgCiAgICAKICAgICAgICAgICAgdmFyIGNpcmNsZV9tYXJrZXJfZTIzODNiOTM4M2Q5NGYyY2JmZWQ4YTAxMjIwZmQ0OTEgPSBMLmNpcmNsZU1hcmtlcigKICAgICAgICAgICAgICAgIFsyOC41NDI3NzYsIDc3LjExOTkxOF0sCiAgICAgICAgICAgICAgICB7ImJ1YmJsaW5nTW91c2VFdmVudHMiOiB0cnVlLCAiY29sb3IiOiAiI2ZmMDAwMCIsICJkYXNoQXJyYXkiOiBudWxsLCAiZGFzaE9mZnNldCI6IG51bGwsICJmaWxsIjogdHJ1ZSwgImZpbGxDb2xvciI6ICIjZmYwMDAwIiwgImZpbGxPcGFjaXR5IjogMC43LCAiZmlsbFJ1bGUiOiAiZXZlbm9kZCIsICJsaW5lQ2FwIjogInJvdW5kIiwgImxpbmVKb2luIjogInJvdW5kIiwgIm9wYWNpdHkiOiAxLjAsICJyYWRpdXMiOiA1LCAic3Ryb2tlIjogdHJ1ZSwgIndlaWdodCI6IDN9CiAgICAgICAgICAgICkuYWRkVG8obWFwXzViZDRiMGQyYzBhODRlYmJiYjg1YWY3YjllMGQ4OGNiKTsKICAgICAgICAKICAgIAogICAgICAgIHZhciBwb3B1cF8wYTRkMDFhOTk1YzI0NmViYWFlMmU4OTg0MGRjYjk2MyA9IEwucG9wdXAoeyJtYXhXaWR0aCI6ICIxMDAlIn0pOwoKICAgICAgICAKICAgICAgICAgICAgdmFyIGh0bWxfYzQ4ZGI1NDJjYWM4NDg0Y2I5MWM5ODVhY2M0M2RiNGQgPSAkKGA8ZGl2IGlkPSJodG1sX2M0OGRiNTQyY2FjODQ4NGNiOTFjOTg1YWNjNDNkYjRkIiBzdHlsZT0id2lkdGg6IDEwMC4wJTsgaGVpZ2h0OiAxMDAuMCU7Ij5TT1VUSCBXRVNUIERFTEhJIENsdXN0ZXIgMDwvZGl2PmApWzBdOwogICAgICAgICAgICBwb3B1cF8wYTRkMDFhOTk1YzI0NmViYWFlMmU4OTg0MGRjYjk2My5zZXRDb250ZW50KGh0bWxfYzQ4ZGI1NDJjYWM4NDg0Y2I5MWM5ODVhY2M0M2RiNGQpOwogICAgICAgIAoKICAgICAgICBjaXJjbGVfbWFya2VyX2UyMzgzYjkzODNkOTRmMmNiZmVkOGEwMTIyMGZkNDkxLmJpbmRQb3B1cChwb3B1cF8wYTRkMDFhOTk1YzI0NmViYWFlMmU4OTg0MGRjYjk2MykKICAgICAgICA7CgogICAgICAgIAogICAgCiAgICAKICAgICAgICAgICAgdmFyIGNpcmNsZV9tYXJrZXJfMGViODc2NzJmYzE4NDUzOGE2OTdiMmU2OTAzODA4Y2UgPSBMLmNpcmNsZU1hcmtlcigKICAgICAgICAgICAgICAgIFsyOC41MTMxMDM3MDAwMDAwMDIsIDc3LjEwNjg1OV0sCiAgICAgICAgICAgICAgICB7ImJ1YmJsaW5nTW91c2VFdmVudHMiOiB0cnVlLCAiY29sb3IiOiAiI2ZmMDAwMCIsICJkYXNoQXJyYXkiOiBudWxsLCAiZGFzaE9mZnNldCI6IG51bGwsICJmaWxsIjogdHJ1ZSwgImZpbGxDb2xvciI6ICIjZmYwMDAwIiwgImZpbGxPcGFjaXR5IjogMC43LCAiZmlsbFJ1bGUiOiAiZXZlbm9kZCIsICJsaW5lQ2FwIjogInJvdW5kIiwgImxpbmVKb2luIjogInJvdW5kIiwgIm9wYWNpdHkiOiAxLjAsICJyYWRpdXMiOiA1LCAic3Ryb2tlIjogdHJ1ZSwgIndlaWdodCI6IDN9CiAgICAgICAgICAgICkuYWRkVG8obWFwXzViZDRiMGQyYzBhODRlYmJiYjg1YWY3YjllMGQ4OGNiKTsKICAgICAgICAKICAgIAogICAgICAgIHZhciBwb3B1cF9mOWFiOWIzNjE4MGM0MTUyYmM3ODFmNjc3OGRkMzhkYyA9IEwucG9wdXAoeyJtYXhXaWR0aCI6ICIxMDAlIn0pOwoKICAgICAgICAKICAgICAgICAgICAgdmFyIGh0bWxfZTQ5M2JlNjE5NDQ2NGIwOGE2ODBkMzgzMmRjM2EwNGYgPSAkKGA8ZGl2IGlkPSJodG1sX2U0OTNiZTYxOTQ0NjRiMDhhNjgwZDM4MzJkYzNhMDRmIiBzdHlsZT0id2lkdGg6IDEwMC4wJTsgaGVpZ2h0OiAxMDAuMCU7Ij5TT1VUSCBXRVNUIERFTEhJIENsdXN0ZXIgMDwvZGl2PmApWzBdOwogICAgICAgICAgICBwb3B1cF9mOWFiOWIzNjE4MGM0MTUyYmM3ODFmNjc3OGRkMzhkYy5zZXRDb250ZW50KGh0bWxfZTQ5M2JlNjE5NDQ2NGIwOGE2ODBkMzgzMmRjM2EwNGYpOwogICAgICAgIAoKICAgICAgICBjaXJjbGVfbWFya2VyXzBlYjg3NjcyZmMxODQ1MzhhNjk3YjJlNjkwMzgwOGNlLmJpbmRQb3B1cChwb3B1cF9mOWFiOWIzNjE4MGM0MTUyYmM3ODFmNjc3OGRkMzhkYykKICAgICAgICA7CgogICAgICAgIAogICAgCiAgICAKICAgICAgICAgICAgdmFyIGNpcmNsZV9tYXJrZXJfZmFkNjYwM2IwZGQzNGQ5M2JjOGRhYjE4NjYzMWU2ZWIgPSBMLmNpcmNsZU1hcmtlcigKICAgICAgICAgICAgICAgIFsyOC43OTc4ODc0NjM2MzYzNiwgNzcuMDQyMTEwMzYzNjM2MzhdLAogICAgICAgICAgICAgICAgeyJidWJibGluZ01vdXNlRXZlbnRzIjogdHJ1ZSwgImNvbG9yIjogIiM4MDAwZmYiLCAiZGFzaEFycmF5IjogbnVsbCwgImRhc2hPZmZzZXQiOiBudWxsLCAiZmlsbCI6IHRydWUsICJmaWxsQ29sb3IiOiAiIzgwMDBmZiIsICJmaWxsT3BhY2l0eSI6IDAuNywgImZpbGxSdWxlIjogImV2ZW5vZGQiLCAibGluZUNhcCI6ICJyb3VuZCIsICJsaW5lSm9pbiI6ICJyb3VuZCIsICJvcGFjaXR5IjogMS4wLCAicmFkaXVzIjogNSwgInN0cm9rZSI6IHRydWUsICJ3ZWlnaHQiOiAzfQogICAgICAgICAgICApLmFkZFRvKG1hcF81YmQ0YjBkMmMwYTg0ZWJiYmI4NWFmN2I5ZTBkODhjYik7CiAgICAgICAgCiAgICAKICAgICAgICB2YXIgcG9wdXBfZmFlZjQ2ZWZlM2NiNDM4YTk1ZjZkYzM0ZDQ1Nzk0MzUgPSBMLnBvcHVwKHsibWF4V2lkdGgiOiAiMTAwJSJ9KTsKCiAgICAgICAgCiAgICAgICAgICAgIHZhciBodG1sXzczODZjYjMzOWZiYzRkNWViNTNlMDE0MGFiNTFjZjM2ID0gJChgPGRpdiBpZD0iaHRtbF83Mzg2Y2IzMzlmYmM0ZDVlYjUzZTAxNDBhYjUxY2YzNiIgc3R5bGU9IndpZHRoOiAxMDAuMCU7IGhlaWdodDogMTAwLjAlOyI+Tk9SVEggV0VTVCBERUxISSBDbHVzdGVyIDE8L2Rpdj5gKVswXTsKICAgICAgICAgICAgcG9wdXBfZmFlZjQ2ZWZlM2NiNDM4YTk1ZjZkYzM0ZDQ1Nzk0MzUuc2V0Q29udGVudChodG1sXzczODZjYjMzOWZiYzRkNWViNTNlMDE0MGFiNTFjZjM2KTsKICAgICAgICAKCiAgICAgICAgY2lyY2xlX21hcmtlcl9mYWQ2NjAzYjBkZDM0ZDkzYmM4ZGFiMTg2NjMxZTZlYi5iaW5kUG9wdXAocG9wdXBfZmFlZjQ2ZWZlM2NiNDM4YTk1ZjZkYzM0ZDQ1Nzk0MzUpCiAgICAgICAgOwoKICAgICAgICAKICAgIAogICAgCiAgICAgICAgICAgIHZhciBjaXJjbGVfbWFya2VyX2E3MmVmZDY3NDE3MzRhNzhhMmIwNjM2ZWIxYTliNzE0ID0gTC5jaXJjbGVNYXJrZXIoCiAgICAgICAgICAgICAgICBbMjguODQ0MTkyNSwgNzcuMDg5NTU0MV0sCiAgICAgICAgICAgICAgICB7ImJ1YmJsaW5nTW91c2VFdmVudHMiOiB0cnVlLCAiY29sb3IiOiAiIzgwMDBmZiIsICJkYXNoQXJyYXkiOiBudWxsLCAiZGFzaE9mZnNldCI6IG51bGwsICJmaWxsIjogdHJ1ZSwgImZpbGxDb2xvciI6ICIjODAwMGZmIiwgImZpbGxPcGFjaXR5IjogMC43LCAiZmlsbFJ1bGUiOiAiZXZlbm9kZCIsICJsaW5lQ2FwIjogInJvdW5kIiwgImxpbmVKb2luIjogInJvdW5kIiwgIm9wYWNpdHkiOiAxLjAsICJyYWRpdXMiOiA1LCAic3Ryb2tlIjogdHJ1ZSwgIndlaWdodCI6IDN9CiAgICAgICAgICAgICkuYWRkVG8obWFwXzViZDRiMGQyYzBhODRlYmJiYjg1YWY3YjllMGQ4OGNiKTsKICAgICAgICAKICAgIAogICAgICAgIHZhciBwb3B1cF81NjkzMzFjZDRhMDU0OGU3YjYzZWZmOGU4MDUzNmJlNyA9IEwucG9wdXAoeyJtYXhXaWR0aCI6ICIxMDAlIn0pOwoKICAgICAgICAKICAgICAgICAgICAgdmFyIGh0bWxfYjI4NjdmNjQ2Y2UxNGM3NjgxMzkyNDAwNzRhZWFlMzggPSAkKGA8ZGl2IGlkPSJodG1sX2IyODY3ZjY0NmNlMTRjNzY4MTM5MjQwMDc0YWVhZTM4IiBzdHlsZT0id2lkdGg6IDEwMC4wJTsgaGVpZ2h0OiAxMDAuMCU7Ij5OT1JUSCBXRVNUIERFTEhJIENsdXN0ZXIgMTwvZGl2PmApWzBdOwogICAgICAgICAgICBwb3B1cF81NjkzMzFjZDRhMDU0OGU3YjYzZWZmOGU4MDUzNmJlNy5zZXRDb250ZW50KGh0bWxfYjI4NjdmNjQ2Y2UxNGM3NjgxMzkyNDAwNzRhZWFlMzgpOwogICAgICAgIAoKICAgICAgICBjaXJjbGVfbWFya2VyX2E3MmVmZDY3NDE3MzRhNzhhMmIwNjM2ZWIxYTliNzE0LmJpbmRQb3B1cChwb3B1cF81NjkzMzFjZDRhMDU0OGU3YjYzZWZmOGU4MDUzNmJlNykKICAgICAgICA7CgogICAgICAgIAogICAgCiAgICAKICAgICAgICAgICAgdmFyIGNpcmNsZV9tYXJrZXJfMjFlYjc0NWI3MWUyNGUzOTg1ZDkwOWI4NzMwM2M0MTQgPSBMLmNpcmNsZU1hcmtlcigKICAgICAgICAgICAgICAgIFsyOC42NzY4Mjc1LCA3Ny4wNjUwMTddLAogICAgICAgICAgICAgICAgeyJidWJibGluZ01vdXNlRXZlbnRzIjogdHJ1ZSwgImNvbG9yIjogIiNmZjAwMDAiLCAiZGFzaEFycmF5IjogbnVsbCwgImRhc2hPZmZzZXQiOiBudWxsLCAiZmlsbCI6IHRydWUsICJmaWxsQ29sb3IiOiAiI2ZmMDAwMCIsICJmaWxsT3BhY2l0eSI6IDAuNywgImZpbGxSdWxlIjogImV2ZW5vZGQiLCAibGluZUNhcCI6ICJyb3VuZCIsICJsaW5lSm9pbiI6ICJyb3VuZCIsICJvcGFjaXR5IjogMS4wLCAicmFkaXVzIjogNSwgInN0cm9rZSI6IHRydWUsICJ3ZWlnaHQiOiAzfQogICAgICAgICAgICApLmFkZFRvKG1hcF81YmQ0YjBkMmMwYTg0ZWJiYmI4NWFmN2I5ZTBkODhjYik7CiAgICAgICAgCiAgICAKICAgICAgICB2YXIgcG9wdXBfMjRmNDM1ZDIwZGRmNDEzOTgwM2U4ZmE4ZjM2NWE1NmQgPSBMLnBvcHVwKHsibWF4V2lkdGgiOiAiMTAwJSJ9KTsKCiAgICAgICAgCiAgICAgICAgICAgIHZhciBodG1sX2U0YWI3NDQ0YTYyOTQ5Y2NhZDY0ZDI1NjM4MGJjYTBhID0gJChgPGRpdiBpZD0iaHRtbF9lNGFiNzQ0NGE2Mjk0OWNjYWQ2NGQyNTYzODBiY2EwYSIgc3R5bGU9IndpZHRoOiAxMDAuMCU7IGhlaWdodDogMTAwLjAlOyI+V0VTVCBERUxISSBDbHVzdGVyIDA8L2Rpdj5gKVswXTsKICAgICAgICAgICAgcG9wdXBfMjRmNDM1ZDIwZGRmNDEzOTgwM2U4ZmE4ZjM2NWE1NmQuc2V0Q29udGVudChodG1sX2U0YWI3NDQ0YTYyOTQ5Y2NhZDY0ZDI1NjM4MGJjYTBhKTsKICAgICAgICAKCiAgICAgICAgY2lyY2xlX21hcmtlcl8yMWViNzQ1YjcxZTI0ZTM5ODVkOTA5Yjg3MzAzYzQxNC5iaW5kUG9wdXAocG9wdXBfMjRmNDM1ZDIwZGRmNDEzOTgwM2U4ZmE4ZjM2NWE1NmQpCiAgICAgICAgOwoKICAgICAgICAKICAgIAogICAgCiAgICAgICAgICAgIHZhciBjaXJjbGVfbWFya2VyXzc0NjgwYThlOTRhNDRjNzdiOWFjNWM0NTVhOWYxYWM5ID0gTC5jaXJjbGVNYXJrZXIoCiAgICAgICAgICAgICAgICBbMjguNzQ1NDc0ODAwMDAwMDA0LCA3Ny4xMjg4NzE4OTI3MTcxXSwKICAgICAgICAgICAgICAgIHsiYnViYmxpbmdNb3VzZUV2ZW50cyI6IHRydWUsICJjb2xvciI6ICIjODAwMGZmIiwgImRhc2hBcnJheSI6IG51bGwsICJkYXNoT2Zmc2V0IjogbnVsbCwgImZpbGwiOiB0cnVlLCAiZmlsbENvbG9yIjogIiM4MDAwZmYiLCAiZmlsbE9wYWNpdHkiOiAwLjcsICJmaWxsUnVsZSI6ICJldmVub2RkIiwgImxpbmVDYXAiOiAicm91bmQiLCAibGluZUpvaW4iOiAicm91bmQiLCAib3BhY2l0eSI6IDEuMCwgInJhZGl1cyI6IDUsICJzdHJva2UiOiB0cnVlLCAid2VpZ2h0IjogM30KICAgICAgICAgICAgKS5hZGRUbyhtYXBfNWJkNGIwZDJjMGE4NGViYmJiODVhZjdiOWUwZDg4Y2IpOwogICAgICAgIAogICAgCiAgICAgICAgdmFyIHBvcHVwXzA2ZjVlMmU1OWQwYzQ5MjliMDFjZWMwZGEzZDNlNDZmID0gTC5wb3B1cCh7Im1heFdpZHRoIjogIjEwMCUifSk7CgogICAgICAgIAogICAgICAgICAgICB2YXIgaHRtbF9mYjU0Y2U0YjRkZDE0ZTZlODUzZTUxNTI0NWYzMGQzZSA9ICQoYDxkaXYgaWQ9Imh0bWxfZmI1NGNlNGI0ZGQxNGU2ZTg1M2U1MTUyNDVmMzBkM2UiIHN0eWxlPSJ3aWR0aDogMTAwLjAlOyBoZWlnaHQ6IDEwMC4wJTsiPk5PUlRIIFdFU1QgREVMSEkgQ2x1c3RlciAxPC9kaXY+YClbMF07CiAgICAgICAgICAgIHBvcHVwXzA2ZjVlMmU1OWQwYzQ5MjliMDFjZWMwZGEzZDNlNDZmLnNldENvbnRlbnQoaHRtbF9mYjU0Y2U0YjRkZDE0ZTZlODUzZTUxNTI0NWYzMGQzZSk7CiAgICAgICAgCgogICAgICAgIGNpcmNsZV9tYXJrZXJfNzQ2ODBhOGU5NGE0NGM3N2I5YWM1YzQ1NWE5ZjFhYzkuYmluZFBvcHVwKHBvcHVwXzA2ZjVlMmU1OWQwYzQ5MjliMDFjZWMwZGEzZDNlNDZmKQogICAgICAgIDsKCiAgICAgICAgCiAgICAKICAgIAogICAgICAgICAgICB2YXIgY2lyY2xlX21hcmtlcl82MDZkZDM0YjRjYWU0MmExYTc2NDA5NDE2MzYwODQ3YSA9IEwuY2lyY2xlTWFya2VyKAogICAgICAgICAgICAgICAgWzI4LjU4MjkyNzcsIDc2Ljk2OTQxMDc4NDAyMzU0XSwKICAgICAgICAgICAgICAgIHsiYnViYmxpbmdNb3VzZUV2ZW50cyI6IHRydWUsICJjb2xvciI6ICIjZmYwMDAwIiwgImRhc2hBcnJheSI6IG51bGwsICJkYXNoT2Zmc2V0IjogbnVsbCwgImZpbGwiOiB0cnVlLCAiZmlsbENvbG9yIjogIiNmZjAwMDAiLCAiZmlsbE9wYWNpdHkiOiAwLjcsICJmaWxsUnVsZSI6ICJldmVub2RkIiwgImxpbmVDYXAiOiAicm91bmQiLCAibGluZUpvaW4iOiAicm91bmQiLCAib3BhY2l0eSI6IDEuMCwgInJhZGl1cyI6IDUsICJzdHJva2UiOiB0cnVlLCAid2VpZ2h0IjogM30KICAgICAgICAgICAgKS5hZGRUbyhtYXBfNWJkNGIwZDJjMGE4NGViYmJiODVhZjdiOWUwZDg4Y2IpOwogICAgICAgIAogICAgCiAgICAgICAgdmFyIHBvcHVwXzE0NGQyZWZlYWE2YzQ4MmQ4MGVlZmU4OGE3ZTA3YTJlID0gTC5wb3B1cCh7Im1heFdpZHRoIjogIjEwMCUifSk7CgogICAgICAgIAogICAgICAgICAgICB2YXIgaHRtbF85YmUyMzVhYThmZjk0MjYyYTMxN2M0NzQ2YmQ1NDNiMyA9ICQoYDxkaXYgaWQ9Imh0bWxfOWJlMjM1YWE4ZmY5NDI2MmEzMTdjNDc0NmJkNTQzYjMiIHN0eWxlPSJ3aWR0aDogMTAwLjAlOyBoZWlnaHQ6IDEwMC4wJTsiPlNPVVRIIFdFU1QgREVMSEkgQ2x1c3RlciAwPC9kaXY+YClbMF07CiAgICAgICAgICAgIHBvcHVwXzE0NGQyZWZlYWE2YzQ4MmQ4MGVlZmU4OGE3ZTA3YTJlLnNldENvbnRlbnQoaHRtbF85YmUyMzVhYThmZjk0MjYyYTMxN2M0NzQ2YmQ1NDNiMyk7CiAgICAgICAgCgogICAgICAgIGNpcmNsZV9tYXJrZXJfNjA2ZGQzNGI0Y2FlNDJhMWE3NjQwOTQxNjM2MDg0N2EuYmluZFBvcHVwKHBvcHVwXzE0NGQyZWZlYWE2YzQ4MmQ4MGVlZmU4OGE3ZTA3YTJlKQogICAgICAgIDsKCiAgICAgICAgCiAgICAKICAgIAogICAgICAgICAgICB2YXIgY2lyY2xlX21hcmtlcl85ZmEzNzkyNWQ3NWY0MzVkOWE3OGE2YTBhZTcxN2M2OSA9IEwuY2lyY2xlTWFya2VyKAogICAgICAgICAgICAgICAgWzI4LjUxMDIyLCA3Ny4yMzgwMjVdLAogICAgICAgICAgICAgICAgeyJidWJibGluZ01vdXNlRXZlbnRzIjogdHJ1ZSwgImNvbG9yIjogIiNmZmIzNjAiLCAiZGFzaEFycmF5IjogbnVsbCwgImRhc2hPZmZzZXQiOiBudWxsLCAiZmlsbCI6IHRydWUsICJmaWxsQ29sb3IiOiAiI2ZmYjM2MCIsICJmaWxsT3BhY2l0eSI6IDAuNywgImZpbGxSdWxlIjogImV2ZW5vZGQiLCAibGluZUNhcCI6ICJyb3VuZCIsICJsaW5lSm9pbiI6ICJyb3VuZCIsICJvcGFjaXR5IjogMS4wLCAicmFkaXVzIjogNSwgInN0cm9rZSI6IHRydWUsICJ3ZWlnaHQiOiAzfQogICAgICAgICAgICApLmFkZFRvKG1hcF81YmQ0YjBkMmMwYTg0ZWJiYmI4NWFmN2I5ZTBkODhjYik7CiAgICAgICAgCiAgICAKICAgICAgICB2YXIgcG9wdXBfOGRmM2RiODE5ZWFkNDBjMjk3YTU4MDYwNDMzYjlhNTYgPSBMLnBvcHVwKHsibWF4V2lkdGgiOiAiMTAwJSJ9KTsKCiAgICAgICAgCiAgICAgICAgICAgIHZhciBodG1sXzAwOTE3ZWQ1ZTA5NzQ1MWU5NzExMWNkYThkMjhkMzcxID0gJChgPGRpdiBpZD0iaHRtbF8wMDkxN2VkNWUwOTc0NTFlOTcxMTFjZGE4ZDI4ZDM3MSIgc3R5bGU9IndpZHRoOiAxMDAuMCU7IGhlaWdodDogMTAwLjAlOyI+U09VVEggREVMSEkgQ2x1c3RlciA0PC9kaXY+YClbMF07CiAgICAgICAgICAgIHBvcHVwXzhkZjNkYjgxOWVhZDQwYzI5N2E1ODA2MDQzM2I5YTU2LnNldENvbnRlbnQoaHRtbF8wMDkxN2VkNWUwOTc0NTFlOTcxMTFjZGE4ZDI4ZDM3MSk7CiAgICAgICAgCgogICAgICAgIGNpcmNsZV9tYXJrZXJfOWZhMzc5MjVkNzVmNDM1ZDlhNzhhNmEwYWU3MTdjNjkuYmluZFBvcHVwKHBvcHVwXzhkZjNkYjgxOWVhZDQwYzI5N2E1ODA2MDQzM2I5YTU2KQogICAgICAgIDsKCiAgICAgICAgCiAgICAKICAgIAogICAgICAgICAgICB2YXIgY2lyY2xlX21hcmtlcl83Njg3NWM3Y2ExMzE0YWQxYjA4MDAwOGRhMTUwMmI3NiA9IEwuY2lyY2xlTWFya2VyKAogICAgICAgICAgICAgICAgWzI4LjU5MjIwNDA1Mjk2MTczNywgNzcuMDgzMTI1MzA2MTkzNDddLAogICAgICAgICAgICAgICAgeyJidWJibGluZ01vdXNlRXZlbnRzIjogdHJ1ZSwgImNvbG9yIjogIiNmZjAwMDAiLCAiZGFzaEFycmF5IjogbnVsbCwgImRhc2hPZmZzZXQiOiBudWxsLCAiZmlsbCI6IHRydWUsICJmaWxsQ29sb3IiOiAiI2ZmMDAwMCIsICJmaWxsT3BhY2l0eSI6IDAuNywgImZpbGxSdWxlIjogImV2ZW5vZGQiLCAibGluZUNhcCI6ICJyb3VuZCIsICJsaW5lSm9pbiI6ICJyb3VuZCIsICJvcGFjaXR5IjogMS4wLCAicmFkaXVzIjogNSwgInN0cm9rZSI6IHRydWUsICJ3ZWlnaHQiOiAzfQogICAgICAgICAgICApLmFkZFRvKG1hcF81YmQ0YjBkMmMwYTg0ZWJiYmI4NWFmN2I5ZTBkODhjYik7CiAgICAgICAgCiAgICAKICAgICAgICB2YXIgcG9wdXBfZGI2ZGE1YjM4MTQwNGU4NTgyY2U5NWE3NzVkZGZhMmYgPSBMLnBvcHVwKHsibWF4V2lkdGgiOiAiMTAwJSJ9KTsKCiAgICAgICAgCiAgICAgICAgICAgIHZhciBodG1sXzMzMjdhZjE0Mjg3MjRkNjQ4Y2VjZjQ5Zjc1Mzc0NGZjID0gJChgPGRpdiBpZD0iaHRtbF8zMzI3YWYxNDI4NzI0ZDY0OGNlY2Y0OWY3NTM3NDRmYyIgc3R5bGU9IndpZHRoOiAxMDAuMCU7IGhlaWdodDogMTAwLjAlOyI+U09VVEggV0VTVCBERUxISSBDbHVzdGVyIDA8L2Rpdj5gKVswXTsKICAgICAgICAgICAgcG9wdXBfZGI2ZGE1YjM4MTQwNGU4NTgyY2U5NWE3NzVkZGZhMmYuc2V0Q29udGVudChodG1sXzMzMjdhZjE0Mjg3MjRkNjQ4Y2VjZjQ5Zjc1Mzc0NGZjKTsKICAgICAgICAKCiAgICAgICAgY2lyY2xlX21hcmtlcl83Njg3NWM3Y2ExMzE0YWQxYjA4MDAwOGRhMTUwMmI3Ni5iaW5kUG9wdXAocG9wdXBfZGI2ZGE1YjM4MTQwNGU4NTgyY2U5NWE3NzVkZGZhMmYpCiAgICAgICAgOwoKICAgICAgICAKICAgIAogICAgCiAgICAgICAgICAgIHZhciBjaXJjbGVfbWFya2VyXzEzODc2YTJlYmE4ZTQwZWU4NWJjY2ZiMmM2M2RkZmJkID0gTC5jaXJjbGVNYXJrZXIoCiAgICAgICAgICAgICAgICBbMjguNDU2NTcxODk5OTk5OTk3LCA3Ny4xNDUwMTEyMDAwMDAwMV0sCiAgICAgICAgICAgICAgICB7ImJ1YmJsaW5nTW91c2VFdmVudHMiOiB0cnVlLCAiY29sb3IiOiAiI2ZmMDAwMCIsICJkYXNoQXJyYXkiOiBudWxsLCAiZGFzaE9mZnNldCI6IG51bGwsICJmaWxsIjogdHJ1ZSwgImZpbGxDb2xvciI6ICIjZmYwMDAwIiwgImZpbGxPcGFjaXR5IjogMC43LCAiZmlsbFJ1bGUiOiAiZXZlbm9kZCIsICJsaW5lQ2FwIjogInJvdW5kIiwgImxpbmVKb2luIjogInJvdW5kIiwgIm9wYWNpdHkiOiAxLjAsICJyYWRpdXMiOiA1LCAic3Ryb2tlIjogdHJ1ZSwgIndlaWdodCI6IDN9CiAgICAgICAgICAgICkuYWRkVG8obWFwXzViZDRiMGQyYzBhODRlYmJiYjg1YWY3YjllMGQ4OGNiKTsKICAgICAgICAKICAgIAogICAgICAgIHZhciBwb3B1cF81NDYxZmVhZTdjNmM0YTZhYTIwMDM2MDU5Y2RiOTI0NSA9IEwucG9wdXAoeyJtYXhXaWR0aCI6ICIxMDAlIn0pOwoKICAgICAgICAKICAgICAgICAgICAgdmFyIGh0bWxfMTAyN2RlZDc4OTk1NGE0Y2I4Y2U4NzMxOWI2NDMyOTcgPSAkKGA8ZGl2IGlkPSJodG1sXzEwMjdkZWQ3ODk5NTRhNGNiOGNlODczMTliNjQzMjk3IiBzdHlsZT0id2lkdGg6IDEwMC4wJTsgaGVpZ2h0OiAxMDAuMCU7Ij5TT1VUSCBXRVNUIERFTEhJIENsdXN0ZXIgMDwvZGl2PmApWzBdOwogICAgICAgICAgICBwb3B1cF81NDYxZmVhZTdjNmM0YTZhYTIwMDM2MDU5Y2RiOTI0NS5zZXRDb250ZW50KGh0bWxfMTAyN2RlZDc4OTk1NGE0Y2I4Y2U4NzMxOWI2NDMyOTcpOwogICAgICAgIAoKICAgICAgICBjaXJjbGVfbWFya2VyXzEzODc2YTJlYmE4ZTQwZWU4NWJjY2ZiMmM2M2RkZmJkLmJpbmRQb3B1cChwb3B1cF81NDYxZmVhZTdjNmM0YTZhYTIwMDM2MDU5Y2RiOTI0NSkKICAgICAgICA7CgogICAgICAgIAogICAgCiAgICAKICAgICAgICAgICAgdmFyIGNpcmNsZV9tYXJrZXJfNDBlYTkzNDVlZWJjNDY3NWIxYmIwZDA2ZDBmMzM0ZDAgPSBMLmNpcmNsZU1hcmtlcigKICAgICAgICAgICAgICAgIFsyOC41NDMwNDUyNTA4NjYwOSwgNzcuMjQwMzQzNTEwMDEzN10sCiAgICAgICAgICAgICAgICB7ImJ1YmJsaW5nTW91c2VFdmVudHMiOiB0cnVlLCAiY29sb3IiOiAiI2ZmYjM2MCIsICJkYXNoQXJyYXkiOiBudWxsLCAiZGFzaE9mZnNldCI6IG51bGwsICJmaWxsIjogdHJ1ZSwgImZpbGxDb2xvciI6ICIjZmZiMzYwIiwgImZpbGxPcGFjaXR5IjogMC43LCAiZmlsbFJ1bGUiOiAiZXZlbm9kZCIsICJsaW5lQ2FwIjogInJvdW5kIiwgImxpbmVKb2luIjogInJvdW5kIiwgIm9wYWNpdHkiOiAxLjAsICJyYWRpdXMiOiA1LCAic3Ryb2tlIjogdHJ1ZSwgIndlaWdodCI6IDN9CiAgICAgICAgICAgICkuYWRkVG8obWFwXzViZDRiMGQyYzBhODRlYmJiYjg1YWY3YjllMGQ4OGNiKTsKICAgICAgICAKICAgIAogICAgICAgIHZhciBwb3B1cF9jOTJmZmQ0OTVhOWY0YmE1YjRhY2IwYjc5Y2Y4N2YxNiA9IEwucG9wdXAoeyJtYXhXaWR0aCI6ICIxMDAlIn0pOwoKICAgICAgICAKICAgICAgICAgICAgdmFyIGh0bWxfNWFhNDMwOGU4MmE1NGU0NWIwYzdhMmZkMmQ1OTJmNjMgPSAkKGA8ZGl2IGlkPSJodG1sXzVhYTQzMDhlODJhNTRlNDViMGM3YTJmZDJkNTkyZjYzIiBzdHlsZT0id2lkdGg6IDEwMC4wJTsgaGVpZ2h0OiAxMDAuMCU7Ij5TT1VUSCBERUxISSBDbHVzdGVyIDQ8L2Rpdj5gKVswXTsKICAgICAgICAgICAgcG9wdXBfYzkyZmZkNDk1YTlmNGJhNWI0YWNiMGI3OWNmODdmMTYuc2V0Q29udGVudChodG1sXzVhYTQzMDhlODJhNTRlNDViMGM3YTJmZDJkNTkyZjYzKTsKICAgICAgICAKCiAgICAgICAgY2lyY2xlX21hcmtlcl80MGVhOTM0NWVlYmM0Njc1YjFiYjBkMDZkMGYzMzRkMC5iaW5kUG9wdXAocG9wdXBfYzkyZmZkNDk1YTlmNGJhNWI0YWNiMGI3OWNmODdmMTYpCiAgICAgICAgOwoKICAgICAgICAKICAgIAogICAgCiAgICAgICAgICAgIHZhciBjaXJjbGVfbWFya2VyXzE1ZGE2NjdjYjI0ZTRiY2I4ZDgyYjc0ODk3ZjA4NmNhID0gTC5jaXJjbGVNYXJrZXIoCiAgICAgICAgICAgICAgICBbMjguNTU5OTUzOSwgNzcuMjE0NDg1M10sCiAgICAgICAgICAgICAgICB7ImJ1YmJsaW5nTW91c2VFdmVudHMiOiB0cnVlLCAiY29sb3IiOiAiI2ZmYjM2MCIsICJkYXNoQXJyYXkiOiBudWxsLCAiZGFzaE9mZnNldCI6IG51bGwsICJmaWxsIjogdHJ1ZSwgImZpbGxDb2xvciI6ICIjZmZiMzYwIiwgImZpbGxPcGFjaXR5IjogMC43LCAiZmlsbFJ1bGUiOiAiZXZlbm9kZCIsICJsaW5lQ2FwIjogInJvdW5kIiwgImxpbmVKb2luIjogInJvdW5kIiwgIm9wYWNpdHkiOiAxLjAsICJyYWRpdXMiOiA1LCAic3Ryb2tlIjogdHJ1ZSwgIndlaWdodCI6IDN9CiAgICAgICAgICAgICkuYWRkVG8obWFwXzViZDRiMGQyYzBhODRlYmJiYjg1YWY3YjllMGQ4OGNiKTsKICAgICAgICAKICAgIAogICAgICAgIHZhciBwb3B1cF9kN2YyZTYzMmU1ZmE0NjFlYWEzNzg2NjhkZDVkZjdiNyA9IEwucG9wdXAoeyJtYXhXaWR0aCI6ICIxMDAlIn0pOwoKICAgICAgICAKICAgICAgICAgICAgdmFyIGh0bWxfY2YyNzRjOTBkMjk0NGFkYTk2ZmNkYTVhY2Q3YTY1NzMgPSAkKGA8ZGl2IGlkPSJodG1sX2NmMjc0YzkwZDI5NDRhZGE5NmZjZGE1YWNkN2E2NTczIiBzdHlsZT0id2lkdGg6IDEwMC4wJTsgaGVpZ2h0OiAxMDAuMCU7Ij5TT1VUSCBERUxISSBDbHVzdGVyIDQ8L2Rpdj5gKVswXTsKICAgICAgICAgICAgcG9wdXBfZDdmMmU2MzJlNWZhNDYxZWFhMzc4NjY4ZGQ1ZGY3Yjcuc2V0Q29udGVudChodG1sX2NmMjc0YzkwZDI5NDRhZGE5NmZjZGE1YWNkN2E2NTczKTsKICAgICAgICAKCiAgICAgICAgY2lyY2xlX21hcmtlcl8xNWRhNjY3Y2IyNGU0YmNiOGQ4MmI3NDg5N2YwODZjYS5iaW5kUG9wdXAocG9wdXBfZDdmMmU2MzJlNWZhNDYxZWFhMzc4NjY4ZGQ1ZGY3YjcpCiAgICAgICAgOwoKICAgICAgICAKICAgIAogICAgCiAgICAgICAgICAgIHZhciBjaXJjbGVfbWFya2VyX2JjNjFiN2M5ODZjNTQ0YTRhM2IxMTQwMTMyMzYxNDhlID0gTC5jaXJjbGVNYXJrZXIoCiAgICAgICAgICAgICAgICBbMjguNjUxODM0LCA3Ny4yODM5MjhdLAogICAgICAgICAgICAgICAgeyJidWJibGluZ01vdXNlRXZlbnRzIjogdHJ1ZSwgImNvbG9yIjogIiM4MGZmYjQiLCAiZGFzaEFycmF5IjogbnVsbCwgImRhc2hPZmZzZXQiOiBudWxsLCAiZmlsbCI6IHRydWUsICJmaWxsQ29sb3IiOiAiIzgwZmZiNCIsICJmaWxsT3BhY2l0eSI6IDAuNywgImZpbGxSdWxlIjogImV2ZW5vZGQiLCAibGluZUNhcCI6ICJyb3VuZCIsICJsaW5lSm9pbiI6ICJyb3VuZCIsICJvcGFjaXR5IjogMS4wLCAicmFkaXVzIjogNSwgInN0cm9rZSI6IHRydWUsICJ3ZWlnaHQiOiAzfQogICAgICAgICAgICApLmFkZFRvKG1hcF81YmQ0YjBkMmMwYTg0ZWJiYmI4NWFmN2I5ZTBkODhjYik7CiAgICAgICAgCiAgICAKICAgICAgICB2YXIgcG9wdXBfNWFhMmFkYTRmZWJlNDFkYjhiYmY3YTYzMjYyZWQzNDMgPSBMLnBvcHVwKHsibWF4V2lkdGgiOiAiMTAwJSJ9KTsKCiAgICAgICAgCiAgICAgICAgICAgIHZhciBodG1sXzBlYjExMGFjMGQ5MTQ5NjQ5NzBjZTk1OTY5YjI0M2FiID0gJChgPGRpdiBpZD0iaHRtbF8wZWIxMTBhYzBkOTE0OTY0OTcwY2U5NTk2OWIyNDNhYiIgc3R5bGU9IndpZHRoOiAxMDAuMCU7IGhlaWdodDogMTAwLjAlOyI+RUFTVCBERUxISSBDbHVzdGVyIDM8L2Rpdj5gKVswXTsKICAgICAgICAgICAgcG9wdXBfNWFhMmFkYTRmZWJlNDFkYjhiYmY3YTYzMjYyZWQzNDMuc2V0Q29udGVudChodG1sXzBlYjExMGFjMGQ5MTQ5NjQ5NzBjZTk1OTY5YjI0M2FiKTsKICAgICAgICAKCiAgICAgICAgY2lyY2xlX21hcmtlcl9iYzYxYjdjOTg2YzU0NGE0YTNiMTE0MDEzMjM2MTQ4ZS5iaW5kUG9wdXAocG9wdXBfNWFhMmFkYTRmZWJlNDFkYjhiYmY3YTYzMjYyZWQzNDMpCiAgICAgICAgOwoKICAgICAgICAKICAgIAogICAgCiAgICAgICAgICAgIHZhciBjaXJjbGVfbWFya2VyXzExYmRkYzQwYjlmNDQ1MTNhOTQ0MGVhZjdlZmQxZmJlID0gTC5jaXJjbGVNYXJrZXIoCiAgICAgICAgICAgICAgICBbMjguNzA1ODAzOSwgNzcuMTc0NTcxN10sCiAgICAgICAgICAgICAgICB7ImJ1YmJsaW5nTW91c2VFdmVudHMiOiB0cnVlLCAiY29sb3IiOiAiIzgwMDBmZiIsICJkYXNoQXJyYXkiOiBudWxsLCAiZGFzaE9mZnNldCI6IG51bGwsICJmaWxsIjogdHJ1ZSwgImZpbGxDb2xvciI6ICIjODAwMGZmIiwgImZpbGxPcGFjaXR5IjogMC43LCAiZmlsbFJ1bGUiOiAiZXZlbm9kZCIsICJsaW5lQ2FwIjogInJvdW5kIiwgImxpbmVKb2luIjogInJvdW5kIiwgIm9wYWNpdHkiOiAxLjAsICJyYWRpdXMiOiA1LCAic3Ryb2tlIjogdHJ1ZSwgIndlaWdodCI6IDN9CiAgICAgICAgICAgICkuYWRkVG8obWFwXzViZDRiMGQyYzBhODRlYmJiYjg1YWY3YjllMGQ4OGNiKTsKICAgICAgICAKICAgIAogICAgICAgIHZhciBwb3B1cF8zZWEzZTA2ZTlhZWY0NzhjYTlkNzMwNzVlNTVkMzk5OSA9IEwucG9wdXAoeyJtYXhXaWR0aCI6ICIxMDAlIn0pOwoKICAgICAgICAKICAgICAgICAgICAgdmFyIGh0bWxfZTc0NjQ1Y2RhMGQ4NDk1NGJiNTQzYWM5NDEwN2Q4MGEgPSAkKGA8ZGl2IGlkPSJodG1sX2U3NDY0NWNkYTBkODQ5NTRiYjU0M2FjOTQxMDdkODBhIiBzdHlsZT0id2lkdGg6IDEwMC4wJTsgaGVpZ2h0OiAxMDAuMCU7Ij5OT1JUSCBXRVNUIERFTEhJIENsdXN0ZXIgMTwvZGl2PmApWzBdOwogICAgICAgICAgICBwb3B1cF8zZWEzZTA2ZTlhZWY0NzhjYTlkNzMwNzVlNTVkMzk5OS5zZXRDb250ZW50KGh0bWxfZTc0NjQ1Y2RhMGQ4NDk1NGJiNTQzYWM5NDEwN2Q4MGEpOwogICAgICAgIAoKICAgICAgICBjaXJjbGVfbWFya2VyXzExYmRkYzQwYjlmNDQ1MTNhOTQ0MGVhZjdlZmQxZmJlLmJpbmRQb3B1cChwb3B1cF8zZWEzZTA2ZTlhZWY0NzhjYTlkNzMwNzVlNTVkMzk5OSkKICAgICAgICA7CgogICAgICAgIAogICAgCiAgICAKICAgICAgICAgICAgdmFyIGNpcmNsZV9tYXJrZXJfM2EzZWUwZGFlNGUyNGU3YmJjZmUzNDMzMDY2NTYzMjggPSBMLmNpcmNsZU1hcmtlcigKICAgICAgICAgICAgICAgIFsyOC42OTE5MTMzOTk5OTk5OTcsIDc3LjI3OTgyMDQxMzQ0MDJdLAogICAgICAgICAgICAgICAgeyJidWJibGluZ01vdXNlRXZlbnRzIjogdHJ1ZSwgImNvbG9yIjogIiM4MGZmYjQiLCAiZGFzaEFycmF5IjogbnVsbCwgImRhc2hPZmZzZXQiOiBudWxsLCAiZmlsbCI6IHRydWUsICJmaWxsQ29sb3IiOiAiIzgwZmZiNCIsICJmaWxsT3BhY2l0eSI6IDAuNywgImZpbGxSdWxlIjogImV2ZW5vZGQiLCAibGluZUNhcCI6ICJyb3VuZCIsICJsaW5lSm9pbiI6ICJyb3VuZCIsICJvcGFjaXR5IjogMS4wLCAicmFkaXVzIjogNSwgInN0cm9rZSI6IHRydWUsICJ3ZWlnaHQiOiAzfQogICAgICAgICAgICApLmFkZFRvKG1hcF81YmQ0YjBkMmMwYTg0ZWJiYmI4NWFmN2I5ZTBkODhjYik7CiAgICAgICAgCiAgICAKICAgICAgICB2YXIgcG9wdXBfMmU5MjNhYzJhMjU0NDg2YWEwYzdlOTQwZWU1NWE4NDIgPSBMLnBvcHVwKHsibWF4V2lkdGgiOiAiMTAwJSJ9KTsKCiAgICAgICAgCiAgICAgICAgICAgIHZhciBodG1sX2E1ZGZjZjc2NjllYTRkN2Y4OTA1NDdjZDNmYTY4YWRmID0gJChgPGRpdiBpZD0iaHRtbF9hNWRmY2Y3NjY5ZWE0ZDdmODkwNTQ3Y2QzZmE2OGFkZiIgc3R5bGU9IndpZHRoOiAxMDAuMCU7IGhlaWdodDogMTAwLjAlOyI+RUFTVCBERUxISSBDbHVzdGVyIDM8L2Rpdj5gKVswXTsKICAgICAgICAgICAgcG9wdXBfMmU5MjNhYzJhMjU0NDg2YWEwYzdlOTQwZWU1NWE4NDIuc2V0Q29udGVudChodG1sX2E1ZGZjZjc2NjllYTRkN2Y4OTA1NDdjZDNmYTY4YWRmKTsKICAgICAgICAKCiAgICAgICAgY2lyY2xlX21hcmtlcl8zYTNlZTBkYWU0ZTI0ZTdiYmNmZTM0MzMwNjY1NjMyOC5iaW5kUG9wdXAocG9wdXBfMmU5MjNhYzJhMjU0NDg2YWEwYzdlOTQwZWU1NWE4NDIpCiAgICAgICAgOwoKICAgICAgICAKICAgIAogICAgCiAgICAgICAgICAgIHZhciBjaXJjbGVfbWFya2VyXzg1ZTUyMDk0MzM0NTQyNTFiZjU3MGMwZTBjMGQ3MmZmID0gTC5jaXJjbGVNYXJrZXIoCiAgICAgICAgICAgICAgICBbMjguNjc5MzQwMiwgNzcuMjIzNTI4XSwKICAgICAgICAgICAgICAgIHsiYnViYmxpbmdNb3VzZUV2ZW50cyI6IHRydWUsICJjb2xvciI6ICIjMDBiNWViIiwgImRhc2hBcnJheSI6IG51bGwsICJkYXNoT2Zmc2V0IjogbnVsbCwgImZpbGwiOiB0cnVlLCAiZmlsbENvbG9yIjogIiMwMGI1ZWIiLCAiZmlsbE9wYWNpdHkiOiAwLjcsICJmaWxsUnVsZSI6ICJldmVub2RkIiwgImxpbmVDYXAiOiAicm91bmQiLCAibGluZUpvaW4iOiAicm91bmQiLCAib3BhY2l0eSI6IDEuMCwgInJhZGl1cyI6IDUsICJzdHJva2UiOiB0cnVlLCAid2VpZ2h0IjogM30KICAgICAgICAgICAgKS5hZGRUbyhtYXBfNWJkNGIwZDJjMGE4NGViYmJiODVhZjdiOWUwZDg4Y2IpOwogICAgICAgIAogICAgCiAgICAgICAgdmFyIHBvcHVwXzAxZjQyMjM4OTQzZTRjMDQ5NWExNWI3ZjJhZTA2NTZhID0gTC5wb3B1cCh7Im1heFdpZHRoIjogIjEwMCUifSk7CgogICAgICAgIAogICAgICAgICAgICB2YXIgaHRtbF8wNzJkZGI4YzY3MTE0Nzc5OTk5MWNjYzk5MGI4M2M3YiA9ICQoYDxkaXYgaWQ9Imh0bWxfMDcyZGRiOGM2NzExNDc3OTk5OTFjY2M5OTBiODNjN2IiIHN0eWxlPSJ3aWR0aDogMTAwLjAlOyBoZWlnaHQ6IDEwMC4wJTsiPk5PUlRIIERFTEhJIENsdXN0ZXIgMjwvZGl2PmApWzBdOwogICAgICAgICAgICBwb3B1cF8wMWY0MjIzODk0M2U0YzA0OTVhMTViN2YyYWUwNjU2YS5zZXRDb250ZW50KGh0bWxfMDcyZGRiOGM2NzExNDc3OTk5OTFjY2M5OTBiODNjN2IpOwogICAgICAgIAoKICAgICAgICBjaXJjbGVfbWFya2VyXzg1ZTUyMDk0MzM0NTQyNTFiZjU3MGMwZTBjMGQ3MmZmLmJpbmRQb3B1cChwb3B1cF8wMWY0MjIzODk0M2U0YzA0OTVhMTViN2YyYWUwNjU2YSkKICAgICAgICA7CgogICAgICAgIAogICAgCiAgICAKICAgICAgICAgICAgdmFyIGNpcmNsZV9tYXJrZXJfOWE4N2YwYzA4MTg5NDgzNWE4ZTEzY2IyMWM5ZjIyZDUgPSBMLmNpcmNsZU1hcmtlcigKICAgICAgICAgICAgICAgIFsyOC42NTI1MDY0LCA3Ny4yMTMzOTA2XSwKICAgICAgICAgICAgICAgIHsiYnViYmxpbmdNb3VzZUV2ZW50cyI6IHRydWUsICJjb2xvciI6ICIjZmYwMDAwIiwgImRhc2hBcnJheSI6IG51bGwsICJkYXNoT2Zmc2V0IjogbnVsbCwgImZpbGwiOiB0cnVlLCAiZmlsbENvbG9yIjogIiNmZjAwMDAiLCAiZmlsbE9wYWNpdHkiOiAwLjcsICJmaWxsUnVsZSI6ICJldmVub2RkIiwgImxpbmVDYXAiOiAicm91bmQiLCAibGluZUpvaW4iOiAicm91bmQiLCAib3BhY2l0eSI6IDEuMCwgInJhZGl1cyI6IDUsICJzdHJva2UiOiB0cnVlLCAid2VpZ2h0IjogM30KICAgICAgICAgICAgKS5hZGRUbyhtYXBfNWJkNGIwZDJjMGE4NGViYmJiODVhZjdiOWUwZDg4Y2IpOwogICAgICAgIAogICAgCiAgICAgICAgdmFyIHBvcHVwXzhhYjJiZjk3NzgzYTQyN2JiN2YwYTBmN2FiNGQwYjg3ID0gTC5wb3B1cCh7Im1heFdpZHRoIjogIjEwMCUifSk7CgogICAgICAgIAogICAgICAgICAgICB2YXIgaHRtbF9mNDJiMTZkYTcwMDk0NTllYmZjMzNiZGI5ZGJlMmExZSA9ICQoYDxkaXYgaWQ9Imh0bWxfZjQyYjE2ZGE3MDA5NDU5ZWJmYzMzYmRiOWRiZTJhMWUiIHN0eWxlPSJ3aWR0aDogMTAwLjAlOyBoZWlnaHQ6IDEwMC4wJTsiPkNFTlRSQUwgREVMSEkgQ2x1c3RlciAwPC9kaXY+YClbMF07CiAgICAgICAgICAgIHBvcHVwXzhhYjJiZjk3NzgzYTQyN2JiN2YwYTBmN2FiNGQwYjg3LnNldENvbnRlbnQoaHRtbF9mNDJiMTZkYTcwMDk0NTllYmZjMzNiZGI5ZGJlMmExZSk7CiAgICAgICAgCgogICAgICAgIGNpcmNsZV9tYXJrZXJfOWE4N2YwYzA4MTg5NDgzNWE4ZTEzY2IyMWM5ZjIyZDUuYmluZFBvcHVwKHBvcHVwXzhhYjJiZjk3NzgzYTQyN2JiN2YwYTBmN2FiNGQwYjg3KQogICAgICAgIDsKCiAgICAgICAgCiAgICAKICAgIAogICAgICAgICAgICB2YXIgY2lyY2xlX21hcmtlcl84YTUzMGMzYTllMzM0MjE2YTk3NzMyMjI2NTBkNTk2OSA9IEwuY2lyY2xlTWFya2VyKAogICAgICAgICAgICAgICAgWzI4LjYxODc5ODIsIDc3LjA4NjM4NjAzMTIyMDYzXSwKICAgICAgICAgICAgICAgIHsiYnViYmxpbmdNb3VzZUV2ZW50cyI6IHRydWUsICJjb2xvciI6ICIjZmYwMDAwIiwgImRhc2hBcnJheSI6IG51bGwsICJkYXNoT2Zmc2V0IjogbnVsbCwgImZpbGwiOiB0cnVlLCAiZmlsbENvbG9yIjogIiNmZjAwMDAiLCAiZmlsbE9wYWNpdHkiOiAwLjcsICJmaWxsUnVsZSI6ICJldmVub2RkIiwgImxpbmVDYXAiOiAicm91bmQiLCAibGluZUpvaW4iOiAicm91bmQiLCAib3BhY2l0eSI6IDEuMCwgInJhZGl1cyI6IDUsICJzdHJva2UiOiB0cnVlLCAid2VpZ2h0IjogM30KICAgICAgICAgICAgKS5hZGRUbyhtYXBfNWJkNGIwZDJjMGE4NGViYmJiODVhZjdiOWUwZDg4Y2IpOwogICAgICAgIAogICAgCiAgICAgICAgdmFyIHBvcHVwX2QzOTMzMDY5N2YwNDQwZTU4MGY2NWVmOGMyZjQyMzkyID0gTC5wb3B1cCh7Im1heFdpZHRoIjogIjEwMCUifSk7CgogICAgICAgIAogICAgICAgICAgICB2YXIgaHRtbF81OGJjYmNmZTIzY2I0NjlmOTYzMDY1NjQyNWJmNDEzZSA9ICQoYDxkaXYgaWQ9Imh0bWxfNThiY2JjZmUyM2NiNDY5Zjk2MzA2NTY0MjViZjQxM2UiIHN0eWxlPSJ3aWR0aDogMTAwLjAlOyBoZWlnaHQ6IDEwMC4wJTsiPldFU1QgREVMSEkgQ2x1c3RlciAwPC9kaXY+YClbMF07CiAgICAgICAgICAgIHBvcHVwX2QzOTMzMDY5N2YwNDQwZTU4MGY2NWVmOGMyZjQyMzkyLnNldENvbnRlbnQoaHRtbF81OGJjYmNmZTIzY2I0NjlmOTYzMDY1NjQyNWJmNDEzZSk7CiAgICAgICAgCgogICAgICAgIGNpcmNsZV9tYXJrZXJfOGE1MzBjM2E5ZTMzNDIxNmE5NzczMjIyNjUwZDU5NjkuYmluZFBvcHVwKHBvcHVwX2QzOTMzMDY5N2YwNDQwZTU4MGY2NWVmOGMyZjQyMzkyKQogICAgICAgIDsKCiAgICAgICAgCiAgICAKICAgIAogICAgICAgICAgICB2YXIgY2lyY2xlX21hcmtlcl9kYWZhZWY5ZmMzN2M0NDVjOWVmNjQwM2FmOWRiYjg2MyA9IEwuY2lyY2xlTWFya2VyKAogICAgICAgICAgICAgICAgWzI4LjYxODk5OTgsIDc3LjAzOTU4NzMwMDAwMDAxXSwKICAgICAgICAgICAgICAgIHsiYnViYmxpbmdNb3VzZUV2ZW50cyI6IHRydWUsICJjb2xvciI6ICIjZmYwMDAwIiwgImRhc2hBcnJheSI6IG51bGwsICJkYXNoT2Zmc2V0IjogbnVsbCwgImZpbGwiOiB0cnVlLCAiZmlsbENvbG9yIjogIiNmZjAwMDAiLCAiZmlsbE9wYWNpdHkiOiAwLjcsICJmaWxsUnVsZSI6ICJldmVub2RkIiwgImxpbmVDYXAiOiAicm91bmQiLCAibGluZUpvaW4iOiAicm91bmQiLCAib3BhY2l0eSI6IDEuMCwgInJhZGl1cyI6IDUsICJzdHJva2UiOiB0cnVlLCAid2VpZ2h0IjogM30KICAgICAgICAgICAgKS5hZGRUbyhtYXBfNWJkNGIwZDJjMGE4NGViYmJiODVhZjdiOWUwZDg4Y2IpOwogICAgICAgIAogICAgCiAgICAgICAgdmFyIHBvcHVwXzA1YzdkZGMyOWVmODRiOGVhMjM4OTBjZTE3OGY2Mjk5ID0gTC5wb3B1cCh7Im1heFdpZHRoIjogIjEwMCUifSk7CgogICAgICAgIAogICAgICAgICAgICB2YXIgaHRtbF81NmEzZTgyM2I3OTk0MjY0OWExY2M5NmJkMTQ3ZDk1OCA9ICQoYDxkaXYgaWQ9Imh0bWxfNTZhM2U4MjNiNzk5NDI2NDlhMWNjOTZiZDE0N2Q5NTgiIHN0eWxlPSJ3aWR0aDogMTAwLjAlOyBoZWlnaHQ6IDEwMC4wJTsiPldFU1QgREVMSEkgQ2x1c3RlciAwPC9kaXY+YClbMF07CiAgICAgICAgICAgIHBvcHVwXzA1YzdkZGMyOWVmODRiOGVhMjM4OTBjZTE3OGY2Mjk5LnNldENvbnRlbnQoaHRtbF81NmEzZTgyM2I3OTk0MjY0OWExY2M5NmJkMTQ3ZDk1OCk7CiAgICAgICAgCgogICAgICAgIGNpcmNsZV9tYXJrZXJfZGFmYWVmOWZjMzdjNDQ1YzllZjY0MDNhZjlkYmI4NjMuYmluZFBvcHVwKHBvcHVwXzA1YzdkZGMyOWVmODRiOGVhMjM4OTBjZTE3OGY2Mjk5KQogICAgICAgIDsKCiAgICAgICAgCiAgICAKICAgIAogICAgICAgICAgICB2YXIgY2lyY2xlX21hcmtlcl9jZjkxMDAzZDkwMDA0OWVlYWZiNWMxM2MyNmIzZjVmNCA9IEwuY2lyY2xlTWFya2VyKAogICAgICAgICAgICAgICAgWzI4LjYzODcxODI3MTE3NTY0OCwgNzcuMTg1MTQ3NTU0MjQ1NzVdLAogICAgICAgICAgICAgICAgeyJidWJibGluZ01vdXNlRXZlbnRzIjogdHJ1ZSwgImNvbG9yIjogIiNmZjAwMDAiLCAiZGFzaEFycmF5IjogbnVsbCwgImRhc2hPZmZzZXQiOiBudWxsLCAiZmlsbCI6IHRydWUsICJmaWxsQ29sb3IiOiAiI2ZmMDAwMCIsICJmaWxsT3BhY2l0eSI6IDAuNywgImZpbGxSdWxlIjogImV2ZW5vZGQiLCAibGluZUNhcCI6ICJyb3VuZCIsICJsaW5lSm9pbiI6ICJyb3VuZCIsICJvcGFjaXR5IjogMS4wLCAicmFkaXVzIjogNSwgInN0cm9rZSI6IHRydWUsICJ3ZWlnaHQiOiAzfQogICAgICAgICAgICApLmFkZFRvKG1hcF81YmQ0YjBkMmMwYTg0ZWJiYmI4NWFmN2I5ZTBkODhjYik7CiAgICAgICAgCiAgICAKICAgICAgICB2YXIgcG9wdXBfNjNlYjJhM2FkMmU3NDYyYjliOWU3YzhlZWUzZjc5NjcgPSBMLnBvcHVwKHsibWF4V2lkdGgiOiAiMTAwJSJ9KTsKCiAgICAgICAgCiAgICAgICAgICAgIHZhciBodG1sX2ZkZjcyODg2MDY0ZjQzMjNiMDRjNWRhNmJkZDI2Y2Q1ID0gJChgPGRpdiBpZD0iaHRtbF9mZGY3Mjg4NjA2NGY0MzIzYjA0YzVkYTZiZGQyNmNkNSIgc3R5bGU9IndpZHRoOiAxMDAuMCU7IGhlaWdodDogMTAwLjAlOyI+Q0VOVFJBTCBERUxISSBDbHVzdGVyIDA8L2Rpdj5gKVswXTsKICAgICAgICAgICAgcG9wdXBfNjNlYjJhM2FkMmU3NDYyYjliOWU3YzhlZWUzZjc5Njcuc2V0Q29udGVudChodG1sX2ZkZjcyODg2MDY0ZjQzMjNiMDRjNWRhNmJkZDI2Y2Q1KTsKICAgICAgICAKCiAgICAgICAgY2lyY2xlX21hcmtlcl9jZjkxMDAzZDkwMDA0OWVlYWZiNWMxM2MyNmIzZjVmNC5iaW5kUG9wdXAocG9wdXBfNjNlYjJhM2FkMmU3NDYyYjliOWU3YzhlZWUzZjc5NjcpCiAgICAgICAgOwoKICAgICAgICAKICAgIAogICAgCiAgICAgICAgICAgIHZhciBjaXJjbGVfbWFya2VyXzFlOGIyZjZiZmM5MDRjM2NhNmRjOWUzYmY2NzRiOTAwID0gTC5jaXJjbGVNYXJrZXIoCiAgICAgICAgICAgICAgICBbMjguNTM3ODE1MDAwMDAwMDAyLCA3Ny4wNTExMTldLAogICAgICAgICAgICAgICAgeyJidWJibGluZ01vdXNlRXZlbnRzIjogdHJ1ZSwgImNvbG9yIjogIiNmZjAwMDAiLCAiZGFzaEFycmF5IjogbnVsbCwgImRhc2hPZmZzZXQiOiBudWxsLCAiZmlsbCI6IHRydWUsICJmaWxsQ29sb3IiOiAiI2ZmMDAwMCIsICJmaWxsT3BhY2l0eSI6IDAuNywgImZpbGxSdWxlIjogImV2ZW5vZGQiLCAibGluZUNhcCI6ICJyb3VuZCIsICJsaW5lSm9pbiI6ICJyb3VuZCIsICJvcGFjaXR5IjogMS4wLCAicmFkaXVzIjogNSwgInN0cm9rZSI6IHRydWUsICJ3ZWlnaHQiOiAzfQogICAgICAgICAgICApLmFkZFRvKG1hcF81YmQ0YjBkMmMwYTg0ZWJiYmI4NWFmN2I5ZTBkODhjYik7CiAgICAgICAgCiAgICAKICAgICAgICB2YXIgcG9wdXBfODhmYWExODhlNDA5NGRkN2IzYTI0MTk3NTgxN2MyMzUgPSBMLnBvcHVwKHsibWF4V2lkdGgiOiAiMTAwJSJ9KTsKCiAgICAgICAgCiAgICAgICAgICAgIHZhciBodG1sXzIxYjhmYjgyZjVlNTQwMTY5MGM0YTczZDJhMGQ1YmZhID0gJChgPGRpdiBpZD0iaHRtbF8yMWI4ZmI4MmY1ZTU0MDE2OTBjNGE3M2QyYTBkNWJmYSIgc3R5bGU9IndpZHRoOiAxMDAuMCU7IGhlaWdodDogMTAwLjAlOyI+U09VVEggV0VTVCBERUxISSBDbHVzdGVyIDA8L2Rpdj5gKVswXTsKICAgICAgICAgICAgcG9wdXBfODhmYWExODhlNDA5NGRkN2IzYTI0MTk3NTgxN2MyMzUuc2V0Q29udGVudChodG1sXzIxYjhmYjgyZjVlNTQwMTY5MGM0YTczZDJhMGQ1YmZhKTsKICAgICAgICAKCiAgICAgICAgY2lyY2xlX21hcmtlcl8xZThiMmY2YmZjOTA0YzNjYTZkYzllM2JmNjc0YjkwMC5iaW5kUG9wdXAocG9wdXBfODhmYWExODhlNDA5NGRkN2IzYTI0MTk3NTgxN2MyMzUpCiAgICAgICAgOwoKICAgICAgICAKICAgIAogICAgCiAgICAgICAgICAgIHZhciBjaXJjbGVfbWFya2VyXzhkMDIxZDEwYjlkNDRiMzA4ZDEyYzI4ODQxNmZjZTA1ID0gTC5jaXJjbGVNYXJrZXIoCiAgICAgICAgICAgICAgICBbMjguNDk3ODQ0LCA3Ny4yMjM4NjVdLAogICAgICAgICAgICAgICAgeyJidWJibGluZ01vdXNlRXZlbnRzIjogdHJ1ZSwgImNvbG9yIjogIiNmZmIzNjAiLCAiZGFzaEFycmF5IjogbnVsbCwgImRhc2hPZmZzZXQiOiBudWxsLCAiZmlsbCI6IHRydWUsICJmaWxsQ29sb3IiOiAiI2ZmYjM2MCIsICJmaWxsT3BhY2l0eSI6IDAuNywgImZpbGxSdWxlIjogImV2ZW5vZGQiLCAibGluZUNhcCI6ICJyb3VuZCIsICJsaW5lSm9pbiI6ICJyb3VuZCIsICJvcGFjaXR5IjogMS4wLCAicmFkaXVzIjogNSwgInN0cm9rZSI6IHRydWUsICJ3ZWlnaHQiOiAzfQogICAgICAgICAgICApLmFkZFRvKG1hcF81YmQ0YjBkMmMwYTg0ZWJiYmI4NWFmN2I5ZTBkODhjYik7CiAgICAgICAgCiAgICAKICAgICAgICB2YXIgcG9wdXBfMjdkYWY3Yjg3YjgwNDA2YTkxNjUyOGYzYzliNzQxMWYgPSBMLnBvcHVwKHsibWF4V2lkdGgiOiAiMTAwJSJ9KTsKCiAgICAgICAgCiAgICAgICAgICAgIHZhciBodG1sX2JkZWMzMmQ5ZmUyMDQyZGY4NGE5MjRiZWEzYTI4MjkzID0gJChgPGRpdiBpZD0iaHRtbF9iZGVjMzJkOWZlMjA0MmRmODRhOTI0YmVhM2EyODI5MyIgc3R5bGU9IndpZHRoOiAxMDAuMCU7IGhlaWdodDogMTAwLjAlOyI+U09VVEggREVMSEkgQ2x1c3RlciA0PC9kaXY+YClbMF07CiAgICAgICAgICAgIHBvcHVwXzI3ZGFmN2I4N2I4MDQwNmE5MTY1MjhmM2M5Yjc0MTFmLnNldENvbnRlbnQoaHRtbF9iZGVjMzJkOWZlMjA0MmRmODRhOTI0YmVhM2EyODI5Myk7CiAgICAgICAgCgogICAgICAgIGNpcmNsZV9tYXJrZXJfOGQwMjFkMTBiOWQ0NGIzMDhkMTJjMjg4NDE2ZmNlMDUuYmluZFBvcHVwKHBvcHVwXzI3ZGFmN2I4N2I4MDQwNmE5MTY1MjhmM2M5Yjc0MTFmKQogICAgICAgIDsKCiAgICAgICAgCiAgICAKICAgIAogICAgICAgICAgICB2YXIgY2lyY2xlX21hcmtlcl82ODljMDMzYzVjMGM0ZDFiOGQ3ZDY2OWNkMmYzNjczMyA9IEwuY2lyY2xlTWFya2VyKAogICAgICAgICAgICAgICAgWzI4LjY2NDg3MzgwMDAwMDAwMiwgNzcuMTE1MTkyMjk5OTk5OTldLAogICAgICAgICAgICAgICAgeyJidWJibGluZ01vdXNlRXZlbnRzIjogdHJ1ZSwgImNvbG9yIjogIiNmZjAwMDAiLCAiZGFzaEFycmF5IjogbnVsbCwgImRhc2hPZmZzZXQiOiBudWxsLCAiZmlsbCI6IHRydWUsICJmaWxsQ29sb3IiOiAiI2ZmMDAwMCIsICJmaWxsT3BhY2l0eSI6IDAuNywgImZpbGxSdWxlIjogImV2ZW5vZGQiLCAibGluZUNhcCI6ICJyb3VuZCIsICJsaW5lSm9pbiI6ICJyb3VuZCIsICJvcGFjaXR5IjogMS4wLCAicmFkaXVzIjogNSwgInN0cm9rZSI6IHRydWUsICJ3ZWlnaHQiOiAzfQogICAgICAgICAgICApLmFkZFRvKG1hcF81YmQ0YjBkMmMwYTg0ZWJiYmI4NWFmN2I5ZTBkODhjYik7CiAgICAgICAgCiAgICAKICAgICAgICB2YXIgcG9wdXBfMWFkZDI3Y2I5OWVhNGFiODhlYzhhYjNjNjYzYmFjNzEgPSBMLnBvcHVwKHsibWF4V2lkdGgiOiAiMTAwJSJ9KTsKCiAgICAgICAgCiAgICAgICAgICAgIHZhciBodG1sXzU1YzYzZTc2NjFmMTRiM2JhOGQ1MDI3MGMzZTY2MTI2ID0gJChgPGRpdiBpZD0iaHRtbF81NWM2M2U3NjYxZjE0YjNiYThkNTAyNzBjM2U2NjEyNiIgc3R5bGU9IndpZHRoOiAxMDAuMCU7IGhlaWdodDogMTAwLjAlOyI+V0VTVCBERUxISSBDbHVzdGVyIDA8L2Rpdj5gKVswXTsKICAgICAgICAgICAgcG9wdXBfMWFkZDI3Y2I5OWVhNGFiODhlYzhhYjNjNjYzYmFjNzEuc2V0Q29udGVudChodG1sXzU1YzYzZTc2NjFmMTRiM2JhOGQ1MDI3MGMzZTY2MTI2KTsKICAgICAgICAKCiAgICAgICAgY2lyY2xlX21hcmtlcl82ODljMDMzYzVjMGM0ZDFiOGQ3ZDY2OWNkMmYzNjczMy5iaW5kUG9wdXAocG9wdXBfMWFkZDI3Y2I5OWVhNGFiODhlYzhhYjNjNjYzYmFjNzEpCiAgICAgICAgOwoKICAgICAgICAKICAgIAogICAgCiAgICAgICAgICAgIHZhciBjaXJjbGVfbWFya2VyX2M0ZTdiZmUwMmJmMDRkYWJhYmU3YmRiNTBjNGY4ODk3ID0gTC5jaXJjbGVNYXJrZXIoCiAgICAgICAgICAgICAgICBbMjguNjI1NzI3NzAwNTg4NzU0LCA3Ny4xMTQ0NDY3ODgxMjk0OF0sCiAgICAgICAgICAgICAgICB7ImJ1YmJsaW5nTW91c2VFdmVudHMiOiB0cnVlLCAiY29sb3IiOiAiI2ZmMDAwMCIsICJkYXNoQXJyYXkiOiBudWxsLCAiZGFzaE9mZnNldCI6IG51bGwsICJmaWxsIjogdHJ1ZSwgImZpbGxDb2xvciI6ICIjZmYwMDAwIiwgImZpbGxPcGFjaXR5IjogMC43LCAiZmlsbFJ1bGUiOiAiZXZlbm9kZCIsICJsaW5lQ2FwIjogInJvdW5kIiwgImxpbmVKb2luIjogInJvdW5kIiwgIm9wYWNpdHkiOiAxLjAsICJyYWRpdXMiOiA1LCAic3Ryb2tlIjogdHJ1ZSwgIndlaWdodCI6IDN9CiAgICAgICAgICAgICkuYWRkVG8obWFwXzViZDRiMGQyYzBhODRlYmJiYjg1YWY3YjllMGQ4OGNiKTsKICAgICAgICAKICAgIAogICAgICAgIHZhciBwb3B1cF82ODNlNzcwYTgyYmE0ODJiOWQ4MDdjOTAxMzA4ODY4NiA9IEwucG9wdXAoeyJtYXhXaWR0aCI6ICIxMDAlIn0pOwoKICAgICAgICAKICAgICAgICAgICAgdmFyIGh0bWxfMDcxOWQyMDUyMTUxNDU4M2I4MTE0NTI3MjBhZDBhMzQgPSAkKGA8ZGl2IGlkPSJodG1sXzA3MTlkMjA1MjE1MTQ1ODNiODExNDUyNzIwYWQwYTM0IiBzdHlsZT0id2lkdGg6IDEwMC4wJTsgaGVpZ2h0OiAxMDAuMCU7Ij5XRVNUIERFTEhJIENsdXN0ZXIgMDwvZGl2PmApWzBdOwogICAgICAgICAgICBwb3B1cF82ODNlNzcwYTgyYmE0ODJiOWQ4MDdjOTAxMzA4ODY4Ni5zZXRDb250ZW50KGh0bWxfMDcxOWQyMDUyMTUxNDU4M2I4MTE0NTI3MjBhZDBhMzQpOwogICAgICAgIAoKICAgICAgICBjaXJjbGVfbWFya2VyX2M0ZTdiZmUwMmJmMDRkYWJhYmU3YmRiNTBjNGY4ODk3LmJpbmRQb3B1cChwb3B1cF82ODNlNzcwYTgyYmE0ODJiOWQ4MDdjOTAxMzA4ODY4NikKICAgICAgICA7CgogICAgICAgIAogICAgCiAgICAKICAgICAgICAgICAgdmFyIGNpcmNsZV9tYXJrZXJfZWE2MjY0M2UxY2FlNDVlN2I1ZDQwMWM4MjQzYmIxZjcgPSBMLmNpcmNsZU1hcmtlcigKICAgICAgICAgICAgICAgIFsyOC41NjU2MjYsIDc3LjI1NDI0Ml0sCiAgICAgICAgICAgICAgICB7ImJ1YmJsaW5nTW91c2VFdmVudHMiOiB0cnVlLCAiY29sb3IiOiAiI2ZmYjM2MCIsICJkYXNoQXJyYXkiOiBudWxsLCAiZGFzaE9mZnNldCI6IG51bGwsICJmaWxsIjogdHJ1ZSwgImZpbGxDb2xvciI6ICIjZmZiMzYwIiwgImZpbGxPcGFjaXR5IjogMC43LCAiZmlsbFJ1bGUiOiAiZXZlbm9kZCIsICJsaW5lQ2FwIjogInJvdW5kIiwgImxpbmVKb2luIjogInJvdW5kIiwgIm9wYWNpdHkiOiAxLjAsICJyYWRpdXMiOiA1LCAic3Ryb2tlIjogdHJ1ZSwgIndlaWdodCI6IDN9CiAgICAgICAgICAgICkuYWRkVG8obWFwXzViZDRiMGQyYzBhODRlYmJiYjg1YWY3YjllMGQ4OGNiKTsKICAgICAgICAKICAgIAogICAgICAgIHZhciBwb3B1cF85NGVmMjEwOWM5NTk0ZTRkYjcyOTI5MjJiZTIwMGZmYSA9IEwucG9wdXAoeyJtYXhXaWR0aCI6ICIxMDAlIn0pOwoKICAgICAgICAKICAgICAgICAgICAgdmFyIGh0bWxfZmJmNjhiNzJjNjEyNGUzOTk0YzlhMjYyMzQyOWMxNmIgPSAkKGA8ZGl2IGlkPSJodG1sX2ZiZjY4YjcyYzYxMjRlMzk5NGM5YTI2MjM0MjljMTZiIiBzdHlsZT0id2lkdGg6IDEwMC4wJTsgaGVpZ2h0OiAxMDAuMCU7Ij5TT1VUSCBERUxISSBDbHVzdGVyIDQ8L2Rpdj5gKVswXTsKICAgICAgICAgICAgcG9wdXBfOTRlZjIxMDljOTU5NGU0ZGI3MjkyOTIyYmUyMDBmZmEuc2V0Q29udGVudChodG1sX2ZiZjY4YjcyYzYxMjRlMzk5NGM5YTI2MjM0MjljMTZiKTsKICAgICAgICAKCiAgICAgICAgY2lyY2xlX21hcmtlcl9lYTYyNjQzZTFjYWU0NWU3YjVkNDAxYzgyNDNiYjFmNy5iaW5kUG9wdXAocG9wdXBfOTRlZjIxMDljOTU5NGU0ZGI3MjkyOTIyYmUyMDBmZmEpCiAgICAgICAgOwoKICAgICAgICAKICAgIAogICAgCiAgICAgICAgICAgIHZhciBjaXJjbGVfbWFya2VyXzU3M2UxNTE1YTYzYjRkNzhhYjE1ZDJmN2YzYmZjNjdlID0gTC5jaXJjbGVNYXJrZXIoCiAgICAgICAgICAgICAgICBbMjguNTU0MDczLCA3Ny4xNjg4MjZdLAogICAgICAgICAgICAgICAgeyJidWJibGluZ01vdXNlRXZlbnRzIjogdHJ1ZSwgImNvbG9yIjogIiNmZjAwMDAiLCAiZGFzaEFycmF5IjogbnVsbCwgImRhc2hPZmZzZXQiOiBudWxsLCAiZmlsbCI6IHRydWUsICJmaWxsQ29sb3IiOiAiI2ZmMDAwMCIsICJmaWxsT3BhY2l0eSI6IDAuNywgImZpbGxSdWxlIjogImV2ZW5vZGQiLCAibGluZUNhcCI6ICJyb3VuZCIsICJsaW5lSm9pbiI6ICJyb3VuZCIsICJvcGFjaXR5IjogMS4wLCAicmFkaXVzIjogNSwgInN0cm9rZSI6IHRydWUsICJ3ZWlnaHQiOiAzfQogICAgICAgICAgICApLmFkZFRvKG1hcF81YmQ0YjBkMmMwYTg0ZWJiYmI4NWFmN2I5ZTBkODhjYik7CiAgICAgICAgCiAgICAKICAgICAgICB2YXIgcG9wdXBfOGY4M2Q0MmNiN2FmNGU5ZjlkNTAyMWI5YzA5YWY2NWYgPSBMLnBvcHVwKHsibWF4V2lkdGgiOiAiMTAwJSJ9KTsKCiAgICAgICAgCiAgICAgICAgICAgIHZhciBodG1sXzJkZjM3MTI4NWQ3ODQzMzRiZmU2ODhhMTg2OTE0MzFmID0gJChgPGRpdiBpZD0iaHRtbF8yZGYzNzEyODVkNzg0MzM0YmZlNjg4YTE4NjkxNDMxZiIgc3R5bGU9IndpZHRoOiAxMDAuMCU7IGhlaWdodDogMTAwLjAlOyI+U09VVEggV0VTVCBERUxISSBDbHVzdGVyIDA8L2Rpdj5gKVswXTsKICAgICAgICAgICAgcG9wdXBfOGY4M2Q0MmNiN2FmNGU5ZjlkNTAyMWI5YzA5YWY2NWYuc2V0Q29udGVudChodG1sXzJkZjM3MTI4NWQ3ODQzMzRiZmU2ODhhMTg2OTE0MzFmKTsKICAgICAgICAKCiAgICAgICAgY2lyY2xlX21hcmtlcl81NzNlMTUxNWE2M2I0ZDc4YWIxNWQyZjdmM2JmYzY3ZS5iaW5kUG9wdXAocG9wdXBfOGY4M2Q0MmNiN2FmNGU5ZjlkNTAyMWI5YzA5YWY2NWYpCiAgICAgICAgOwoKICAgICAgICAKICAgIAogICAgCiAgICAgICAgICAgIHZhciBjaXJjbGVfbWFya2VyXzA1OWFjOWY3OTY5ODRjNTVhZjk1MzQ4NWU3OWY1OWUwID0gTC5jaXJjbGVNYXJrZXIoCiAgICAgICAgICAgICAgICBbMjguNTEyOTg5ODk5OTk5OTk3LCA3Ny4yMDQ1NDQ3XSwKICAgICAgICAgICAgICAgIHsiYnViYmxpbmdNb3VzZUV2ZW50cyI6IHRydWUsICJjb2xvciI6ICIjZmYwMDAwIiwgImRhc2hBcnJheSI6IG51bGwsICJkYXNoT2Zmc2V0IjogbnVsbCwgImZpbGwiOiB0cnVlLCAiZmlsbENvbG9yIjogIiNmZjAwMDAiLCAiZmlsbE9wYWNpdHkiOiAwLjcsICJmaWxsUnVsZSI6ICJldmVub2RkIiwgImxpbmVDYXAiOiAicm91bmQiLCAibGluZUpvaW4iOiAicm91bmQiLCAib3BhY2l0eSI6IDEuMCwgInJhZGl1cyI6IDUsICJzdHJva2UiOiB0cnVlLCAid2VpZ2h0IjogM30KICAgICAgICAgICAgKS5hZGRUbyhtYXBfNWJkNGIwZDJjMGE4NGViYmJiODVhZjdiOWUwZDg4Y2IpOwogICAgICAgIAogICAgCiAgICAgICAgdmFyIHBvcHVwX2VkMDg0YmJmZjZmNzQ0NTM5ZjE0MzBjOWU1OGQyYTNlID0gTC5wb3B1cCh7Im1heFdpZHRoIjogIjEwMCUifSk7CgogICAgICAgIAogICAgICAgICAgICB2YXIgaHRtbF82Njk2ZWQxY2M3NzU0NDllODZiMTQxMDgwOWMyNWVkMiA9ICQoYDxkaXYgaWQ9Imh0bWxfNjY5NmVkMWNjNzc1NDQ5ZTg2YjE0MTA4MDljMjVlZDIiIHN0eWxlPSJ3aWR0aDogMTAwLjAlOyBoZWlnaHQ6IDEwMC4wJTsiPlNPVVRIIFdFU1QgREVMSEkgQ2x1c3RlciAwPC9kaXY+YClbMF07CiAgICAgICAgICAgIHBvcHVwX2VkMDg0YmJmZjZmNzQ0NTM5ZjE0MzBjOWU1OGQyYTNlLnNldENvbnRlbnQoaHRtbF82Njk2ZWQxY2M3NzU0NDllODZiMTQxMDgwOWMyNWVkMik7CiAgICAgICAgCgogICAgICAgIGNpcmNsZV9tYXJrZXJfMDU5YWM5Zjc5Njk4NGM1NWFmOTUzNDg1ZTc5ZjU5ZTAuYmluZFBvcHVwKHBvcHVwX2VkMDg0YmJmZjZmNzQ0NTM5ZjE0MzBjOWU1OGQyYTNlKQogICAgICAgIDsKCiAgICAgICAgCiAgICAKICAgIAogICAgICAgICAgICB2YXIgY2lyY2xlX21hcmtlcl9mMjYxMzczNTJiYTY0Yjc2OTVjNzBlZTRjMmIxZmJhYSA9IEwuY2lyY2xlTWFya2VyKAogICAgICAgICAgICAgICAgWzI4LjQ4MDg2Mjg5OTk5OTk5NSwgNzcuMDg0ODg4Mjk5OTk5OTldLAogICAgICAgICAgICAgICAgeyJidWJibGluZ01vdXNlRXZlbnRzIjogdHJ1ZSwgImNvbG9yIjogIiNmZjAwMDAiLCAiZGFzaEFycmF5IjogbnVsbCwgImRhc2hPZmZzZXQiOiBudWxsLCAiZmlsbCI6IHRydWUsICJmaWxsQ29sb3IiOiAiI2ZmMDAwMCIsICJmaWxsT3BhY2l0eSI6IDAuNywgImZpbGxSdWxlIjogImV2ZW5vZGQiLCAibGluZUNhcCI6ICJyb3VuZCIsICJsaW5lSm9pbiI6ICJyb3VuZCIsICJvcGFjaXR5IjogMS4wLCAicmFkaXVzIjogNSwgInN0cm9rZSI6IHRydWUsICJ3ZWlnaHQiOiAzfQogICAgICAgICAgICApLmFkZFRvKG1hcF81YmQ0YjBkMmMwYTg0ZWJiYmI4NWFmN2I5ZTBkODhjYik7CiAgICAgICAgCiAgICAKICAgICAgICB2YXIgcG9wdXBfZTRjZTM0ZTc4Yzc5NDk2ZjhmNzhlMGNmMDhjZmI1YjUgPSBMLnBvcHVwKHsibWF4V2lkdGgiOiAiMTAwJSJ9KTsKCiAgICAgICAgCiAgICAgICAgICAgIHZhciBodG1sXzM0M2JlMTEzODBiZDRiYTRiYmJmOTU5YmQ2YzkyZGUxID0gJChgPGRpdiBpZD0iaHRtbF8zNDNiZTExMzgwYmQ0YmE0YmJiZjk1OWJkNmM5MmRlMSIgc3R5bGU9IndpZHRoOiAxMDAuMCU7IGhlaWdodDogMTAwLjAlOyI+Q0VOVFJBTCBERUxISSBDbHVzdGVyIDA8L2Rpdj5gKVswXTsKICAgICAgICAgICAgcG9wdXBfZTRjZTM0ZTc4Yzc5NDk2ZjhmNzhlMGNmMDhjZmI1YjUuc2V0Q29udGVudChodG1sXzM0M2JlMTEzODBiZDRiYTRiYmJmOTU5YmQ2YzkyZGUxKTsKICAgICAgICAKCiAgICAgICAgY2lyY2xlX21hcmtlcl9mMjYxMzczNTJiYTY0Yjc2OTVjNzBlZTRjMmIxZmJhYS5iaW5kUG9wdXAocG9wdXBfZTRjZTM0ZTc4Yzc5NDk2ZjhmNzhlMGNmMDhjZmI1YjUpCiAgICAgICAgOwoKICAgICAgICAKICAgIAogICAgCiAgICAgICAgICAgIHZhciBjaXJjbGVfbWFya2VyXzMyOTg5MDg5NmRlYjRhNmE5YjI0OGI1YWYzYWEzMDJlID0gTC5jaXJjbGVNYXJrZXIoCiAgICAgICAgICAgICAgICBbMjguNTUzMjE1NiwgNzcuMDAyMTc3NTIxNzQxMDldLAogICAgICAgICAgICAgICAgeyJidWJibGluZ01vdXNlRXZlbnRzIjogdHJ1ZSwgImNvbG9yIjogIiNmZjAwMDAiLCAiZGFzaEFycmF5IjogbnVsbCwgImRhc2hPZmZzZXQiOiBudWxsLCAiZmlsbCI6IHRydWUsICJmaWxsQ29sb3IiOiAiI2ZmMDAwMCIsICJmaWxsT3BhY2l0eSI6IDAuNywgImZpbGxSdWxlIjogImV2ZW5vZGQiLCAibGluZUNhcCI6ICJyb3VuZCIsICJsaW5lSm9pbiI6ICJyb3VuZCIsICJvcGFjaXR5IjogMS4wLCAicmFkaXVzIjogNSwgInN0cm9rZSI6IHRydWUsICJ3ZWlnaHQiOiAzfQogICAgICAgICAgICApLmFkZFRvKG1hcF81YmQ0YjBkMmMwYTg0ZWJiYmI4NWFmN2I5ZTBkODhjYik7CiAgICAgICAgCiAgICAKICAgICAgICB2YXIgcG9wdXBfMjQxNGU1NGU1YTJlNDgxM2FiZTc0ZTZiZGE3OWJmZWMgPSBMLnBvcHVwKHsibWF4V2lkdGgiOiAiMTAwJSJ9KTsKCiAgICAgICAgCiAgICAgICAgICAgIHZhciBodG1sX2M0NTgzYjM5NjllYTQzM2E5ZjdmY2IzMjBhNzAzZTQ5ID0gJChgPGRpdiBpZD0iaHRtbF9jNDU4M2IzOTY5ZWE0MzNhOWY3ZmNiMzIwYTcwM2U0OSIgc3R5bGU9IndpZHRoOiAxMDAuMCU7IGhlaWdodDogMTAwLjAlOyI+U09VVEggV0VTVCBERUxISSBDbHVzdGVyIDA8L2Rpdj5gKVswXTsKICAgICAgICAgICAgcG9wdXBfMjQxNGU1NGU1YTJlNDgxM2FiZTc0ZTZiZGE3OWJmZWMuc2V0Q29udGVudChodG1sX2M0NTgzYjM5NjllYTQzM2E5ZjdmY2IzMjBhNzAzZTQ5KTsKICAgICAgICAKCiAgICAgICAgY2lyY2xlX21hcmtlcl8zMjk4OTA4OTZkZWI0YTZhOWIyNDhiNWFmM2FhMzAyZS5iaW5kUG9wdXAocG9wdXBfMjQxNGU1NGU1YTJlNDgxM2FiZTc0ZTZiZGE3OWJmZWMpCiAgICAgICAgOwoKICAgICAgICAKICAgIAogICAgCiAgICAgICAgICAgIHZhciBjaXJjbGVfbWFya2VyXzIwYWE5OWJhYzJmMjQ5ZDdhYjllMTE5YjE5NGUzNjdkID0gTC5jaXJjbGVNYXJrZXIoCiAgICAgICAgICAgICAgICBbMjguNjUxMDk1NiwgNzYuOTQ2NTkzNzc4MjU3MTFdLAogICAgICAgICAgICAgICAgeyJidWJibGluZ01vdXNlRXZlbnRzIjogdHJ1ZSwgImNvbG9yIjogIiNmZjAwMDAiLCAiZGFzaEFycmF5IjogbnVsbCwgImRhc2hPZmZzZXQiOiBudWxsLCAiZmlsbCI6IHRydWUsICJmaWxsQ29sb3IiOiAiI2ZmMDAwMCIsICJmaWxsT3BhY2l0eSI6IDAuNywgImZpbGxSdWxlIjogImV2ZW5vZGQiLCAibGluZUNhcCI6ICJyb3VuZCIsICJsaW5lSm9pbiI6ICJyb3VuZCIsICJvcGFjaXR5IjogMS4wLCAicmFkaXVzIjogNSwgInN0cm9rZSI6IHRydWUsICJ3ZWlnaHQiOiAzfQogICAgICAgICAgICApLmFkZFRvKG1hcF81YmQ0YjBkMmMwYTg0ZWJiYmI4NWFmN2I5ZTBkODhjYik7CiAgICAgICAgCiAgICAKICAgICAgICB2YXIgcG9wdXBfMjU5YWM4N2UwMTBjNGM1NThkZDkzY2U0YTEyNGYwZWUgPSBMLnBvcHVwKHsibWF4V2lkdGgiOiAiMTAwJSJ9KTsKCiAgICAgICAgCiAgICAgICAgICAgIHZhciBodG1sX2Y0MWEzNWI4ZjAwMDRlNjY5ZjdmMjQwYmFjYzM3YjFkID0gJChgPGRpdiBpZD0iaHRtbF9mNDFhMzViOGYwMDA0ZTY2OWY3ZjI0MGJhY2MzN2IxZCIgc3R5bGU9IndpZHRoOiAxMDAuMCU7IGhlaWdodDogMTAwLjAlOyI+U09VVEggV0VTVCBERUxISSBDbHVzdGVyIDA8L2Rpdj5gKVswXTsKICAgICAgICAgICAgcG9wdXBfMjU5YWM4N2UwMTBjNGM1NThkZDkzY2U0YTEyNGYwZWUuc2V0Q29udGVudChodG1sX2Y0MWEzNWI4ZjAwMDRlNjY5ZjdmMjQwYmFjYzM3YjFkKTsKICAgICAgICAKCiAgICAgICAgY2lyY2xlX21hcmtlcl8yMGFhOTliYWMyZjI0OWQ3YWI5ZTExOWIxOTRlMzY3ZC5iaW5kUG9wdXAocG9wdXBfMjU5YWM4N2UwMTBjNGM1NThkZDkzY2U0YTEyNGYwZWUpCiAgICAgICAgOwoKICAgICAgICAKICAgIAogICAgCiAgICAgICAgICAgIHZhciBjaXJjbGVfbWFya2VyX2JlZTcyNzcyYmQxNDRhMDhhNzM4ZDlhZjRjNjc2Mjc1ID0gTC5jaXJjbGVNYXJrZXIoCiAgICAgICAgICAgICAgICBbMjguNTY0NzM5MywgNzYuODg5NDY0NTA0NDA4MTFdLAogICAgICAgICAgICAgICAgeyJidWJibGluZ01vdXNlRXZlbnRzIjogdHJ1ZSwgImNvbG9yIjogIiNmZjAwMDAiLCAiZGFzaEFycmF5IjogbnVsbCwgImRhc2hPZmZzZXQiOiBudWxsLCAiZmlsbCI6IHRydWUsICJmaWxsQ29sb3IiOiAiI2ZmMDAwMCIsICJmaWxsT3BhY2l0eSI6IDAuNywgImZpbGxSdWxlIjogImV2ZW5vZGQiLCAibGluZUNhcCI6ICJyb3VuZCIsICJsaW5lSm9pbiI6ICJyb3VuZCIsICJvcGFjaXR5IjogMS4wLCAicmFkaXVzIjogNSwgInN0cm9rZSI6IHRydWUsICJ3ZWlnaHQiOiAzfQogICAgICAgICAgICApLmFkZFRvKG1hcF81YmQ0YjBkMmMwYTg0ZWJiYmI4NWFmN2I5ZTBkODhjYik7CiAgICAgICAgCiAgICAKICAgICAgICB2YXIgcG9wdXBfODlmMjg0YTkwYzIwNGQ2OWEyYmE4YjZmOGJlNTUxYjkgPSBMLnBvcHVwKHsibWF4V2lkdGgiOiAiMTAwJSJ9KTsKCiAgICAgICAgCiAgICAgICAgICAgIHZhciBodG1sXzFmYTI1OTE1OGExNjQwNTc4MGQ3NTAyZjc4ZWMzYTNmID0gJChgPGRpdiBpZD0iaHRtbF8xZmEyNTkxNThhMTY0MDU3ODBkNzUwMmY3OGVjM2EzZiIgc3R5bGU9IndpZHRoOiAxMDAuMCU7IGhlaWdodDogMTAwLjAlOyI+U09VVEggV0VTVCBERUxISSBDbHVzdGVyIDA8L2Rpdj5gKVswXTsKICAgICAgICAgICAgcG9wdXBfODlmMjg0YTkwYzIwNGQ2OWEyYmE4YjZmOGJlNTUxYjkuc2V0Q29udGVudChodG1sXzFmYTI1OTE1OGExNjQwNTc4MGQ3NTAyZjc4ZWMzYTNmKTsKICAgICAgICAKCiAgICAgICAgY2lyY2xlX21hcmtlcl9iZWU3Mjc3MmJkMTQ0YTA4YTczOGQ5YWY0YzY3NjI3NS5iaW5kUG9wdXAocG9wdXBfODlmMjg0YTkwYzIwNGQ2OWEyYmE4YjZmOGJlNTUxYjkpCiAgICAgICAgOwoKICAgICAgICAKICAgIAogICAgCiAgICAgICAgICAgIHZhciBjaXJjbGVfbWFya2VyXzYzYThhMzM5MDNkZTRkMjY5NWY1NGExMzAzZjg1MWFlID0gTC5jaXJjbGVNYXJrZXIoCiAgICAgICAgICAgICAgICBbMjguNDMwNjEzLCA3Ny4yMjU1Nzg1OTk5OTk5OV0sCiAgICAgICAgICAgICAgICB7ImJ1YmJsaW5nTW91c2VFdmVudHMiOiB0cnVlLCAiY29sb3IiOiAiI2ZmMDAwMCIsICJkYXNoQXJyYXkiOiBudWxsLCAiZGFzaE9mZnNldCI6IG51bGwsICJmaWxsIjogdHJ1ZSwgImZpbGxDb2xvciI6ICIjZmYwMDAwIiwgImZpbGxPcGFjaXR5IjogMC43LCAiZmlsbFJ1bGUiOiAiZXZlbm9kZCIsICJsaW5lQ2FwIjogInJvdW5kIiwgImxpbmVKb2luIjogInJvdW5kIiwgIm9wYWNpdHkiOiAxLjAsICJyYWRpdXMiOiA1LCAic3Ryb2tlIjogdHJ1ZSwgIndlaWdodCI6IDN9CiAgICAgICAgICAgICkuYWRkVG8obWFwXzViZDRiMGQyYzBhODRlYmJiYjg1YWY3YjllMGQ4OGNiKTsKICAgICAgICAKICAgIAogICAgICAgIHZhciBwb3B1cF83YTk3YzgzMzBjYWY0MDI2Yjk5ZmMzOGMzMTM5ZTk3YiA9IEwucG9wdXAoeyJtYXhXaWR0aCI6ICIxMDAlIn0pOwoKICAgICAgICAKICAgICAgICAgICAgdmFyIGh0bWxfOGE2ZWQ0NTNmNzU3NDVhOTg3OTlmOTFjMDIzYmNlMDEgPSAkKGA8ZGl2IGlkPSJodG1sXzhhNmVkNDUzZjc1NzQ1YTk4Nzk5ZjkxYzAyM2JjZTAxIiBzdHlsZT0id2lkdGg6IDEwMC4wJTsgaGVpZ2h0OiAxMDAuMCU7Ij5TT1VUSCBXRVNUIERFTEhJIENsdXN0ZXIgMDwvZGl2PmApWzBdOwogICAgICAgICAgICBwb3B1cF83YTk3YzgzMzBjYWY0MDI2Yjk5ZmMzOGMzMTM5ZTk3Yi5zZXRDb250ZW50KGh0bWxfOGE2ZWQ0NTNmNzU3NDVhOTg3OTlmOTFjMDIzYmNlMDEpOwogICAgICAgIAoKICAgICAgICBjaXJjbGVfbWFya2VyXzYzYThhMzM5MDNkZTRkMjY5NWY1NGExMzAzZjg1MWFlLmJpbmRQb3B1cChwb3B1cF83YTk3YzgzMzBjYWY0MDI2Yjk5ZmMzOGMzMTM5ZTk3YikKICAgICAgICA7CgogICAgICAgIAogICAgCiAgICAKICAgICAgICAgICAgdmFyIGNpcmNsZV9tYXJrZXJfMWFhMDNlYTM1NWNjNGZmYjhhYWEwNDVkYzU5NTYzMmYgPSBMLmNpcmNsZU1hcmtlcigKICAgICAgICAgICAgICAgIFsyOC41OTM5NDU4NjMxMzU3MzMsIDc3LjA1OTM4NTIzNjM1NjQ5XSwKICAgICAgICAgICAgICAgIHsiYnViYmxpbmdNb3VzZUV2ZW50cyI6IHRydWUsICJjb2xvciI6ICIjZmYwMDAwIiwgImRhc2hBcnJheSI6IG51bGwsICJkYXNoT2Zmc2V0IjogbnVsbCwgImZpbGwiOiB0cnVlLCAiZmlsbENvbG9yIjogIiNmZjAwMDAiLCAiZmlsbE9wYWNpdHkiOiAwLjcsICJmaWxsUnVsZSI6ICJldmVub2RkIiwgImxpbmVDYXAiOiAicm91bmQiLCAibGluZUpvaW4iOiAicm91bmQiLCAib3BhY2l0eSI6IDEuMCwgInJhZGl1cyI6IDUsICJzdHJva2UiOiB0cnVlLCAid2VpZ2h0IjogM30KICAgICAgICAgICAgKS5hZGRUbyhtYXBfNWJkNGIwZDJjMGE4NGViYmJiODVhZjdiOWUwZDg4Y2IpOwogICAgICAgIAogICAgCiAgICAgICAgdmFyIHBvcHVwXzY4ODk3NjEyOTRhMzQxMjg5ZGQ2Yjg1MDQ2N2QzOWNiID0gTC5wb3B1cCh7Im1heFdpZHRoIjogIjEwMCUifSk7CgogICAgICAgIAogICAgICAgICAgICB2YXIgaHRtbF9mMjU5OWZmZjI2ZjU0MGJiOGExMDlhNjg0OWRhZTUwYSA9ICQoYDxkaXYgaWQ9Imh0bWxfZjI1OTlmZmYyNmY1NDBiYjhhMTA5YTY4NDlkYWU1MGEiIHN0eWxlPSJ3aWR0aDogMTAwLjAlOyBoZWlnaHQ6IDEwMC4wJTsiPlNPVVRIIFdFU1QgREVMSEkgQ2x1c3RlciAwPC9kaXY+YClbMF07CiAgICAgICAgICAgIHBvcHVwXzY4ODk3NjEyOTRhMzQxMjg5ZGQ2Yjg1MDQ2N2QzOWNiLnNldENvbnRlbnQoaHRtbF9mMjU5OWZmZjI2ZjU0MGJiOGExMDlhNjg0OWRhZTUwYSk7CiAgICAgICAgCgogICAgICAgIGNpcmNsZV9tYXJrZXJfMWFhMDNlYTM1NWNjNGZmYjhhYWEwNDVkYzU5NTYzMmYuYmluZFBvcHVwKHBvcHVwXzY4ODk3NjEyOTRhMzQxMjg5ZGQ2Yjg1MDQ2N2QzOWNiKQogICAgICAgIDsKCiAgICAgICAgCiAgICAKICAgIAogICAgICAgICAgICB2YXIgY2lyY2xlX21hcmtlcl82MzZhNWI2ZDU3MTg0MzYzOTBmOGM5YTQwMjI4ZGVkZiA9IEwuY2lyY2xlTWFya2VyKAogICAgICAgICAgICAgICAgWzI4LjUzOTgxNjgxMjg4OTUyLCA3Ny4yNDAzNzczNDQyNzIwM10sCiAgICAgICAgICAgICAgICB7ImJ1YmJsaW5nTW91c2VFdmVudHMiOiB0cnVlLCAiY29sb3IiOiAiI2ZmYjM2MCIsICJkYXNoQXJyYXkiOiBudWxsLCAiZGFzaE9mZnNldCI6IG51bGwsICJmaWxsIjogdHJ1ZSwgImZpbGxDb2xvciI6ICIjZmZiMzYwIiwgImZpbGxPcGFjaXR5IjogMC43LCAiZmlsbFJ1bGUiOiAiZXZlbm9kZCIsICJsaW5lQ2FwIjogInJvdW5kIiwgImxpbmVKb2luIjogInJvdW5kIiwgIm9wYWNpdHkiOiAxLjAsICJyYWRpdXMiOiA1LCAic3Ryb2tlIjogdHJ1ZSwgIndlaWdodCI6IDN9CiAgICAgICAgICAgICkuYWRkVG8obWFwXzViZDRiMGQyYzBhODRlYmJiYjg1YWY3YjllMGQ4OGNiKTsKICAgICAgICAKICAgIAogICAgICAgIHZhciBwb3B1cF8xOTg1MmI1ZmJkYjU0Njc4YWNhNWU5MGE2ZmQzZTRlZCA9IEwucG9wdXAoeyJtYXhXaWR0aCI6ICIxMDAlIn0pOwoKICAgICAgICAKICAgICAgICAgICAgdmFyIGh0bWxfYThmZWJmYTRmODEzNGE0ZWJlMDgwNWZiZWE4ODc2YTcgPSAkKGA8ZGl2IGlkPSJodG1sX2E4ZmViZmE0ZjgxMzRhNGViZTA4MDVmYmVhODg3NmE3IiBzdHlsZT0id2lkdGg6IDEwMC4wJTsgaGVpZ2h0OiAxMDAuMCU7Ij5TT1VUSCBERUxISSBDbHVzdGVyIDQ8L2Rpdj5gKVswXTsKICAgICAgICAgICAgcG9wdXBfMTk4NTJiNWZiZGI1NDY3OGFjYTVlOTBhNmZkM2U0ZWQuc2V0Q29udGVudChodG1sX2E4ZmViZmE0ZjgxMzRhNGViZTA4MDVmYmVhODg3NmE3KTsKICAgICAgICAKCiAgICAgICAgY2lyY2xlX21hcmtlcl82MzZhNWI2ZDU3MTg0MzYzOTBmOGM5YTQwMjI4ZGVkZi5iaW5kUG9wdXAocG9wdXBfMTk4NTJiNWZiZGI1NDY3OGFjYTVlOTBhNmZkM2U0ZWQpCiAgICAgICAgOwoKICAgICAgICAKICAgIAogICAgCiAgICAgICAgICAgIHZhciBjaXJjbGVfbWFya2VyXzQ5YjBiN2Y2OGRlYTRjMzRiZWNmNTU0YzYyY2Q3ODA2ID0gTC5jaXJjbGVNYXJrZXIoCiAgICAgICAgICAgICAgICBbMjguNTgxODcyMjkxNDU2Njk0LCA3Ny4wNzM0MzYxMzA2NTU4OV0sCiAgICAgICAgICAgICAgICB7ImJ1YmJsaW5nTW91c2VFdmVudHMiOiB0cnVlLCAiY29sb3IiOiAiI2ZmMDAwMCIsICJkYXNoQXJyYXkiOiBudWxsLCAiZGFzaE9mZnNldCI6IG51bGwsICJmaWxsIjogdHJ1ZSwgImZpbGxDb2xvciI6ICIjZmYwMDAwIiwgImZpbGxPcGFjaXR5IjogMC43LCAiZmlsbFJ1bGUiOiAiZXZlbm9kZCIsICJsaW5lQ2FwIjogInJvdW5kIiwgImxpbmVKb2luIjogInJvdW5kIiwgIm9wYWNpdHkiOiAxLjAsICJyYWRpdXMiOiA1LCAic3Ryb2tlIjogdHJ1ZSwgIndlaWdodCI6IDN9CiAgICAgICAgICAgICkuYWRkVG8obWFwXzViZDRiMGQyYzBhODRlYmJiYjg1YWY3YjllMGQ4OGNiKTsKICAgICAgICAKICAgIAogICAgICAgIHZhciBwb3B1cF9lZjNjNTM2ODExYjg0MGEzYTUzNjc1ZTdlOTdhOTgzNCA9IEwucG9wdXAoeyJtYXhXaWR0aCI6ICIxMDAlIn0pOwoKICAgICAgICAKICAgICAgICAgICAgdmFyIGh0bWxfNGVlMzRlODAwMGM3NGI5ZTkzYjdkZjdhZjg4MjhjOGMgPSAkKGA8ZGl2IGlkPSJodG1sXzRlZTM0ZTgwMDBjNzRiOWU5M2I3ZGY3YWY4ODI4YzhjIiBzdHlsZT0id2lkdGg6IDEwMC4wJTsgaGVpZ2h0OiAxMDAuMCU7Ij5TT1VUSCBXRVNUIERFTEhJIENsdXN0ZXIgMDwvZGl2PmApWzBdOwogICAgICAgICAgICBwb3B1cF9lZjNjNTM2ODExYjg0MGEzYTUzNjc1ZTdlOTdhOTgzNC5zZXRDb250ZW50KGh0bWxfNGVlMzRlODAwMGM3NGI5ZTkzYjdkZjdhZjg4MjhjOGMpOwogICAgICAgIAoKICAgICAgICBjaXJjbGVfbWFya2VyXzQ5YjBiN2Y2OGRlYTRjMzRiZWNmNTU0YzYyY2Q3ODA2LmJpbmRQb3B1cChwb3B1cF9lZjNjNTM2ODExYjg0MGEzYTUzNjc1ZTdlOTdhOTgzNCkKICAgICAgICA7CgogICAgICAgIAogICAgCiAgICAKICAgICAgICAgICAgdmFyIGNpcmNsZV9tYXJrZXJfMzE0MjJjZmYxMzI5NDU2MjgxMGNhZTUyNjQ4ZGQ2NmMgPSBMLmNpcmNsZU1hcmtlcigKICAgICAgICAgICAgICAgIFsyOC42MDI4NTg5NzY2NDk1NiwgNzcuMDQwMzczNjg2ODY4N10sCiAgICAgICAgICAgICAgICB7ImJ1YmJsaW5nTW91c2VFdmVudHMiOiB0cnVlLCAiY29sb3IiOiAiI2ZmMDAwMCIsICJkYXNoQXJyYXkiOiBudWxsLCAiZGFzaE9mZnNldCI6IG51bGwsICJmaWxsIjogdHJ1ZSwgImZpbGxDb2xvciI6ICIjZmYwMDAwIiwgImZpbGxPcGFjaXR5IjogMC43LCAiZmlsbFJ1bGUiOiAiZXZlbm9kZCIsICJsaW5lQ2FwIjogInJvdW5kIiwgImxpbmVKb2luIjogInJvdW5kIiwgIm9wYWNpdHkiOiAxLjAsICJyYWRpdXMiOiA1LCAic3Ryb2tlIjogdHJ1ZSwgIndlaWdodCI6IDN9CiAgICAgICAgICAgICkuYWRkVG8obWFwXzViZDRiMGQyYzBhODRlYmJiYjg1YWY3YjllMGQ4OGNiKTsKICAgICAgICAKICAgIAogICAgICAgIHZhciBwb3B1cF9mMjdmM2U4NWMyOGQ0NDkxODQ4ZmEyZTc4ODkxMGRmOSA9IEwucG9wdXAoeyJtYXhXaWR0aCI6ICIxMDAlIn0pOwoKICAgICAgICAKICAgICAgICAgICAgdmFyIGh0bWxfMGE2YjI4ZjcxZmI0NDlhYWE5NDY2ZTAzMzRmODBjYjAgPSAkKGA8ZGl2IGlkPSJodG1sXzBhNmIyOGY3MWZiNDQ5YWFhOTQ2NmUwMzM0ZjgwY2IwIiBzdHlsZT0id2lkdGg6IDEwMC4wJTsgaGVpZ2h0OiAxMDAuMCU7Ij5TT1VUSCBXRVNUIERFTEhJIENsdXN0ZXIgMDwvZGl2PmApWzBdOwogICAgICAgICAgICBwb3B1cF9mMjdmM2U4NWMyOGQ0NDkxODQ4ZmEyZTc4ODkxMGRmOS5zZXRDb250ZW50KGh0bWxfMGE2YjI4ZjcxZmI0NDlhYWE5NDY2ZTAzMzRmODBjYjApOwogICAgICAgIAoKICAgICAgICBjaXJjbGVfbWFya2VyXzMxNDIyY2ZmMTMyOTQ1NjI4MTBjYWU1MjY0OGRkNjZjLmJpbmRQb3B1cChwb3B1cF9mMjdmM2U4NWMyOGQ0NDkxODQ4ZmEyZTc4ODkxMGRmOSkKICAgICAgICA7CgogICAgICAgIAogICAgCiAgICAKICAgICAgICAgICAgdmFyIGNpcmNsZV9tYXJrZXJfNzk4NDk4NzA0ODFmNDgwODlmM2IxNGNmYWM0YjlhMGEgPSBMLmNpcmNsZU1hcmtlcigKICAgICAgICAgICAgICAgIFsyOC43MTg3MjYyNjE0MzM3MiwgNzcuMDA2NzU5MjYwMDkyMzRdLAogICAgICAgICAgICAgICAgeyJidWJibGluZ01vdXNlRXZlbnRzIjogdHJ1ZSwgImNvbG9yIjogIiM4MDAwZmYiLCAiZGFzaEFycmF5IjogbnVsbCwgImRhc2hPZmZzZXQiOiBudWxsLCAiZmlsbCI6IHRydWUsICJmaWxsQ29sb3IiOiAiIzgwMDBmZiIsICJmaWxsT3BhY2l0eSI6IDAuNywgImZpbGxSdWxlIjogImV2ZW5vZGQiLCAibGluZUNhcCI6ICJyb3VuZCIsICJsaW5lSm9pbiI6ICJyb3VuZCIsICJvcGFjaXR5IjogMS4wLCAicmFkaXVzIjogNSwgInN0cm9rZSI6IHRydWUsICJ3ZWlnaHQiOiAzfQogICAgICAgICAgICApLmFkZFRvKG1hcF81YmQ0YjBkMmMwYTg0ZWJiYmI4NWFmN2I5ZTBkODhjYik7CiAgICAgICAgCiAgICAKICAgICAgICB2YXIgcG9wdXBfYWNkM2VjNDJiODY0NGViOGE2ODViMmZkN2EzNDUxOGYgPSBMLnBvcHVwKHsibWF4V2lkdGgiOiAiMTAwJSJ9KTsKCiAgICAgICAgCiAgICAgICAgICAgIHZhciBodG1sX2ZiZWE3NzY5M2U4OTRjMGM5ZGEzOWY5M2JkOWQ3NDFlID0gJChgPGRpdiBpZD0iaHRtbF9mYmVhNzc2OTNlODk0YzBjOWRhMzlmOTNiZDlkNzQxZSIgc3R5bGU9IndpZHRoOiAxMDAuMCU7IGhlaWdodDogMTAwLjAlOyI+Tk9SVEggV0VTVCBERUxISSBDbHVzdGVyIDE8L2Rpdj5gKVswXTsKICAgICAgICAgICAgcG9wdXBfYWNkM2VjNDJiODY0NGViOGE2ODViMmZkN2EzNDUxOGYuc2V0Q29udGVudChodG1sX2ZiZWE3NzY5M2U4OTRjMGM5ZGEzOWY5M2JkOWQ3NDFlKTsKICAgICAgICAKCiAgICAgICAgY2lyY2xlX21hcmtlcl83OTg0OTg3MDQ4MWY0ODA4OWYzYjE0Y2ZhYzRiOWEwYS5iaW5kUG9wdXAocG9wdXBfYWNkM2VjNDJiODY0NGViOGE2ODViMmZkN2EzNDUxOGYpCiAgICAgICAgOwoKICAgICAgICAKICAgIAogICAgCiAgICAgICAgICAgIHZhciBjaXJjbGVfbWFya2VyXzA0ODIyMTFkZmIzMjQ5MDY4NTA1MDlkZjQ4ZmRmNGI0ID0gTC5jaXJjbGVNYXJrZXIoCiAgICAgICAgICAgICAgICBbMjguNzkxNjA5OCwgNzcuMTAyMzE0NTVdLAogICAgICAgICAgICAgICAgeyJidWJibGluZ01vdXNlRXZlbnRzIjogdHJ1ZSwgImNvbG9yIjogIiM4MDAwZmYiLCAiZGFzaEFycmF5IjogbnVsbCwgImRhc2hPZmZzZXQiOiBudWxsLCAiZmlsbCI6IHRydWUsICJmaWxsQ29sb3IiOiAiIzgwMDBmZiIsICJmaWxsT3BhY2l0eSI6IDAuNywgImZpbGxSdWxlIjogImV2ZW5vZGQiLCAibGluZUNhcCI6ICJyb3VuZCIsICJsaW5lSm9pbiI6ICJyb3VuZCIsICJvcGFjaXR5IjogMS4wLCAicmFkaXVzIjogNSwgInN0cm9rZSI6IHRydWUsICJ3ZWlnaHQiOiAzfQogICAgICAgICAgICApLmFkZFRvKG1hcF81YmQ0YjBkMmMwYTg0ZWJiYmI4NWFmN2I5ZTBkODhjYik7CiAgICAgICAgCiAgICAKICAgICAgICB2YXIgcG9wdXBfZjc0NWI3MzU3OGQxNDZkMThmYzQzMGE0Mjc5ZTEzODMgPSBMLnBvcHVwKHsibWF4V2lkdGgiOiAiMTAwJSJ9KTsKCiAgICAgICAgCiAgICAgICAgICAgIHZhciBodG1sXzRkZmI2NjhkZDk3OTRkNWE4OTcxZWU2MjlmZTE0ZGY1ID0gJChgPGRpdiBpZD0iaHRtbF80ZGZiNjY4ZGQ5Nzk0ZDVhODk3MWVlNjI5ZmUxNGRmNSIgc3R5bGU9IndpZHRoOiAxMDAuMCU7IGhlaWdodDogMTAwLjAlOyI+Tk9SVEggV0VTVCBERUxISSBDbHVzdGVyIDE8L2Rpdj5gKVswXTsKICAgICAgICAgICAgcG9wdXBfZjc0NWI3MzU3OGQxNDZkMThmYzQzMGE0Mjc5ZTEzODMuc2V0Q29udGVudChodG1sXzRkZmI2NjhkZDk3OTRkNWE4OTcxZWU2MjlmZTE0ZGY1KTsKICAgICAgICAKCiAgICAgICAgY2lyY2xlX21hcmtlcl8wNDgyMjExZGZiMzI0OTA2ODUwNTA5ZGY0OGZkZjRiNC5iaW5kUG9wdXAocG9wdXBfZjc0NWI3MzU3OGQxNDZkMThmYzQzMGE0Mjc5ZTEzODMpCiAgICAgICAgOwoKICAgICAgICAKICAgIAogICAgCiAgICAgICAgICAgIHZhciBjaXJjbGVfbWFya2VyX2RlNDAxZGM4M2M2ZDRhYWM4NWM4ZDUwMjZhZmU1ZDA2ID0gTC5jaXJjbGVNYXJrZXIoCiAgICAgICAgICAgICAgICBbMjguNjkyNzU4LCA3Ny4wODgwMzddLAogICAgICAgICAgICAgICAgeyJidWJibGluZ01vdXNlRXZlbnRzIjogdHJ1ZSwgImNvbG9yIjogIiM4MDAwZmYiLCAiZGFzaEFycmF5IjogbnVsbCwgImRhc2hPZmZzZXQiOiBudWxsLCAiZmlsbCI6IHRydWUsICJmaWxsQ29sb3IiOiAiIzgwMDBmZiIsICJmaWxsT3BhY2l0eSI6IDAuNywgImZpbGxSdWxlIjogImV2ZW5vZGQiLCAibGluZUNhcCI6ICJyb3VuZCIsICJsaW5lSm9pbiI6ICJyb3VuZCIsICJvcGFjaXR5IjogMS4wLCAicmFkaXVzIjogNSwgInN0cm9rZSI6IHRydWUsICJ3ZWlnaHQiOiAzfQogICAgICAgICAgICApLmFkZFRvKG1hcF81YmQ0YjBkMmMwYTg0ZWJiYmI4NWFmN2I5ZTBkODhjYik7CiAgICAgICAgCiAgICAKICAgICAgICB2YXIgcG9wdXBfYjIzYWNiZmY1ZjE0NGQ1YmE4OTk5YWQ0YTAxNDZlMjMgPSBMLnBvcHVwKHsibWF4V2lkdGgiOiAiMTAwJSJ9KTsKCiAgICAgICAgCiAgICAgICAgICAgIHZhciBodG1sX2NjZjA5Yzk2YzM1ODQ0Mjc5MThkYTJmMWI3OTZkMDMwID0gJChgPGRpdiBpZD0iaHRtbF9jY2YwOWM5NmMzNTg0NDI3OTE4ZGEyZjFiNzk2ZDAzMCIgc3R5bGU9IndpZHRoOiAxMDAuMCU7IGhlaWdodDogMTAwLjAlOyI+Tk9SVEggV0VTVCBERUxISSBDbHVzdGVyIDE8L2Rpdj5gKVswXTsKICAgICAgICAgICAgcG9wdXBfYjIzYWNiZmY1ZjE0NGQ1YmE4OTk5YWQ0YTAxNDZlMjMuc2V0Q29udGVudChodG1sX2NjZjA5Yzk2YzM1ODQ0Mjc5MThkYTJmMWI3OTZkMDMwKTsKICAgICAgICAKCiAgICAgICAgY2lyY2xlX21hcmtlcl9kZTQwMWRjODNjNmQ0YWFjODVjOGQ1MDI2YWZlNWQwNi5iaW5kUG9wdXAocG9wdXBfYjIzYWNiZmY1ZjE0NGQ1YmE4OTk5YWQ0YTAxNDZlMjMpCiAgICAgICAgOwoKICAgICAgICAKICAgIAogICAgCiAgICAgICAgICAgIHZhciBjaXJjbGVfbWFya2VyXzE0YzdhODYxOTAwZDRhOGRhNWE2ZDUwNWQwZTRkZDk4ID0gTC5jaXJjbGVNYXJrZXIoCiAgICAgICAgICAgICAgICBbMjguNzU1MTcsIDc3LjE5OTM4OV0sCiAgICAgICAgICAgICAgICB7ImJ1YmJsaW5nTW91c2VFdmVudHMiOiB0cnVlLCAiY29sb3IiOiAiIzAwYjVlYiIsICJkYXNoQXJyYXkiOiBudWxsLCAiZGFzaE9mZnNldCI6IG51bGwsICJmaWxsIjogdHJ1ZSwgImZpbGxDb2xvciI6ICIjMDBiNWViIiwgImZpbGxPcGFjaXR5IjogMC43LCAiZmlsbFJ1bGUiOiAiZXZlbm9kZCIsICJsaW5lQ2FwIjogInJvdW5kIiwgImxpbmVKb2luIjogInJvdW5kIiwgIm9wYWNpdHkiOiAxLjAsICJyYWRpdXMiOiA1LCAic3Ryb2tlIjogdHJ1ZSwgIndlaWdodCI6IDN9CiAgICAgICAgICAgICkuYWRkVG8obWFwXzViZDRiMGQyYzBhODRlYmJiYjg1YWY3YjllMGQ4OGNiKTsKICAgICAgICAKICAgIAogICAgICAgIHZhciBwb3B1cF9hNmJkN2ZhMmY1ZWQ0NjhiYTBmNTk1NDJlNmVjNWEzMCA9IEwucG9wdXAoeyJtYXhXaWR0aCI6ICIxMDAlIn0pOwoKICAgICAgICAKICAgICAgICAgICAgdmFyIGh0bWxfZWFmMzNiOWE5MTkzNGFmNTlhYjdhYzU2NTkxNmYzZmMgPSAkKGA8ZGl2IGlkPSJodG1sX2VhZjMzYjlhOTE5MzRhZjU5YWI3YWM1NjU5MTZmM2ZjIiBzdHlsZT0id2lkdGg6IDEwMC4wJTsgaGVpZ2h0OiAxMDAuMCU7Ij5OT1JUSCBERUxISSBDbHVzdGVyIDI8L2Rpdj5gKVswXTsKICAgICAgICAgICAgcG9wdXBfYTZiZDdmYTJmNWVkNDY4YmEwZjU5NTQyZTZlYzVhMzAuc2V0Q29udGVudChodG1sX2VhZjMzYjlhOTE5MzRhZjU5YWI3YWM1NjU5MTZmM2ZjKTsKICAgICAgICAKCiAgICAgICAgY2lyY2xlX21hcmtlcl8xNGM3YTg2MTkwMGQ0YThkYTVhNmQ1MDVkMGU0ZGQ5OC5iaW5kUG9wdXAocG9wdXBfYTZiZDdmYTJmNWVkNDY4YmEwZjU5NTQyZTZlYzVhMzApCiAgICAgICAgOwoKICAgICAgICAKICAgIAogICAgCiAgICAgICAgICAgIHZhciBjaXJjbGVfbWFya2VyX2I1ZmVlZjlkZDZhYTQzYTI4MTQzNDA1Y2E0NTQ5ZDBiID0gTC5jaXJjbGVNYXJrZXIoCiAgICAgICAgICAgICAgICBbMjguNzAzOTQ1OTczMzMzMzMsIDc3LjA2MzU0Njc4XSwKICAgICAgICAgICAgICAgIHsiYnViYmxpbmdNb3VzZUV2ZW50cyI6IHRydWUsICJjb2xvciI6ICIjODAwMGZmIiwgImRhc2hBcnJheSI6IG51bGwsICJkYXNoT2Zmc2V0IjogbnVsbCwgImZpbGwiOiB0cnVlLCAiZmlsbENvbG9yIjogIiM4MDAwZmYiLCAiZmlsbE9wYWNpdHkiOiAwLjcsICJmaWxsUnVsZSI6ICJldmVub2RkIiwgImxpbmVDYXAiOiAicm91bmQiLCAibGluZUpvaW4iOiAicm91bmQiLCAib3BhY2l0eSI6IDEuMCwgInJhZGl1cyI6IDUsICJzdHJva2UiOiB0cnVlLCAid2VpZ2h0IjogM30KICAgICAgICAgICAgKS5hZGRUbyhtYXBfNWJkNGIwZDJjMGE4NGViYmJiODVhZjdiOWUwZDg4Y2IpOwogICAgICAgIAogICAgCiAgICAgICAgdmFyIHBvcHVwX2MyNDU5NDRkY2I0NTQ3NDc5MzIyMTk4MWU5NzMxODBmID0gTC5wb3B1cCh7Im1heFdpZHRoIjogIjEwMCUifSk7CgogICAgICAgIAogICAgICAgICAgICB2YXIgaHRtbF9mNzFkZGI2ZjEyN2M0ZDg0YTljZWMyOGFkNzcwN2E2NiA9ICQoYDxkaXYgaWQ9Imh0bWxfZjcxZGRiNmYxMjdjNGQ4NGE5Y2VjMjhhZDc3MDdhNjYiIHN0eWxlPSJ3aWR0aDogMTAwLjAlOyBoZWlnaHQ6IDEwMC4wJTsiPk5PUlRIIFdFU1QgREVMSEkgQ2x1c3RlciAxPC9kaXY+YClbMF07CiAgICAgICAgICAgIHBvcHVwX2MyNDU5NDRkY2I0NTQ3NDc5MzIyMTk4MWU5NzMxODBmLnNldENvbnRlbnQoaHRtbF9mNzFkZGI2ZjEyN2M0ZDg0YTljZWMyOGFkNzcwN2E2Nik7CiAgICAgICAgCgogICAgICAgIGNpcmNsZV9tYXJrZXJfYjVmZWVmOWRkNmFhNDNhMjgxNDM0MDVjYTQ1NDlkMGIuYmluZFBvcHVwKHBvcHVwX2MyNDU5NDRkY2I0NTQ3NDc5MzIyMTk4MWU5NzMxODBmKQogICAgICAgIDsKCiAgICAgICAgCiAgICAKICAgIAogICAgICAgICAgICB2YXIgY2lyY2xlX21hcmtlcl9iMjYzOTVlZmMzMjQ0YjY0YThhNGI0Y2FjNGU3OTI2YyA9IEwuY2lyY2xlTWFya2VyKAogICAgICAgICAgICAgICAgWzI4LjY3ODQ4MjMwMDAwMDAwMiwgNzcuMDc2ODY3Mjk5OTk5OTldLAogICAgICAgICAgICAgICAgeyJidWJibGluZ01vdXNlRXZlbnRzIjogdHJ1ZSwgImNvbG9yIjogIiNmZjAwMDAiLCAiZGFzaEFycmF5IjogbnVsbCwgImRhc2hPZmZzZXQiOiBudWxsLCAiZmlsbCI6IHRydWUsICJmaWxsQ29sb3IiOiAiI2ZmMDAwMCIsICJmaWxsT3BhY2l0eSI6IDAuNywgImZpbGxSdWxlIjogImV2ZW5vZGQiLCAibGluZUNhcCI6ICJyb3VuZCIsICJsaW5lSm9pbiI6ICJyb3VuZCIsICJvcGFjaXR5IjogMS4wLCAicmFkaXVzIjogNSwgInN0cm9rZSI6IHRydWUsICJ3ZWlnaHQiOiAzfQogICAgICAgICAgICApLmFkZFRvKG1hcF81YmQ0YjBkMmMwYTg0ZWJiYmI4NWFmN2I5ZTBkODhjYik7CiAgICAgICAgCiAgICAKICAgICAgICB2YXIgcG9wdXBfZjEyOWFhYmNiZTQ2NDkzMDkwNWRkYWQ2NzJkM2QwNzcgPSBMLnBvcHVwKHsibWF4V2lkdGgiOiAiMTAwJSJ9KTsKCiAgICAgICAgCiAgICAgICAgICAgIHZhciBodG1sXzIxYTNmODhkNDhiZTQwYmRhMzEyYWMzOTQ1MTYzOGNiID0gJChgPGRpdiBpZD0iaHRtbF8yMWEzZjg4ZDQ4YmU0MGJkYTMxMmFjMzk0NTE2MzhjYiIgc3R5bGU9IndpZHRoOiAxMDAuMCU7IGhlaWdodDogMTAwLjAlOyI+V0VTVCBERUxISSBDbHVzdGVyIDA8L2Rpdj5gKVswXTsKICAgICAgICAgICAgcG9wdXBfZjEyOWFhYmNiZTQ2NDkzMDkwNWRkYWQ2NzJkM2QwNzcuc2V0Q29udGVudChodG1sXzIxYTNmODhkNDhiZTQwYmRhMzEyYWMzOTQ1MTYzOGNiKTsKICAgICAgICAKCiAgICAgICAgY2lyY2xlX21hcmtlcl9iMjYzOTVlZmMzMjQ0YjY0YThhNGI0Y2FjNGU3OTI2Yy5iaW5kUG9wdXAocG9wdXBfZjEyOWFhYmNiZTQ2NDkzMDkwNWRkYWQ2NzJkM2QwNzcpCiAgICAgICAgOwoKICAgICAgICAKICAgIAogICAgCiAgICAgICAgICAgIHZhciBjaXJjbGVfbWFya2VyXzY5Zjg1MmViYTAwYzQyMTNiODAyYjNkN2Y0NWEwMGZkID0gTC5jaXJjbGVNYXJrZXIoCiAgICAgICAgICAgICAgICBbMjguNzIzNDYxOTk5OTk5OTk4LCA3Ny4xNTE2MjVdLAogICAgICAgICAgICAgICAgeyJidWJibGluZ01vdXNlRXZlbnRzIjogdHJ1ZSwgImNvbG9yIjogIiM4MDAwZmYiLCAiZGFzaEFycmF5IjogbnVsbCwgImRhc2hPZmZzZXQiOiBudWxsLCAiZmlsbCI6IHRydWUsICJmaWxsQ29sb3IiOiAiIzgwMDBmZiIsICJmaWxsT3BhY2l0eSI6IDAuNywgImZpbGxSdWxlIjogImV2ZW5vZGQiLCAibGluZUNhcCI6ICJyb3VuZCIsICJsaW5lSm9pbiI6ICJyb3VuZCIsICJvcGFjaXR5IjogMS4wLCAicmFkaXVzIjogNSwgInN0cm9rZSI6IHRydWUsICJ3ZWlnaHQiOiAzfQogICAgICAgICAgICApLmFkZFRvKG1hcF81YmQ0YjBkMmMwYTg0ZWJiYmI4NWFmN2I5ZTBkODhjYik7CiAgICAgICAgCiAgICAKICAgICAgICB2YXIgcG9wdXBfOGYxZTUyNWE3YjFlNDg1ZmFjMjNmOTBkMzZlZjMxZTEgPSBMLnBvcHVwKHsibWF4V2lkdGgiOiAiMTAwJSJ9KTsKCiAgICAgICAgCiAgICAgICAgICAgIHZhciBodG1sXzk0ZjMyMzZmN2U2ZDQ2NThhZTlmNDcwN2EzZTU0MTE4ID0gJChgPGRpdiBpZD0iaHRtbF85NGYzMjM2ZjdlNmQ0NjU4YWU5ZjQ3MDdhM2U1NDExOCIgc3R5bGU9IndpZHRoOiAxMDAuMCU7IGhlaWdodDogMTAwLjAlOyI+Tk9SVEggV0VTVCBERUxISSBDbHVzdGVyIDE8L2Rpdj5gKVswXTsKICAgICAgICAgICAgcG9wdXBfOGYxZTUyNWE3YjFlNDg1ZmFjMjNmOTBkMzZlZjMxZTEuc2V0Q29udGVudChodG1sXzk0ZjMyMzZmN2U2ZDQ2NThhZTlmNDcwN2EzZTU0MTE4KTsKICAgICAgICAKCiAgICAgICAgY2lyY2xlX21hcmtlcl82OWY4NTJlYmEwMGM0MjEzYjgwMmIzZDdmNDVhMDBmZC5iaW5kUG9wdXAocG9wdXBfOGYxZTUyNWE3YjFlNDg1ZmFjMjNmOTBkMzZlZjMxZTEpCiAgICAgICAgOwoKICAgICAgICAKICAgIAogICAgCiAgICAgICAgICAgIHZhciBjaXJjbGVfbWFya2VyXzdiNzhjOThhODJmODQyYjdhZDYwZWYxYjI0MTViYTE2ID0gTC5jaXJjbGVNYXJrZXIoCiAgICAgICAgICAgICAgICBbMjguNjEzODU5MiwgNzcuMjg5ODA2Ml0sCiAgICAgICAgICAgICAgICB7ImJ1YmJsaW5nTW91c2VFdmVudHMiOiB0cnVlLCAiY29sb3IiOiAiIzgwZmZiNCIsICJkYXNoQXJyYXkiOiBudWxsLCAiZGFzaE9mZnNldCI6IG51bGwsICJmaWxsIjogdHJ1ZSwgImZpbGxDb2xvciI6ICIjODBmZmI0IiwgImZpbGxPcGFjaXR5IjogMC43LCAiZmlsbFJ1bGUiOiAiZXZlbm9kZCIsICJsaW5lQ2FwIjogInJvdW5kIiwgImxpbmVKb2luIjogInJvdW5kIiwgIm9wYWNpdHkiOiAxLjAsICJyYWRpdXMiOiA1LCAic3Ryb2tlIjogdHJ1ZSwgIndlaWdodCI6IDN9CiAgICAgICAgICAgICkuYWRkVG8obWFwXzViZDRiMGQyYzBhODRlYmJiYjg1YWY3YjllMGQ4OGNiKTsKICAgICAgICAKICAgIAogICAgICAgIHZhciBwb3B1cF8yN2E2YTVjZGQ2NWI0MWExYTU5Y2NjMzc2ZTI4M2EwMyA9IEwucG9wdXAoeyJtYXhXaWR0aCI6ICIxMDAlIn0pOwoKICAgICAgICAKICAgICAgICAgICAgdmFyIGh0bWxfOGRhNGIzNDJlZTQ1NGY1ODkzMWQxZGE0ZTViMjAwY2QgPSAkKGA8ZGl2IGlkPSJodG1sXzhkYTRiMzQyZWU0NTRmNTg5MzFkMWRhNGU1YjIwMGNkIiBzdHlsZT0id2lkdGg6IDEwMC4wJTsgaGVpZ2h0OiAxMDAuMCU7Ij5FQVNUIERFTEhJIENsdXN0ZXIgMzwvZGl2PmApWzBdOwogICAgICAgICAgICBwb3B1cF8yN2E2YTVjZGQ2NWI0MWExYTU5Y2NjMzc2ZTI4M2EwMy5zZXRDb250ZW50KGh0bWxfOGRhNGIzNDJlZTQ1NGY1ODkzMWQxZGE0ZTViMjAwY2QpOwogICAgICAgIAoKICAgICAgICBjaXJjbGVfbWFya2VyXzdiNzhjOThhODJmODQyYjdhZDYwZWYxYjI0MTViYTE2LmJpbmRQb3B1cChwb3B1cF8yN2E2YTVjZGQ2NWI0MWExYTU5Y2NjMzc2ZTI4M2EwMykKICAgICAgICA7CgogICAgICAgIAogICAgCiAgICAKICAgICAgICAgICAgdmFyIGNpcmNsZV9tYXJrZXJfYmI2ZWJlODIyNTNmNGY1MTkxZmZiMGZhOGQwZGYzMzggPSBMLmNpcmNsZU1hcmtlcigKICAgICAgICAgICAgICAgIFsyOC42MzA4NDQ0NSwgNzcuMzA1OTUyMjMxMTA0NDddLAogICAgICAgICAgICAgICAgeyJidWJibGluZ01vdXNlRXZlbnRzIjogdHJ1ZSwgImNvbG9yIjogIiM4MGZmYjQiLCAiZGFzaEFycmF5IjogbnVsbCwgImRhc2hPZmZzZXQiOiBudWxsLCAiZmlsbCI6IHRydWUsICJmaWxsQ29sb3IiOiAiIzgwZmZiNCIsICJmaWxsT3BhY2l0eSI6IDAuNywgImZpbGxSdWxlIjogImV2ZW5vZGQiLCAibGluZUNhcCI6ICJyb3VuZCIsICJsaW5lSm9pbiI6ICJyb3VuZCIsICJvcGFjaXR5IjogMS4wLCAicmFkaXVzIjogNSwgInN0cm9rZSI6IHRydWUsICJ3ZWlnaHQiOiAzfQogICAgICAgICAgICApLmFkZFRvKG1hcF81YmQ0YjBkMmMwYTg0ZWJiYmI4NWFmN2I5ZTBkODhjYik7CiAgICAgICAgCiAgICAKICAgICAgICB2YXIgcG9wdXBfZGE1NDQ1ZmJkYmVlNDA2MzhkNzNkZTAxYTdkYzNlMTAgPSBMLnBvcHVwKHsibWF4V2lkdGgiOiAiMTAwJSJ9KTsKCiAgICAgICAgCiAgICAgICAgICAgIHZhciBodG1sXzlmZWQ2ZDVjNzU0ODQwN2RiZTQ0YWI5MWE4YWM4NWYzID0gJChgPGRpdiBpZD0iaHRtbF85ZmVkNmQ1Yzc1NDg0MDdkYmU0NGFiOTFhOGFjODVmMyIgc3R5bGU9IndpZHRoOiAxMDAuMCU7IGhlaWdodDogMTAwLjAlOyI+RUFTVCBERUxISSBDbHVzdGVyIDM8L2Rpdj5gKVswXTsKICAgICAgICAgICAgcG9wdXBfZGE1NDQ1ZmJkYmVlNDA2MzhkNzNkZTAxYTdkYzNlMTAuc2V0Q29udGVudChodG1sXzlmZWQ2ZDVjNzU0ODQwN2RiZTQ0YWI5MWE4YWM4NWYzKTsKICAgICAgICAKCiAgICAgICAgY2lyY2xlX21hcmtlcl9iYjZlYmU4MjI1M2Y0ZjUxOTFmZmIwZmE4ZDBkZjMzOC5iaW5kUG9wdXAocG9wdXBfZGE1NDQ1ZmJkYmVlNDA2MzhkNzNkZTAxYTdkYzNlMTApCiAgICAgICAgOwoKICAgICAgICAKICAgIAogICAgCiAgICAgICAgICAgIHZhciBjaXJjbGVfbWFya2VyXzI3MWE2Y2ZmNjc3YjQ0MWE4MmZkZTYyOWRkNDc0MDE4ID0gTC5jaXJjbGVNYXJrZXIoCiAgICAgICAgICAgICAgICBbMjguNjk0NjkzLCA3Ny4zMDY3MjddLAogICAgICAgICAgICAgICAgeyJidWJibGluZ01vdXNlRXZlbnRzIjogdHJ1ZSwgImNvbG9yIjogIiM4MGZmYjQiLCAiZGFzaEFycmF5IjogbnVsbCwgImRhc2hPZmZzZXQiOiBudWxsLCAiZmlsbCI6IHRydWUsICJmaWxsQ29sb3IiOiAiIzgwZmZiNCIsICJmaWxsT3BhY2l0eSI6IDAuNywgImZpbGxSdWxlIjogImV2ZW5vZGQiLCAibGluZUNhcCI6ICJyb3VuZCIsICJsaW5lSm9pbiI6ICJyb3VuZCIsICJvcGFjaXR5IjogMS4wLCAicmFkaXVzIjogNSwgInN0cm9rZSI6IHRydWUsICJ3ZWlnaHQiOiAzfQogICAgICAgICAgICApLmFkZFRvKG1hcF81YmQ0YjBkMmMwYTg0ZWJiYmI4NWFmN2I5ZTBkODhjYik7CiAgICAgICAgCiAgICAKICAgICAgICB2YXIgcG9wdXBfNDQ0NDliNTU2NjM4NDc1NmE2MjhkYzE0MTRkMDQzNDUgPSBMLnBvcHVwKHsibWF4V2lkdGgiOiAiMTAwJSJ9KTsKCiAgICAgICAgCiAgICAgICAgICAgIHZhciBodG1sX2IzYTgyNzg3MDk2MTRkNjE4OTE5NDk3NTZkODg5ZTMyID0gJChgPGRpdiBpZD0iaHRtbF9iM2E4Mjc4NzA5NjE0ZDYxODkxOTQ5NzU2ZDg4OWUzMiIgc3R5bGU9IndpZHRoOiAxMDAuMCU7IGhlaWdodDogMTAwLjAlOyI+RUFTVCBERUxISSBDbHVzdGVyIDM8L2Rpdj5gKVswXTsKICAgICAgICAgICAgcG9wdXBfNDQ0NDliNTU2NjM4NDc1NmE2MjhkYzE0MTRkMDQzNDUuc2V0Q29udGVudChodG1sX2IzYTgyNzg3MDk2MTRkNjE4OTE5NDk3NTZkODg5ZTMyKTsKICAgICAgICAKCiAgICAgICAgY2lyY2xlX21hcmtlcl8yNzFhNmNmZjY3N2I0NDFhODJmZGU2MjlkZDQ3NDAxOC5iaW5kUG9wdXAocG9wdXBfNDQ0NDliNTU2NjM4NDc1NmE2MjhkYzE0MTRkMDQzNDUpCiAgICAgICAgOwoKICAgICAgICAKICAgIAogICAgCiAgICAgICAgICAgIHZhciBjaXJjbGVfbWFya2VyXzJhMDQxNDI2ZTUyZTQ1MDNhNTI0MjdiZDcwYTZlNmMxID0gTC5jaXJjbGVNYXJrZXIoCiAgICAgICAgICAgICAgICBbMjguNzAzOTA1LCA3Ny4yODI0OTJdLAogICAgICAgICAgICAgICAgeyJidWJibGluZ01vdXNlRXZlbnRzIjogdHJ1ZSwgImNvbG9yIjogIiM4MGZmYjQiLCAiZGFzaEFycmF5IjogbnVsbCwgImRhc2hPZmZzZXQiOiBudWxsLCAiZmlsbCI6IHRydWUsICJmaWxsQ29sb3IiOiAiIzgwZmZiNCIsICJmaWxsT3BhY2l0eSI6IDAuNywgImZpbGxSdWxlIjogImV2ZW5vZGQiLCAibGluZUNhcCI6ICJyb3VuZCIsICJsaW5lSm9pbiI6ICJyb3VuZCIsICJvcGFjaXR5IjogMS4wLCAicmFkaXVzIjogNSwgInN0cm9rZSI6IHRydWUsICJ3ZWlnaHQiOiAzfQogICAgICAgICAgICApLmFkZFRvKG1hcF81YmQ0YjBkMmMwYTg0ZWJiYmI4NWFmN2I5ZTBkODhjYik7CiAgICAgICAgCiAgICAKICAgICAgICB2YXIgcG9wdXBfZDA0NDBmMWQ2NThlNDMzOWI5Mzg1ZjRkNTVlMTRjMDYgPSBMLnBvcHVwKHsibWF4V2lkdGgiOiAiMTAwJSJ9KTsKCiAgICAgICAgCiAgICAgICAgICAgIHZhciBodG1sXzkzMTE4NzRkOGE3NTQ5YzRhMmFmYzhkZDcwNTI0Mzc3ID0gJChgPGRpdiBpZD0iaHRtbF85MzExODc0ZDhhNzU0OWM0YTJhZmM4ZGQ3MDUyNDM3NyIgc3R5bGU9IndpZHRoOiAxMDAuMCU7IGhlaWdodDogMTAwLjAlOyI+RUFTVCBERUxISSBDbHVzdGVyIDM8L2Rpdj5gKVswXTsKICAgICAgICAgICAgcG9wdXBfZDA0NDBmMWQ2NThlNDMzOWI5Mzg1ZjRkNTVlMTRjMDYuc2V0Q29udGVudChodG1sXzkzMTE4NzRkOGE3NTQ5YzRhMmFmYzhkZDcwNTI0Mzc3KTsKICAgICAgICAKCiAgICAgICAgY2lyY2xlX21hcmtlcl8yYTA0MTQyNmU1MmU0NTAzYTUyNDI3YmQ3MGE2ZTZjMS5iaW5kUG9wdXAocG9wdXBfZDA0NDBmMWQ2NThlNDMzOWI5Mzg1ZjRkNTVlMTRjMDYpCiAgICAgICAgOwoKICAgICAgICAKICAgIAogICAgCiAgICAgICAgICAgIHZhciBjaXJjbGVfbWFya2VyXzViOTliYjc0ODk4YjQwZmE4ZjM0MDI0MzhkNTY0ODNlID0gTC5jaXJjbGVNYXJrZXIoCiAgICAgICAgICAgICAgICBbMjguNjY4MDg4NiwgNzcuMzEzNDYxNDkwNjk2NF0sCiAgICAgICAgICAgICAgICB7ImJ1YmJsaW5nTW91c2VFdmVudHMiOiB0cnVlLCAiY29sb3IiOiAiIzgwZmZiNCIsICJkYXNoQXJyYXkiOiBudWxsLCAiZGFzaE9mZnNldCI6IG51bGwsICJmaWxsIjogdHJ1ZSwgImZpbGxDb2xvciI6ICIjODBmZmI0IiwgImZpbGxPcGFjaXR5IjogMC43LCAiZmlsbFJ1bGUiOiAiZXZlbm9kZCIsICJsaW5lQ2FwIjogInJvdW5kIiwgImxpbmVKb2luIjogInJvdW5kIiwgIm9wYWNpdHkiOiAxLjAsICJyYWRpdXMiOiA1LCAic3Ryb2tlIjogdHJ1ZSwgIndlaWdodCI6IDN9CiAgICAgICAgICAgICkuYWRkVG8obWFwXzViZDRiMGQyYzBhODRlYmJiYjg1YWY3YjllMGQ4OGNiKTsKICAgICAgICAKICAgIAogICAgICAgIHZhciBwb3B1cF8wNjI4MTI3ZjlkZDQ0N2I0OTFkMDBhMzQ0M2FiZTkyZiA9IEwucG9wdXAoeyJtYXhXaWR0aCI6ICIxMDAlIn0pOwoKICAgICAgICAKICAgICAgICAgICAgdmFyIGh0bWxfM2RkZGUzNzVkZjAwNGRlNzlmMDQwMTBmYjVjZTZkMzAgPSAkKGA8ZGl2IGlkPSJodG1sXzNkZGRlMzc1ZGYwMDRkZTc5ZjA0MDEwZmI1Y2U2ZDMwIiBzdHlsZT0id2lkdGg6IDEwMC4wJTsgaGVpZ2h0OiAxMDAuMCU7Ij5FQVNUIERFTEhJIENsdXN0ZXIgMzwvZGl2PmApWzBdOwogICAgICAgICAgICBwb3B1cF8wNjI4MTI3ZjlkZDQ0N2I0OTFkMDBhMzQ0M2FiZTkyZi5zZXRDb250ZW50KGh0bWxfM2RkZGUzNzVkZjAwNGRlNzlmMDQwMTBmYjVjZTZkMzApOwogICAgICAgIAoKICAgICAgICBjaXJjbGVfbWFya2VyXzViOTliYjc0ODk4YjQwZmE4ZjM0MDI0MzhkNTY0ODNlLmJpbmRQb3B1cChwb3B1cF8wNjI4MTI3ZjlkZDQ0N2I0OTFkMDBhMzQ0M2FiZTkyZikKICAgICAgICA7CgogICAgICAgIAogICAgCiAgICAKICAgICAgICAgICAgdmFyIGNpcmNsZV9tYXJrZXJfNWQzOTI2ZTM1NjQzNDhiNmFhOTdkNzllZWI1NGNiM2IgPSBMLmNpcmNsZU1hcmtlcigKICAgICAgICAgICAgICAgIFsyOC42MDgwOTUwNSwgNzcuMzMwMzYxNTU5NDAxOTVdLAogICAgICAgICAgICAgICAgeyJidWJibGluZ01vdXNlRXZlbnRzIjogdHJ1ZSwgImNvbG9yIjogIiM4MGZmYjQiLCAiZGFzaEFycmF5IjogbnVsbCwgImRhc2hPZmZzZXQiOiBudWxsLCAiZmlsbCI6IHRydWUsICJmaWxsQ29sb3IiOiAiIzgwZmZiNCIsICJmaWxsT3BhY2l0eSI6IDAuNywgImZpbGxSdWxlIjogImV2ZW5vZGQiLCAibGluZUNhcCI6ICJyb3VuZCIsICJsaW5lSm9pbiI6ICJyb3VuZCIsICJvcGFjaXR5IjogMS4wLCAicmFkaXVzIjogNSwgInN0cm9rZSI6IHRydWUsICJ3ZWlnaHQiOiAzfQogICAgICAgICAgICApLmFkZFRvKG1hcF81YmQ0YjBkMmMwYTg0ZWJiYmI4NWFmN2I5ZTBkODhjYik7CiAgICAgICAgCiAgICAKICAgICAgICB2YXIgcG9wdXBfMmI1MzFmOTY5MzBmNDgxYWFkYzgyZmUwYzMxNzE5YTYgPSBMLnBvcHVwKHsibWF4V2lkdGgiOiAiMTAwJSJ9KTsKCiAgICAgICAgCiAgICAgICAgICAgIHZhciBodG1sXzMyODI4NDE1ZjVjMDQ3ZmU4NjhkZGRmZWZlZjU0M2E3ID0gJChgPGRpdiBpZD0iaHRtbF8zMjgyODQxNWY1YzA0N2ZlODY4ZGRkZmVmZWY1NDNhNyIgc3R5bGU9IndpZHRoOiAxMDAuMCU7IGhlaWdodDogMTAwLjAlOyI+RUFTVCBERUxISSBDbHVzdGVyIDM8L2Rpdj5gKVswXTsKICAgICAgICAgICAgcG9wdXBfMmI1MzFmOTY5MzBmNDgxYWFkYzgyZmUwYzMxNzE5YTYuc2V0Q29udGVudChodG1sXzMyODI4NDE1ZjVjMDQ3ZmU4NjhkZGRmZWZlZjU0M2E3KTsKICAgICAgICAKCiAgICAgICAgY2lyY2xlX21hcmtlcl81ZDM5MjZlMzU2NDM0OGI2YWE5N2Q3OWVlYjU0Y2IzYi5iaW5kUG9wdXAocG9wdXBfMmI1MzFmOTY5MzBmNDgxYWFkYzgyZmUwYzMxNzE5YTYpCiAgICAgICAgOwoKICAgICAgICAKICAgIAo8L3NjcmlwdD4= onload=\"this.contentDocument.open();this.contentDocument.write(atob(this.getAttribute('data-html')));this.contentDocument.close();\" allowfullscreen webkitallowfullscreen mozallowfullscreen></iframe></div></div>"
      ],
      "text/plain": [
       "<folium.folium.Map at 0x1d27701d0f0>"
      ]
     },
     "execution_count": 99,
     "metadata": {},
     "output_type": "execute_result"
    }
   ],
   "source": [
    "# create map\n",
    "map_clusters = folium.Map(location=[latitude, longitude], zoom_start=11)\n",
    "\n",
    "# set color scheme for the clusters\n",
    "x = np.arange(kclusters)\n",
    "ys = [i + x + (i*x)**2 for i in range(kclusters)]\n",
    "colors_array = cm.rainbow(np.linspace(0, 1, len(ys)))\n",
    "rainbow = [colors.rgb2hex(i) for i in colors_array]\n",
    "\n",
    "# add markers to the map\n",
    "markers_colors = []\n",
    "for lat, lon, poi, cluster in zip(delhi_merged['Latitude'], delhi_merged['Longitude'], delhi_merged['District'], delhi_merged['Cluster Labels']):\n",
    "    label = folium.Popup(str(poi) + ' Cluster ' + str(cluster), parse_html=True)\n",
    "    folium.CircleMarker(\n",
    "        [lat, lon],\n",
    "        radius=5,\n",
    "        popup=label,\n",
    "        color=rainbow[cluster-1],\n",
    "        fill=True,\n",
    "        fill_color=rainbow[cluster-1],\n",
    "        fill_opacity=0.7).add_to(map_clusters)\n",
    "       \n",
    "map_clusters"
   ]
  },
  {
   "cell_type": "markdown",
   "metadata": {},
   "source": [
    "## Conclusion"
   ]
  },
  {
   "cell_type": "markdown",
   "metadata": {},
   "source": [
    "Using foursquare api data, I tried to explore different postalcodes of Delhi, but the data was very limited, therefore I switched to districts and analyzed the venues available.\n",
    "During analysis of top venues in district, I found out the data is ambiguous also which can be seen while comparing step 4 and step 5. \n",
    "\n",
    "#### Lesson learnt\n",
    "This notebook is a very good reference and start point for me to further pursue exploration of Delhi, India from other data sources like google places api, and may be some local places providers."
   ]
  },
  {
   "cell_type": "code",
   "execution_count": null,
   "metadata": {},
   "outputs": [],
   "source": []
  }
 ],
 "metadata": {
  "kernelspec": {
   "display_name": "Python 3",
   "language": "python",
   "name": "python3"
  },
  "language_info": {
   "codemirror_mode": {
    "name": "ipython",
    "version": 3
   },
   "file_extension": ".py",
   "mimetype": "text/x-python",
   "name": "python",
   "nbconvert_exporter": "python",
   "pygments_lexer": "ipython3",
   "version": "3.7.0"
  }
 },
 "nbformat": 4,
 "nbformat_minor": 2
}
