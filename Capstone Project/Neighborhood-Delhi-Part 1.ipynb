{
 "cells": [
  {
   "cell_type": "markdown",
   "metadata": {},
   "source": [
    "# Introduction"
   ]
  },
  {
   "cell_type": "markdown",
   "metadata": {},
   "source": [
    "In this notebook, I will be leveraging foursquare location data to explore venues districts in Delhi, India. This will give me insights of what most popular venues are there in each district and the quantity/quality of data that Foursquare has of India."
   ]
  },
  {
   "cell_type": "markdown",
   "metadata": {},
   "source": [
    "#### Import required libraries"
   ]
  },
  {
   "cell_type": "code",
   "execution_count": 1,
   "metadata": {},
   "outputs": [],
   "source": [
    "import requests\n",
    "\n",
    "from bs4 import BeautifulSoup\n",
    "\n",
    "import pandas as pd\n",
    "\n",
    "import numpy as np\n",
    "\n",
    "from geopy.geocoders import Nominatim # convert an address into latitude and longitude values\n",
    "\n",
    "import requests # library to handle requests\n",
    "from pandas.io.json import json_normalize # tranform JSON file into a pandas dataframe\n",
    "\n",
    "# Matplotlib and associated plotting modules\n",
    "import matplotlib.cm as cm\n",
    "import matplotlib.colors as colors\n",
    "\n",
    "# import k-means from clustering stage\n",
    "from sklearn.cluster import KMeans\n",
    "\n",
    "#!pip install folium\n",
    "import folium # map rendering library"
   ]
  },
  {
   "cell_type": "markdown",
   "metadata": {},
   "source": [
    "On exploring internet, I found a blog which has information on all the PostalCodes of Delhi, which mentions district and corresponding neighborhoods as well. I will be reading the required information from the website. \n",
    "www.whatsuplife.in/delhi/blog/zip-pin-postal-code-pincodes-delhi"
   ]
  },
  {
   "cell_type": "code",
   "execution_count": null,
   "metadata": {},
   "outputs": [],
   "source": [
    "# Read the HTML page\n",
    "reponse = requests.get('https://www.whatsuplife.in/delhi/blog/zip-pin-postal-code-pincodes-delhi')\n",
    "soup = BeautifulSoup(reponse.content, 'html.parser')"
   ]
  },
  {
   "cell_type": "markdown",
   "metadata": {},
   "source": [
    "Get all the Districts"
   ]
  },
  {
   "cell_type": "code",
   "execution_count": 3,
   "metadata": {},
   "outputs": [
    {
     "data": {
      "text/plain": [
       "['CENTRAL DELHI',\n",
       " 'SOUTH DELHI',\n",
       " 'WEST DELHI',\n",
       " 'NORTH DELHI',\n",
       " 'EAST DELHI',\n",
       " 'SOUTH WEST DELHI',\n",
       " 'NORTH WEST DELHI']"
      ]
     },
     "execution_count": 3,
     "metadata": {},
     "output_type": "execute_result"
    }
   ],
   "source": [
    "headings = soup.findAll(\"h4\")\n",
    "districts = []\n",
    "for heading in headings:\n",
    "     if heading.findParent(\"h4\") is None:\n",
    "        districts.append(str(heading.text).replace(u'\\xa0', u' '))\n",
    "districts"
   ]
  },
  {
   "cell_type": "code",
   "execution_count": 8,
   "metadata": {},
   "outputs": [],
   "source": [
    "# Define the delhi dataframe\n",
    "delhi_df = pd.DataFrame(columns=['District','Neighborhood', 'PostalCode'])"
   ]
  },
  {
   "cell_type": "markdown",
   "metadata": {},
   "source": [
    "Read all the districts, postal codes and corresponding neighborhoods from the HTML"
   ]
  },
  {
   "cell_type": "code",
   "execution_count": 9,
   "metadata": {},
   "outputs": [
    {
     "name": "stdout",
     "output_type": "stream",
     "text": [
      "The shape of delhi dataframe  (425, 3)\n"
     ]
    }
   ],
   "source": [
    "tables = soup.findAll(\"table\")\n",
    "for table, district in zip(tables, districts):\n",
    "    trs = table.find_all('tr')\n",
    "    trs = [tr for tr in trs if len(tr.find_all('td')) == 2]\n",
    "    neighborhoods = []\n",
    "    postalcodes = []\n",
    "    dis = []\n",
    "    for tr in trs:\n",
    "        tds = tr.find_all('td')\n",
    "        postalcodes.append(tds[1].text)\n",
    "        neighborhoods.append(tds[0].text)\n",
    "        dis.append(district)\n",
    "    df = pd.DataFrame(list(zip(dis, neighborhoods, postalcodes)), columns=['District','Neighborhood', 'PostalCode'])\n",
    "    delhi_df = delhi_df.append(df)\n",
    "    \n",
    "print(\"The shape of delhi dataframe \", delhi_df.shape)"
   ]
  },
  {
   "cell_type": "code",
   "execution_count": 10,
   "metadata": {},
   "outputs": [
    {
     "data": {
      "text/html": [
       "<div>\n",
       "<style scoped>\n",
       "    .dataframe tbody tr th:only-of-type {\n",
       "        vertical-align: middle;\n",
       "    }\n",
       "\n",
       "    .dataframe tbody tr th {\n",
       "        vertical-align: top;\n",
       "    }\n",
       "\n",
       "    .dataframe thead th {\n",
       "        text-align: right;\n",
       "    }\n",
       "</style>\n",
       "<table border=\"1\" class=\"dataframe\">\n",
       "  <thead>\n",
       "    <tr style=\"text-align: right;\">\n",
       "      <th></th>\n",
       "      <th>District</th>\n",
       "      <th>Neighborhood</th>\n",
       "      <th>PostalCode</th>\n",
       "    </tr>\n",
       "  </thead>\n",
       "  <tbody>\n",
       "    <tr>\n",
       "      <th>0</th>\n",
       "      <td>CENTRAL DELHI</td>\n",
       "      <td>A.G.c.r.</td>\n",
       "      <td>110002</td>\n",
       "    </tr>\n",
       "    <tr>\n",
       "      <th>1</th>\n",
       "      <td>CENTRAL DELHI</td>\n",
       "      <td>A.K.market</td>\n",
       "      <td>110055</td>\n",
       "    </tr>\n",
       "    <tr>\n",
       "      <th>2</th>\n",
       "      <td>CENTRAL DELHI</td>\n",
       "      <td>Ajmeri Gate extn.</td>\n",
       "      <td>110002</td>\n",
       "    </tr>\n",
       "    <tr>\n",
       "      <th>3</th>\n",
       "      <td>CENTRAL DELHI</td>\n",
       "      <td>Anand Parbat</td>\n",
       "      <td>110005</td>\n",
       "    </tr>\n",
       "    <tr>\n",
       "      <th>4</th>\n",
       "      <td>CENTRAL DELHI</td>\n",
       "      <td>Anand Parbat indl. area</td>\n",
       "      <td>110005</td>\n",
       "    </tr>\n",
       "  </tbody>\n",
       "</table>\n",
       "</div>"
      ],
      "text/plain": [
       "        District             Neighborhood PostalCode\n",
       "0  CENTRAL DELHI                 A.G.c.r.     110002\n",
       "1  CENTRAL DELHI               A.K.market     110055\n",
       "2  CENTRAL DELHI        Ajmeri Gate extn.     110002\n",
       "3  CENTRAL DELHI             Anand Parbat     110005\n",
       "4  CENTRAL DELHI  Anand Parbat indl. area     110005"
      ]
     },
     "execution_count": 10,
     "metadata": {},
     "output_type": "execute_result"
    }
   ],
   "source": [
    "# Read first five rows\n",
    "delhi_df.head()"
   ]
  },
  {
   "cell_type": "markdown",
   "metadata": {},
   "source": [
    "As you can see above, there are mulitple neighborhoods in same PostalCode and same District.\n",
    "\n",
    "Below I will check the unique counts of each"
   ]
  },
  {
   "cell_type": "code",
   "execution_count": 11,
   "metadata": {},
   "outputs": [
    {
     "data": {
      "text/html": [
       "<div>\n",
       "<style scoped>\n",
       "    .dataframe tbody tr th:only-of-type {\n",
       "        vertical-align: middle;\n",
       "    }\n",
       "\n",
       "    .dataframe tbody tr th {\n",
       "        vertical-align: top;\n",
       "    }\n",
       "\n",
       "    .dataframe thead th {\n",
       "        text-align: right;\n",
       "    }\n",
       "</style>\n",
       "<table border=\"1\" class=\"dataframe\">\n",
       "  <thead>\n",
       "    <tr style=\"text-align: right;\">\n",
       "      <th></th>\n",
       "      <th>District</th>\n",
       "      <th>Neighborhood</th>\n",
       "      <th>PostalCode</th>\n",
       "    </tr>\n",
       "  </thead>\n",
       "  <tbody>\n",
       "    <tr>\n",
       "      <th>count</th>\n",
       "      <td>425</td>\n",
       "      <td>425</td>\n",
       "      <td>425</td>\n",
       "    </tr>\n",
       "    <tr>\n",
       "      <th>unique</th>\n",
       "      <td>7</td>\n",
       "      <td>424</td>\n",
       "      <td>84</td>\n",
       "    </tr>\n",
       "    <tr>\n",
       "      <th>top</th>\n",
       "      <td>SOUTH DELHI</td>\n",
       "      <td>Shivaji Park</td>\n",
       "      <td>110001</td>\n",
       "    </tr>\n",
       "    <tr>\n",
       "      <th>freq</th>\n",
       "      <td>77</td>\n",
       "      <td>2</td>\n",
       "      <td>19</td>\n",
       "    </tr>\n",
       "  </tbody>\n",
       "</table>\n",
       "</div>"
      ],
      "text/plain": [
       "           District  Neighborhood PostalCode\n",
       "count           425           425        425\n",
       "unique            7           424         84\n",
       "top     SOUTH DELHI  Shivaji Park     110001\n",
       "freq             77             2         19"
      ]
     },
     "execution_count": 11,
     "metadata": {},
     "output_type": "execute_result"
    }
   ],
   "source": [
    "delhi_df.describe()"
   ]
  },
  {
   "cell_type": "markdown",
   "metadata": {},
   "source": [
    "So there are 7 Unique Districts, 424 Unique Neighborhoods and 84 Unique PostalCodes"
   ]
  },
  {
   "cell_type": "markdown",
   "metadata": {},
   "source": [
    "Now lets join the neihborhoods, based on common PostalCode so that we have list of neighborhoods in one cell that correspond to a PostalCode"
   ]
  },
  {
   "cell_type": "code",
   "execution_count": 14,
   "metadata": {},
   "outputs": [
    {
     "data": {
      "text/plain": [
       "{'District': 'first',\n",
       " 'Neighborhood': <function __main__.<lambda>(x)>,\n",
       " 'PostalCode': 'first'}"
      ]
     },
     "execution_count": 14,
     "metadata": {},
     "output_type": "execute_result"
    }
   ],
   "source": [
    "strjoin = lambda x: ', '.join(set(x))\n",
    "agg_functions = {'District': 'first', 'Neighborhood': strjoin, 'PostalCode': 'first'}\n",
    "agg_functions"
   ]
  },
  {
   "cell_type": "code",
   "execution_count": 16,
   "metadata": {},
   "outputs": [
    {
     "data": {
      "text/html": [
       "<div>\n",
       "<style scoped>\n",
       "    .dataframe tbody tr th:only-of-type {\n",
       "        vertical-align: middle;\n",
       "    }\n",
       "\n",
       "    .dataframe tbody tr th {\n",
       "        vertical-align: top;\n",
       "    }\n",
       "\n",
       "    .dataframe thead th {\n",
       "        text-align: right;\n",
       "    }\n",
       "</style>\n",
       "<table border=\"1\" class=\"dataframe\">\n",
       "  <thead>\n",
       "    <tr style=\"text-align: right;\">\n",
       "      <th></th>\n",
       "      <th>District</th>\n",
       "      <th>Neighborhood</th>\n",
       "      <th>PostalCode</th>\n",
       "    </tr>\n",
       "  </thead>\n",
       "  <tbody>\n",
       "    <tr>\n",
       "      <th>0</th>\n",
       "      <td>CENTRAL DELHI</td>\n",
       "      <td>Connaught Place, Bengali Market, Janpath, Nort...</td>\n",
       "      <td>110001</td>\n",
       "    </tr>\n",
       "    <tr>\n",
       "      <th>1</th>\n",
       "      <td>CENTRAL DELHI</td>\n",
       "      <td>Indraprastha, Gandhi Smarak nidhi, Darya Ganj,...</td>\n",
       "      <td>110002</td>\n",
       "    </tr>\n",
       "    <tr>\n",
       "      <th>2</th>\n",
       "      <td>CENTRAL DELHI</td>\n",
       "      <td>Pandara Road, Pragati Vihar, Delhi High court,...</td>\n",
       "      <td>110003</td>\n",
       "    </tr>\n",
       "    <tr>\n",
       "      <th>3</th>\n",
       "      <td>CENTRAL DELHI</td>\n",
       "      <td>Rashtrapati Bhawan</td>\n",
       "      <td>110004</td>\n",
       "    </tr>\n",
       "    <tr>\n",
       "      <th>4</th>\n",
       "      <td>CENTRAL DELHI</td>\n",
       "      <td>Bank Street, Sat Nagar, Desh Bandhu gupta road...</td>\n",
       "      <td>110005</td>\n",
       "    </tr>\n",
       "  </tbody>\n",
       "</table>\n",
       "</div>"
      ],
      "text/plain": [
       "        District                                       Neighborhood PostalCode\n",
       "0  CENTRAL DELHI  Connaught Place, Bengali Market, Janpath, Nort...     110001\n",
       "1  CENTRAL DELHI  Indraprastha, Gandhi Smarak nidhi, Darya Ganj,...     110002\n",
       "2  CENTRAL DELHI  Pandara Road, Pragati Vihar, Delhi High court,...     110003\n",
       "3  CENTRAL DELHI                                 Rashtrapati Bhawan     110004\n",
       "4  CENTRAL DELHI  Bank Street, Sat Nagar, Desh Bandhu gupta road...     110005"
      ]
     },
     "execution_count": 16,
     "metadata": {},
     "output_type": "execute_result"
    }
   ],
   "source": [
    "delhi_cleaned_df = delhi_df.groupby(delhi_df['PostalCode']).aggregate(agg_functions)\n",
    "delhi_cleaned_df = delhi_cleaned_df.reset_index(drop=True)\n",
    "delhi_cleaned_df.head()"
   ]
  },
  {
   "cell_type": "markdown",
   "metadata": {},
   "source": [
    "Check again for unique counts"
   ]
  },
  {
   "cell_type": "code",
   "execution_count": 17,
   "metadata": {},
   "outputs": [
    {
     "data": {
      "text/html": [
       "<div>\n",
       "<style scoped>\n",
       "    .dataframe tbody tr th:only-of-type {\n",
       "        vertical-align: middle;\n",
       "    }\n",
       "\n",
       "    .dataframe tbody tr th {\n",
       "        vertical-align: top;\n",
       "    }\n",
       "\n",
       "    .dataframe thead th {\n",
       "        text-align: right;\n",
       "    }\n",
       "</style>\n",
       "<table border=\"1\" class=\"dataframe\">\n",
       "  <thead>\n",
       "    <tr style=\"text-align: right;\">\n",
       "      <th></th>\n",
       "      <th>District</th>\n",
       "      <th>Neighborhood</th>\n",
       "      <th>PostalCode</th>\n",
       "    </tr>\n",
       "  </thead>\n",
       "  <tbody>\n",
       "    <tr>\n",
       "      <th>count</th>\n",
       "      <td>84</td>\n",
       "      <td>84</td>\n",
       "      <td>84</td>\n",
       "    </tr>\n",
       "    <tr>\n",
       "      <th>unique</th>\n",
       "      <td>7</td>\n",
       "      <td>84</td>\n",
       "      <td>84</td>\n",
       "    </tr>\n",
       "    <tr>\n",
       "      <th>top</th>\n",
       "      <td>SOUTH WEST DELHI</td>\n",
       "      <td>Daulatpur, Baprola, Dichaoal Kalan, Dulsiras, ...</td>\n",
       "      <td>110062</td>\n",
       "    </tr>\n",
       "    <tr>\n",
       "      <th>freq</th>\n",
       "      <td>22</td>\n",
       "      <td>1</td>\n",
       "      <td>1</td>\n",
       "    </tr>\n",
       "  </tbody>\n",
       "</table>\n",
       "</div>"
      ],
      "text/plain": [
       "                District                                       Neighborhood  \\\n",
       "count                 84                                                 84   \n",
       "unique                 7                                                 84   \n",
       "top     SOUTH WEST DELHI  Daulatpur, Baprola, Dichaoal Kalan, Dulsiras, ...   \n",
       "freq                  22                                                  1   \n",
       "\n",
       "       PostalCode  \n",
       "count          84  \n",
       "unique         84  \n",
       "top        110062  \n",
       "freq            1  "
      ]
     },
     "execution_count": 17,
     "metadata": {},
     "output_type": "execute_result"
    }
   ],
   "source": [
    "delhi_cleaned_df.describe()"
   ]
  },
  {
   "cell_type": "markdown",
   "metadata": {},
   "source": [
    "I will use Nominatim library to get Latitude, Longitude of each PostalCode in Delhi"
   ]
  },
  {
   "cell_type": "code",
   "execution_count": 18,
   "metadata": {},
   "outputs": [
    {
     "name": "stdout",
     "output_type": "stream",
     "text": [
      "The geograpical coordinate of Delhi are 28.6517178, 77.2219388.\n"
     ]
    }
   ],
   "source": [
    "locator = Nominatim(user_agent='myGeocoder')\n",
    "location = locator.geocode('Delhi, India')\n",
    "latitude = location.latitude\n",
    "longitude = location.longitude\n",
    "print('The geograpical coordinate of Delhi are {}, {}.'.format(latitude, longitude))"
   ]
  },
  {
   "cell_type": "code",
   "execution_count": null,
   "metadata": {},
   "outputs": [],
   "source": [
    "# Since this does not work all the time, it is better to save the data when successfully retrieved.\n",
    "from time import sleep\n",
    "\n",
    "def get_lat_lon(postal_code):\n",
    "    location = locator.geocode('{}, Delhi, India'.format(postal_code))\n",
    "    sleep(2)\n",
    "    return (location.latitude, location.longitude)\n",
    "\n",
    "ll_df = pd.DataFrame(columns=['PostalCode', 'Latitude', 'Longitude'])\n",
    "\n",
    "pcodes = []\n",
    "lat_list = []\n",
    "lon_list = []\n",
    "\n",
    "for postal_code in delhi_cleaned_df['PostalCode']:\n",
    "    lat, lon = get_lat_lon(postal_code)\n",
    "    pcodes.append(postal_code)\n",
    "    lat_list.append(lat)\n",
    "    lon_list.append(lon)"
   ]
  },
  {
   "cell_type": "code",
   "execution_count": null,
   "metadata": {},
   "outputs": [],
   "source": [
    "ll_df['PostalCode'] = pcodes\n",
    "ll_df['Latitude'] = lat_list\n",
    "ll_df['Longitude'] = lon_list"
   ]
  },
  {
   "cell_type": "code",
   "execution_count": 32,
   "metadata": {},
   "outputs": [
    {
     "data": {
      "text/html": [
       "<div>\n",
       "<style scoped>\n",
       "    .dataframe tbody tr th:only-of-type {\n",
       "        vertical-align: middle;\n",
       "    }\n",
       "\n",
       "    .dataframe tbody tr th {\n",
       "        vertical-align: top;\n",
       "    }\n",
       "\n",
       "    .dataframe thead th {\n",
       "        text-align: right;\n",
       "    }\n",
       "</style>\n",
       "<table border=\"1\" class=\"dataframe\">\n",
       "  <thead>\n",
       "    <tr style=\"text-align: right;\">\n",
       "      <th></th>\n",
       "      <th>PostalCode</th>\n",
       "      <th>Latitude</th>\n",
       "      <th>Longitude</th>\n",
       "    </tr>\n",
       "  </thead>\n",
       "  <tbody>\n",
       "    <tr>\n",
       "      <th>0</th>\n",
       "      <td>110002</td>\n",
       "      <td>28.640964</td>\n",
       "      <td>77.245468</td>\n",
       "    </tr>\n",
       "    <tr>\n",
       "      <th>1</th>\n",
       "      <td>110055</td>\n",
       "      <td>28.652506</td>\n",
       "      <td>77.213391</td>\n",
       "    </tr>\n",
       "    <tr>\n",
       "      <th>2</th>\n",
       "      <td>110005</td>\n",
       "      <td>28.650529</td>\n",
       "      <td>77.189018</td>\n",
       "    </tr>\n",
       "    <tr>\n",
       "      <th>3</th>\n",
       "      <td>110001</td>\n",
       "      <td>28.651718</td>\n",
       "      <td>77.221939</td>\n",
       "    </tr>\n",
       "    <tr>\n",
       "      <th>4</th>\n",
       "      <td>110008</td>\n",
       "      <td>28.656175</td>\n",
       "      <td>77.162460</td>\n",
       "    </tr>\n",
       "  </tbody>\n",
       "</table>\n",
       "</div>"
      ],
      "text/plain": [
       "   PostalCode   Latitude  Longitude\n",
       "0      110002  28.640964  77.245468\n",
       "1      110055  28.652506  77.213391\n",
       "2      110005  28.650529  77.189018\n",
       "3      110001  28.651718  77.221939\n",
       "4      110008  28.656175  77.162460"
      ]
     },
     "execution_count": 32,
     "metadata": {},
     "output_type": "execute_result"
    }
   ],
   "source": [
    "#if above is not a success\n",
    "ll_df = pd.read_csv('Postcode_lat_lon.csv', index_col=0)\n",
    "ll_df.head()"
   ]
  },
  {
   "cell_type": "markdown",
   "metadata": {},
   "source": [
    "Add these to delhi dataframe"
   ]
  },
  {
   "cell_type": "code",
   "execution_count": 37,
   "metadata": {},
   "outputs": [],
   "source": [
    "delhi_cleaned_df['PostalCode'] = delhi_cleaned_df.PostalCode.astype(int)"
   ]
  },
  {
   "cell_type": "code",
   "execution_count": 38,
   "metadata": {},
   "outputs": [],
   "source": [
    "delhi_cleaned_df = delhi_cleaned_df.join(ll_df.set_index('PostalCode'), on='PostalCode')"
   ]
  },
  {
   "cell_type": "code",
   "execution_count": 39,
   "metadata": {},
   "outputs": [
    {
     "data": {
      "text/html": [
       "<div>\n",
       "<style scoped>\n",
       "    .dataframe tbody tr th:only-of-type {\n",
       "        vertical-align: middle;\n",
       "    }\n",
       "\n",
       "    .dataframe tbody tr th {\n",
       "        vertical-align: top;\n",
       "    }\n",
       "\n",
       "    .dataframe thead th {\n",
       "        text-align: right;\n",
       "    }\n",
       "</style>\n",
       "<table border=\"1\" class=\"dataframe\">\n",
       "  <thead>\n",
       "    <tr style=\"text-align: right;\">\n",
       "      <th></th>\n",
       "      <th>District</th>\n",
       "      <th>Neighborhood</th>\n",
       "      <th>PostalCode</th>\n",
       "      <th>Latitude</th>\n",
       "      <th>Longitude</th>\n",
       "    </tr>\n",
       "  </thead>\n",
       "  <tbody>\n",
       "    <tr>\n",
       "      <th>0</th>\n",
       "      <td>CENTRAL DELHI</td>\n",
       "      <td>Connaught Place, Bengali Market, Janpath, Nort...</td>\n",
       "      <td>110001</td>\n",
       "      <td>28.651718</td>\n",
       "      <td>77.221939</td>\n",
       "    </tr>\n",
       "    <tr>\n",
       "      <th>1</th>\n",
       "      <td>CENTRAL DELHI</td>\n",
       "      <td>Indraprastha, Gandhi Smarak nidhi, Darya Ganj,...</td>\n",
       "      <td>110002</td>\n",
       "      <td>28.640964</td>\n",
       "      <td>77.245468</td>\n",
       "    </tr>\n",
       "    <tr>\n",
       "      <th>2</th>\n",
       "      <td>CENTRAL DELHI</td>\n",
       "      <td>Pandara Road, Pragati Vihar, Delhi High court,...</td>\n",
       "      <td>110003</td>\n",
       "      <td>28.598731</td>\n",
       "      <td>77.222996</td>\n",
       "    </tr>\n",
       "    <tr>\n",
       "      <th>3</th>\n",
       "      <td>CENTRAL DELHI</td>\n",
       "      <td>Rashtrapati Bhawan</td>\n",
       "      <td>110004</td>\n",
       "      <td>28.616082</td>\n",
       "      <td>77.204501</td>\n",
       "    </tr>\n",
       "    <tr>\n",
       "      <th>4</th>\n",
       "      <td>CENTRAL DELHI</td>\n",
       "      <td>Bank Street, Sat Nagar, Desh Bandhu gupta road...</td>\n",
       "      <td>110005</td>\n",
       "      <td>28.650529</td>\n",
       "      <td>77.189018</td>\n",
       "    </tr>\n",
       "  </tbody>\n",
       "</table>\n",
       "</div>"
      ],
      "text/plain": [
       "        District                                       Neighborhood  \\\n",
       "0  CENTRAL DELHI  Connaught Place, Bengali Market, Janpath, Nort...   \n",
       "1  CENTRAL DELHI  Indraprastha, Gandhi Smarak nidhi, Darya Ganj,...   \n",
       "2  CENTRAL DELHI  Pandara Road, Pragati Vihar, Delhi High court,...   \n",
       "3  CENTRAL DELHI                                 Rashtrapati Bhawan   \n",
       "4  CENTRAL DELHI  Bank Street, Sat Nagar, Desh Bandhu gupta road...   \n",
       "\n",
       "   PostalCode   Latitude  Longitude  \n",
       "0      110001  28.651718  77.221939  \n",
       "1      110002  28.640964  77.245468  \n",
       "2      110003  28.598731  77.222996  \n",
       "3      110004  28.616082  77.204501  \n",
       "4      110005  28.650529  77.189018  "
      ]
     },
     "execution_count": 39,
     "metadata": {},
     "output_type": "execute_result"
    }
   ],
   "source": [
    "delhi_cleaned_df.head()"
   ]
  },
  {
   "cell_type": "markdown",
   "metadata": {},
   "source": [
    "Save this file to use in Part 2"
   ]
  },
  {
   "cell_type": "code",
   "execution_count": 40,
   "metadata": {},
   "outputs": [],
   "source": [
    "delhi_cleaned_df.to_csv(\"Delhi.csv\")"
   ]
  },
  {
   "cell_type": "code",
   "execution_count": 52,
   "metadata": {},
   "outputs": [
    {
     "data": {
      "text/plain": [
       "District\n",
       "CENTRAL DELHI       12\n",
       "EAST DELHI          10\n",
       "NORTH DELHI          3\n",
       "NORTH WEST DELHI    14\n",
       "SOUTH DELHI         13\n",
       "SOUTH WEST DELHI    22\n",
       "WEST DELHI          10\n",
       "Name: District, dtype: int64"
      ]
     },
     "execution_count": 52,
     "metadata": {},
     "output_type": "execute_result"
    }
   ],
   "source": [
    "delhi_cleaned_df.groupby('District')['District'].count()"
   ]
  },
  {
   "cell_type": "code",
   "execution_count": 54,
   "metadata": {},
   "outputs": [
    {
     "data": {
      "text/plain": [
       "<matplotlib.axes._subplots.AxesSubplot at 0x1d2768ecd30>"
      ]
     },
     "execution_count": 54,
     "metadata": {},
     "output_type": "execute_result"
    },
    {
     "data": {
      "image/png": "[encoded data removed]",
      "text/plain": [
       "<Figure size 432x288 with 1 Axes>"
      ]
     },
     "metadata": {
      "needs_background": "light"
     },
     "output_type": "display_data"
    }
   ],
   "source": [
    "delhi_cleaned_df.groupby('District')['District'].count().plot.bar()"
   ]
  },
  {
   "cell_type": "markdown",
   "metadata": {},
   "source": [
    "Create a map of delhi with all the postalcodes/neighborhoods"
   ]
  },
  {
   "cell_type": "code",
   "execution_count": 55,
   "metadata": {},
   "outputs": [
    {
     "data": {
      "text/html": [
       "<div style=\"width:100%;\"><div style=\"position:relative;width:100%;height:0;padding-bottom:60%;\"><span style=\"color:#565656\">Make this Notebook Trusted to load map: File -> Trust Notebook</span><iframe src=\"about:blank\" style=\"position:absolute;width:100%;height:100%;left:0;top:0;border:none !important;\" data-html=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 onload=\"this.contentDocument.open();this.contentDocument.write(atob(this.getAttribute('data-html')));this.contentDocument.close();\" allowfullscreen webkitallowfullscreen mozallowfullscreen></iframe></div></div>"
      ],
      "text/plain": [
       "<folium.folium.Map at 0x1d2768eccc0>"
      ]
     },
     "execution_count": 55,
     "metadata": {},
     "output_type": "execute_result"
    }
   ],
   "source": [
    "# create map of Delhi using latitude and longitude values\n",
    "map_delhi = folium.Map(location=[latitude, longitude], zoom_start=10)\n",
    "\n",
    "# add markers to map\n",
    "for lat, lng, district, neighborhood in zip(delhi_cleaned_df['Latitude'], delhi_cleaned_df['Longitude'], delhi_cleaned_df['District'], delhi_cleaned_df['Neighborhood']):\n",
    "    label = '{}, {}'.format(neighborhood, district)\n",
    "    label = folium.Popup(label, parse_html=True)\n",
    "    folium.CircleMarker(\n",
    "        [lat, lng],\n",
    "        radius=5,\n",
    "        popup=label,\n",
    "        color='blue',\n",
    "        fill=True,\n",
    "        fill_color='#3186cc',\n",
    "        fill_opacity=0.7,\n",
    "        parse_html=False).add_to(map_delhi)  \n",
    "    \n",
    "map_delhi"
   ]
  },
  {
   "cell_type": "markdown",
   "metadata": {},
   "source": [
    "I will be using the above obtained data to figure out the venue data that foursquare has and can we find some insights among different districts of Delhi."
   ]
  },
  {
   "cell_type": "code",
   "execution_count": null,
   "metadata": {},
   "outputs": [],
   "source": []
  }
 ],
 "metadata": {
  "kernelspec": {
   "display_name": "Python 3",
   "language": "python",
   "name": "python3"
  },
  "language_info": {
   "codemirror_mode": {
    "name": "ipython",
    "version": 3
   },
   "file_extension": ".py",
   "mimetype": "text/x-python",
   "name": "python",
   "nbconvert_exporter": "python",
   "pygments_lexer": "ipython3",
   "version": "3.7.0"
  }
 },
 "nbformat": 4,
 "nbformat_minor": 2
}
