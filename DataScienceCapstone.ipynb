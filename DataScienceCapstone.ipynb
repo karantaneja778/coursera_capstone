{
    "cells": [
        {
            "cell_type": "markdown",
            "metadata": {
                "collapsed": true
            },
            "source": "# Applied Data Science Capstone Project"
        },
        {
            "cell_type": "markdown",
            "metadata": {},
            "source": "This notebook will be used for the capstone project that is the final part of my IBM Data Science Professonial Certification from Coursera.\nIt is a great beginner's course to learn about -\n1. What is Data Science?\n2. The theory/concept behind Data Science and how it can be used to find answers to many difficult problems\n3. Hands on python programming\n4. Data analysis with python\n5. Data visualizations with python\n6. Machine learning with python\n\n*Note this course gives a headstart to many wonderful areas/topics in the data world and should not be treated as a full fledge specialization.\n\nYou can review the details of this course at [IBM Data Science Professional Certificate](https://www.coursera.org/professional-certificates/ibm-data-science)"
        },
        {
            "cell_type": "code",
            "execution_count": 1,
            "metadata": {},
            "outputs": [
                {
                    "name": "stdout",
                    "output_type": "stream",
                    "text": "Hellp Capstone Project Course\n"
                }
            ],
            "source": "# Importing pandas and Numpy library\nimport pandas as pd\nimport numpy as np\n\nprint(\"Hellp Capstone Project Course\")"
        }
    ],
    "metadata": {
        "kernelspec": {
            "display_name": "Python 3.6",
            "language": "python",
            "name": "python3"
        },
        "language_info": {
            "codemirror_mode": {
                "name": "ipython",
                "version": 3
            },
            "file_extension": ".py",
            "mimetype": "text/x-python",
            "name": "python",
            "nbconvert_exporter": "python",
            "pygments_lexer": "ipython3",
            "version": "3.6.9"
        }
    },
    "nbformat": 4,
    "nbformat_minor": 1
}